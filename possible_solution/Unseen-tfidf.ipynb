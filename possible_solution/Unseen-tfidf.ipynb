{
 "cells": [
  {
   "cell_type": "code",
   "execution_count": 33,
   "id": "fae75211-bdfa-4239-bdbb-b75580f16a25",
   "metadata": {},
   "outputs": [],
   "source": [
    "import matplotlib.pyplot as plt\n",
    "%matplotlib inline\n",
    "import pandas as pd\n",
    "import numpy as np\n",
    "import pickle\n",
    "from ckiptagger import data_utils, construct_dictionary, WS, POS, NER\n",
    "import re\n",
    "import jieba"
   ]
  },
  {
   "cell_type": "code",
   "execution_count": 34,
   "id": "0471cb66-3923-4173-9a1b-2fa725c9b84d",
   "metadata": {},
   "outputs": [
    {
     "data": {
      "text/html": [
       "<div>\n",
       "<style scoped>\n",
       "    .dataframe tbody tr th:only-of-type {\n",
       "        vertical-align: middle;\n",
       "    }\n",
       "\n",
       "    .dataframe tbody tr th {\n",
       "        vertical-align: top;\n",
       "    }\n",
       "\n",
       "    .dataframe thead th {\n",
       "        text-align: right;\n",
       "    }\n",
       "</style>\n",
       "<table border=\"1\" class=\"dataframe\">\n",
       "  <thead>\n",
       "    <tr style=\"text-align: right;\">\n",
       "      <th></th>\n",
       "      <th>course_id</th>\n",
       "      <th>course_name</th>\n",
       "      <th>teacher_intro</th>\n",
       "      <th>groups</th>\n",
       "      <th>sub_groups</th>\n",
       "      <th>groups+subgroups</th>\n",
       "      <th>topics</th>\n",
       "      <th>description</th>\n",
       "      <th>will_learn</th>\n",
       "      <th>required_tools</th>\n",
       "      <th>recommended_background</th>\n",
       "      <th>target_group</th>\n",
       "    </tr>\n",
       "  </thead>\n",
       "  <tbody>\n",
       "    <tr>\n",
       "      <th>0</th>\n",
       "      <td>61888e868f154b000781b45a</td>\n",
       "      <td>少女人妻華麗變身：七大妝容七彩的夢幻樂園</td>\n",
       "      <td>在美妝 KOL 圈裡屬個人風格強烈的 Alice，在清新與叛逆風格間遊刃有餘，其幽默的美妝影...</td>\n",
       "      <td>生活品味</td>\n",
       "      <td>更多生活品味,護膚保養與化妝</td>\n",
       "      <td>生活品味更多生活品味,生活品味護膚保養與化妝</td>\n",
       "      <td>更多生活品味,護膚保養與化妝</td>\n",
       "      <td>少女人妻第一堂線上課程，跟著我一起華麗變身！在社群上許多人經常問我：「為什麼人妻畫的妝那麼好...</td>\n",
       "      <td>不再害怕各種顏色的彩妝，可以更隨心搭配各種繽紛的顏色。</td>\n",
       "      <td>所需工具為：視課程實際會用到的彩妝用品</td>\n",
       "      <td>只要你有一顆愛化妝、想變漂亮的心皆可以參加。⚠️ 雖然課程當中會帶到相關彩妝技巧，不過內容偏...</td>\n",
       "      <td>熱愛彩妝的人</td>\n",
       "    </tr>\n",
       "    <tr>\n",
       "      <th>1</th>\n",
       "      <td>54d5a117065a7e0e00725ac0</td>\n",
       "      <td>幾何圖形分割 X 色塊組合</td>\n",
       "      <td>從學生時代開始摸索photoshop等軟體，自以為有些天賦但後來發現其實沒有。出社會後從事美...</td>\n",
       "      <td>藝術,設計</td>\n",
       "      <td>平面設計,繪畫與插畫</td>\n",
       "      <td>設計平面設計,藝術繪畫與插畫</td>\n",
       "      <td>Illustrator/以拉,配色技巧</td>\n",
       "      <td>這是一個有趣的小技巧，主要利用illustrator裡面的&amp;quot;分割“這個功能，我已經...</td>\n",
       "      <td>可以將任何區塊分割成自己想要的幾何圖形、快速的上色，並且能夠應用在許多地方</td>\n",
       "      <td>Adobe Illustrator（必備）, camera</td>\n",
       "      <td>知道如何使用Illustrator的基本工具列</td>\n",
       "      <td>每一位興趣的人都能學得來，非常容易的小技巧</td>\n",
       "    </tr>\n",
       "  </tbody>\n",
       "</table>\n",
       "</div>"
      ],
      "text/plain": [
       "                  course_id           course_name  \\\n",
       "0  61888e868f154b000781b45a  少女人妻華麗變身：七大妝容七彩的夢幻樂園   \n",
       "1  54d5a117065a7e0e00725ac0         幾何圖形分割 X 色塊組合   \n",
       "\n",
       "                                       teacher_intro groups      sub_groups  \\\n",
       "0  在美妝 KOL 圈裡屬個人風格強烈的 Alice，在清新與叛逆風格間遊刃有餘，其幽默的美妝影...   生活品味  更多生活品味,護膚保養與化妝   \n",
       "1  從學生時代開始摸索photoshop等軟體，自以為有些天賦但後來發現其實沒有。出社會後從事美...  藝術,設計      平面設計,繪畫與插畫   \n",
       "\n",
       "         groups+subgroups               topics  \\\n",
       "0  生活品味更多生活品味,生活品味護膚保養與化妝       更多生活品味,護膚保養與化妝   \n",
       "1          設計平面設計,藝術繪畫與插畫  Illustrator/以拉,配色技巧   \n",
       "\n",
       "                                         description  \\\n",
       "0  少女人妻第一堂線上課程，跟著我一起華麗變身！在社群上許多人經常問我：「為什麼人妻畫的妝那麼好...   \n",
       "1  這是一個有趣的小技巧，主要利用illustrator裡面的&quot;分割“這個功能，我已經...   \n",
       "\n",
       "                              will_learn                 required_tools  \\\n",
       "0            不再害怕各種顏色的彩妝，可以更隨心搭配各種繽紛的顏色。            所需工具為：視課程實際會用到的彩妝用品   \n",
       "1  可以將任何區塊分割成自己想要的幾何圖形、快速的上色，並且能夠應用在許多地方  Adobe Illustrator（必備）, camera   \n",
       "\n",
       "                              recommended_background           target_group  \n",
       "0  只要你有一顆愛化妝、想變漂亮的心皆可以參加。⚠️ 雖然課程當中會帶到相關彩妝技巧，不過內容偏...                 熱愛彩妝的人  \n",
       "1                            知道如何使用Illustrator的基本工具列  每一位興趣的人都能學得來，非常容易的小技巧  "
      ]
     },
     "execution_count": 34,
     "metadata": {},
     "output_type": "execute_result"
    }
   ],
   "source": [
    "course_df_original = pd.read_csv('../data/courses.csv').fillna('')\n",
    "course_df = course_df_original.drop(['course_id', 'teacher_id', 'course_published_at_local', 'course_published_at_local', 'course_price'], axis=1)\n",
    "course_df['description'] = course_df['description'].replace('([\\<]).*?([\\>])','',regex=True)\n",
    "course_df = course_df.replace('\\n', '',regex=True)\n",
    "course_df = course_df.replace('[\\d_]', '',regex=True).astype(str)\n",
    "course_df.insert(0, 'course_id', course_df_original['course_id'])\n",
    "course_df[:2]"
   ]
  },
  {
   "cell_type": "code",
   "execution_count": 35,
   "id": "485fda6f-bd9f-40f8-8dc9-0192f82ca8d6",
   "metadata": {},
   "outputs": [],
   "source": [
    "from sklearn.feature_extraction.text import CountVectorizer\n",
    "from sklearn.metrics.pairwise import cosine_similarity\n",
    "from sklearn.feature_extraction.text import TfidfVectorizer\n",
    "from sklearn.metrics.pairwise import linear_kernel\n",
    "import datetime\n",
    "from scipy.sparse import csr_matrix"
   ]
  },
  {
   "cell_type": "code",
   "execution_count": 36,
   "id": "b6f33558-2248-48ae-97e9-705c49119c3b",
   "metadata": {},
   "outputs": [
    {
     "data": {
      "text/html": [
       "<div>\n",
       "<style scoped>\n",
       "    .dataframe tbody tr th:only-of-type {\n",
       "        vertical-align: middle;\n",
       "    }\n",
       "\n",
       "    .dataframe tbody tr th {\n",
       "        vertical-align: top;\n",
       "    }\n",
       "\n",
       "    .dataframe thead th {\n",
       "        text-align: right;\n",
       "    }\n",
       "</style>\n",
       "<table border=\"1\" class=\"dataframe\">\n",
       "  <thead>\n",
       "    <tr style=\"text-align: right;\">\n",
       "      <th></th>\n",
       "      <th>course_id</th>\n",
       "      <th>text</th>\n",
       "    </tr>\n",
       "  </thead>\n",
       "  <tbody>\n",
       "    <tr>\n",
       "      <th>0</th>\n",
       "      <td>61888e868f154b000781b45a</td>\n",
       "      <td>61888e868f154b000781b45a 少女人妻華麗變身：七大妝容七彩的夢幻樂園 ...</td>\n",
       "    </tr>\n",
       "    <tr>\n",
       "      <th>1</th>\n",
       "      <td>54d5a117065a7e0e00725ac0</td>\n",
       "      <td>54d5a117065a7e0e00725ac0 幾何圖形分割 X 色塊組合 從學生時代開始...</td>\n",
       "    </tr>\n",
       "    <tr>\n",
       "      <th>2</th>\n",
       "      <td>54d5d9952246e60a009ec571</td>\n",
       "      <td>54d5d9952246e60a009ec571 數位拼貼的手感 自由工作者，致力於品牌視覺...</td>\n",
       "    </tr>\n",
       "    <tr>\n",
       "      <th>3</th>\n",
       "      <td>54d7148a2246e60a009ec588</td>\n",
       "      <td>54d7148a2246e60a009ec588 Line 的貼圖自己動手做！ 我是Dann...</td>\n",
       "    </tr>\n",
       "    <tr>\n",
       "      <th>4</th>\n",
       "      <td>5513e92b38239d10005778e1</td>\n",
       "      <td>5513e92b38239d10005778e1 為申請學校或工作寫好英文自傳 在北美長大，...</td>\n",
       "    </tr>\n",
       "  </tbody>\n",
       "</table>\n",
       "</div>"
      ],
      "text/plain": [
       "                  course_id                                               text\n",
       "0  61888e868f154b000781b45a  61888e868f154b000781b45a 少女人妻華麗變身：七大妝容七彩的夢幻樂園 ...\n",
       "1  54d5a117065a7e0e00725ac0  54d5a117065a7e0e00725ac0 幾何圖形分割 X 色塊組合 從學生時代開始...\n",
       "2  54d5d9952246e60a009ec571  54d5d9952246e60a009ec571 數位拼貼的手感 自由工作者，致力於品牌視覺...\n",
       "3  54d7148a2246e60a009ec588  54d7148a2246e60a009ec588 Line 的貼圖自己動手做！ 我是Dann...\n",
       "4  5513e92b38239d10005778e1  5513e92b38239d10005778e1 為申請學校或工作寫好英文自傳 在北美長大，..."
      ]
     },
     "execution_count": 36,
     "metadata": {},
     "output_type": "execute_result"
    }
   ],
   "source": [
    "info = []\n",
    "for i in range(course_df.shape[0]):\n",
    "    t = course_df.loc[i, :].values.flatten().tolist()\n",
    "    info.append([t[0], ' '.join(t)])\n",
    "info = pd.DataFrame(info, columns = ['course_id', 'text'])\n",
    "info[:5]"
   ]
  },
  {
   "cell_type": "code",
   "execution_count": 37,
   "id": "bd539f55-8c57-4c53-80ed-db09f7a8e6c1",
   "metadata": {},
   "outputs": [
    {
     "name": "stderr",
     "output_type": "stream",
     "text": [
      "/Library/Frameworks/Python.framework/Versions/3.10/lib/python3.10/site-packages/ckiptagger/model_ws.py:106: UserWarning: `tf.nn.rnn_cell.LSTMCell` is deprecated and will be removed in a future version. This class is equivalent as `tf.keras.layers.LSTMCell`, and will be replaced by that in Tensorflow 2.0.\n",
      "  cell = tf.compat.v1.nn.rnn_cell.LSTMCell(hidden_d, name=name)\n"
     ]
    }
   ],
   "source": [
    "ws = WS('./ckip/data')"
   ]
  },
  {
   "cell_type": "code",
   "execution_count": 38,
   "id": "6d8826fc-65c1-439b-aeb2-c95c7622cb90",
   "metadata": {},
   "outputs": [
    {
     "name": "stderr",
     "output_type": "stream",
     "text": [
      "/Library/Frameworks/Python.framework/Versions/3.10/lib/python3.10/site-packages/sklearn/utils/deprecation.py:87: FutureWarning: Function get_feature_names is deprecated; get_feature_names is deprecated in 1.0 and will be removed in 1.2. Please use get_feature_names_out instead.\n",
      "  warnings.warn(msg, category=FutureWarning)\n"
     ]
    }
   ],
   "source": [
    "tfidf_ml = TfidfVectorizer()\n",
    "tfidf_ml.fit(info.text)\n",
    "\n",
    "# TF-IDF Dicitonary\n",
    "dictionary = dict(zip(tfidf_ml.get_feature_names_out(), list(tfidf_ml.idf_)))\n",
    "\n",
    "# feature name\n",
    "tfidf_feature = tfidf_ml.get_feature_names()"
   ]
  },
  {
   "cell_type": "code",
   "execution_count": 39,
   "id": "1ee5c58f-00a7-4f89-8096-5302baab5753",
   "metadata": {},
   "outputs": [
    {
     "data": {
      "text/plain": [
       "174321"
      ]
     },
     "execution_count": 39,
     "metadata": {},
     "output_type": "execute_result"
    }
   ],
   "source": [
    "len(dictionary.keys())"
   ]
  },
  {
   "cell_type": "code",
   "execution_count": 40,
   "id": "f1e164ea-ddf2-4e1e-a9e1-65089869a87e",
   "metadata": {},
   "outputs": [
    {
     "data": {
      "text/plain": [
       "['54d5a117065a7e0e00725ac0',\n",
       " '54d5d9952246e60a009ec571',\n",
       " '54d7148a2246e60a009ec588',\n",
       " '54f1268f4ec3c809002e4a29',\n",
       " '551171a938239d1000577864',\n",
       " '551198a738239d1000577870',\n",
       " '5513e92b38239d10005778e1',\n",
       " '551a6be023774e0a001eb20c',\n",
       " '55307d94d530a90a00a3a896',\n",
       " '55599687dfe21b0a00e776d9']"
      ]
     },
     "execution_count": 40,
     "metadata": {},
     "output_type": "execute_result"
    }
   ],
   "source": [
    "tfidf_feature[:10]"
   ]
  },
  {
   "cell_type": "code",
   "execution_count": 41,
   "id": "84eb6810-f442-4ed7-b331-eba3371740d7",
   "metadata": {},
   "outputs": [],
   "source": [
    "# #Construct the required TF-IDF matrix by fitting and transforming the data\n",
    "# vectorizer = TfidfVectorizer(stop_words= 'english')\n",
    "# tfidf_matrix = vectorizer.fit_transform(info)\n",
    "\n",
    "# #print(tfidf.vocabulary_)\n",
    "# tfidf_matrix_nd = tfidf_matrix.T.toarray()\n",
    "# #np.save('tfidf_embedding/item_embeddings_english.npy', tfidf_matrix_nd)\n",
    "# df = pd.DataFrame(tfidf_matrix_nd, index=vectorizer.get_feature_names_out ())"
   ]
  },
  {
   "cell_type": "code",
   "execution_count": 373,
   "id": "bfda1a05-d89d-46a7-bee2-0abb20940746",
   "metadata": {},
   "outputs": [
    {
     "name": "stdout",
     "output_type": "stream",
     "text": [
      "['-', '.', '/', '%', 'Python', 'Hahow', ':', '|', '單元', 'Excel', 'D', 'Google', '&amp;', 'AI', '與', 'Email', '+', '▶', 'UX', '//', ',', 'Photoshop', 'Adobe', 'App', '或', 'IG', '~', '��', 'and', 'UI', 'APP', 'Studio', 'DJ', 'Facebook', 'x', '年', '生活品味', 'AE', 'Mac', '#NAME?', 'FB', 'SEO', 'Power', 'Android', 'the', 'ETF', '(', '的', '和', 'to', 'Podcast', 'Windows', '—', 'PS', 'A', 'CSS', 'of', '職場技能', '到', 'ZBrush', 'Spring', '►', '～', 'JavaScript', 'YouTube', 'VBA', 'Word', ')', '程式', 'R', 'email', '及', 'NFT', 'AutoCAD', '藝術', 'After', 'Data', '→', 'Youtube', '➤', '章節', 'Unity', 'Notion', '&gt;', 'CC', ':��', 'BI', '轉帳」付款的朋友，在下訂單後也要在規定期限內「完成付款」才算符合資格喔！填寫資訊僅供該次贈禮通知使用，Hahow', 'X', '使用', 'Java', 'Tableau', 'Coupon', 'API', 'iOS', '一人', '｜選擇付款資訊第二項「兌換', 'Procreate', '人', '｜填寫「收取另外兩組課程兌換序號的', '｜購買人請於課程頁面點選「馬上預購」，進入「課程購買頁面」STEP', 'Web', 'Point', '信箱」（購買人信箱）STEP', '｜選擇「付款方式」與「發票選項」並按下「送出」STEP', '–', '注意事項', 'B', '位學習好夥伴，並選出一位夥伴作為「購買人」STEP', 'Docker', 'Inventor', '章', '％', 'for', 'BIM', 'in', 'SQL', '()', 'NT$', 'RFM', 'M', 'Bootstrap', 'Logo', '人同行', 'Pro', '併用。➢', 'a', 'AWS', '、', 'Git', 'Apple', '•', 'Design', '語言', 'GA', 'Boot', 'is', '重點', '對', 'Illustrator', 'Instagram', '設計', 'PowerPoint', 'PPT', 'UI/UX', 'iPad', 'Microsoft', 'K', '攝影', '教學影片：', 'Linux', 'GAS', '－', 'Nuomi', '影片➢', '人同行方案購買與兌換課程方式》STEP', '｜首先，你需要先找好另外', 'you', 'Kotlin', 'Laravel', '&', 'E-mail', 'I', '投資理財', 'HTML', '▶︎', 'app', '註：選擇以「超商繳費」或「ATM', 'Effects', '繪畫與插畫', '藝術繪畫與插畫', 'TQC+', '」STEP', '更多生活品味', '購買時間：//～//', 'vs', '｜完成付款後，購買人即可進入「我的課程」頁面，於「我修的課」區塊，確認課程！並請千萬記得另外', 'Premiere', '➢', 'IP', 'jQuery', 'Line', '▶️', 'Keynote', '音樂', '=', 'AutoLisp', '購買三人同行優惠方案之後要怎麼兌換：影片', 'by', 'EMBA', 'Medium', 'Office', '填寫截止日為', 'Chrome', '以及', 'The', '——', '請務必參考下方注意事項欄位，完成付款、填寫', '＆', 'C++', '#', 'Github', '︎▶︎', 'Looker', '：', '天結束的那一刻】��', 'N', '?', '解鎖', '英文', '藝術,設計', 'Figma', 'con-call', 'Sketch', '重要提醒：', 'C', 'Taiwan', 'on', 'LINE', '在', '$', 'Kaggle', 'DBA', '名', '手作', 'PTT', 'WiX', '!', 'CD', 'IE', '行銷', '烹飪料理與甜點', 'IT', '生活品味烹飪料理與甜點', 'PM', 'Firebase', 'RWD', 'Team', 'FAQQ：購買後，要在哪裡填收件資訊呢？A：按下「馬上預購」後，將導向「付款資訊」頁面，最下方即可填寫聯繫資訊', '購買流程：期限內購買本課程的同學，請務必於結帳流程正確填妥收件資訊，並完成付款！��', 'CP', 'Live', 'Analytics', 'Azure', '跟', 'Tip', 'Server', '(價值', ';', 'be', '從', '實作示範', 'from', 'PHP', 'Scrum', 'S', 'b.', 'PRO', 'with', '章節內容重點：▶', 'NG', '前', '募資金額', '月', 'Motion', 'ChatBot', 'Part', 'Ai', 'Canvas與特效動畫-', '語言英文', '年年爆滿的一門', 'Navisworks', '課程公佈欄上，同時以', 'HTML、CSS', '至', '����', '&lt;project', 'Node.js', '*', 'JavaScript程式基礎', '⭐', 'Learning', 'Graphics', 'InDesign', 'or', '▲', 'at', 'Manage', 'cm', '通知中獎同學，請中獎同學於', '位好夥伴還在等待他們的課程兌換序號喲～快去信箱收信吧註：三人同行方案為特殊優惠方案，僅限募資期間，無法與', 'Script', '快去信箱收信吧！註：三人同行方案為特殊優惠方案，僅限募資期間，無法與', '數位行銷', 'Bonus', '職場溝通', 'EC', 'ê', 'your', '職場技能職場溝通', 'TMR', '利用', 'Q&amp;A', '生活品味更多生活品味', 'Katie', '作業', 'MV', 'an', 'Adam', '為', 'EXCEL', '抽', 'MT', 'logo', 'WordPress', '$,', 'Coding', '─', '無', '特邀', '日文', 'MM', 'Log', 'HTML/CSS快速入門', 'OTT', 'LOGO', '手作小物', 'c.', '用', '】', 'Graphic', '一台', '：如何確認自己有沒有付款成功呢？A', '或是', 'Voice', 'Spotify', 'MultiCharts', '➡️', 'EDM', 'Code', 'C#', 'Cloud', '設計平面設計,藝術電腦繪圖', '財經', '向外探尋、精心挑選進來的優質課程', '，讓渴望深度學習的你，在', 'Visual', 'we', 'International', '平面設計,電腦繪圖', 'Guest', '安裝', '學會', '募資達', '老師', 'Windows/Mac', '元)Bonus', '元件', '//（五）晚上', '開始學', 'Q', '),', '商業攝影', 'will', 'GTM', 'it', 'iPhone', '程式語言', '運動', '於', 'l', '生活品味運動', 'MG', 'Store', 'No.', 'photoshop', 'Hank', '..', 'Logic', '×', '-&gt;', 'Apps', '心靈成長與教育,更多生活品味', 'feat.', 'Xd', 'YouTuber', 'script', '註', 'MQL', 'Evernote', 'about', 'Clarence', 'Banner', 'CLN', '｜找到另外', '｜完成付款後，購買人即可進入「我的課程」頁面，於「我修的課」區塊，確認課程！另外別忘記還有', '位好夥伴在等待他們的課程兌換序號～', 'PDF', 'How', 'Tina', '攝影商業攝影', 'SunGuts', 'IF', 'css', '元，共抽出', 'Eleader', 'CS', 'Javascript', 'are', '投資觀念,金融商品', '✨', 'GIS', '★', 'FREE', 'Gym', '了解', 'SOP', '投資理財投資觀念,投資理財金融商品', '��【單元', '實作', '呼朋引伴來學習！如何購買三人同行？詳細的教學請詳閱《', 'Sublime', 'Rocket', '台北', 'Fungus', 'Anaconda', 'Wu', '➜', '人文,職場技能', 'English', 'Con-call', 'J', '\"', 'Pandas', 'Mr.', '我是', 'Mockup', 'LinkedIn', '是', '入門', 'talk', 'T', '募資達成率累計至「課程募資', 'SOHO', '製作', '單元：', 'Query', 'lymma', '✔', '學會使用', '備註：選擇以「超商繳費」或「ATM', 'FAQQ：購買後，要在哪裡填收件資訊呢？按下「馬上預購」後，將導向「付款資訊」頁面，於結帳頁面勾選「我要參加本課程贈獎／抽獎活動，同意將以下資料提供給', '調整售價至', 'Map', 'Award', 'Jason', 'FAQQ', 'Boss', '生活品味心靈成長與教育,生活品味更多生活品味', 'IntelliJ', '①', '【', '影像創作', '人解鎖', 'Paint', 'Voyager', 'Taipei', '-：Docker', '冠軍', 'Function', '人文', 'Model', '～單元', '認證', 'Machine', '。', 'google', '投資理財,程式', '瞭解', 'VS', '頻道', '甜點製作', '更多職場技能', 'code', '具備', '(名額', 'MacOS', 'Qualatex', 'Kevin', '樂器', '親子教育', '｜', 'CBDC', '·', '(單元', 'Zunni', '與老師一直都很重視同學的學習體驗，因此本課程已於', 'TODO', 'Colab', '音樂樂器', 'Key', 'python', '.x', 'Today', 'Blender', '-：建立與使用Docker', 'ACA', '學員', '平面設計', '更多生活品味,親子教育', 'PChome', '生活品味更多生活品味,生活品味親子教育', '購買時間：//', 'Cubase', 'Native', '威力導演', '創業', 'email、寄送地址相關程序', 'Hugo', '程式,職場技能', '是由', '動態攝影', '電腦需要安裝', '＠', '投資觀念', '元', '.%', 'AE/MG', '心靈成長與教育', 'Seagate', 'TED', 'MySQL', 'If', '介紹', 'Autodesk', 'illustrator', '，', '程式AI', '投資觀念,理財', '年增加新的課程內容，老師也會持續維護與經營本課程，請同學放心加入！..', '程式,設計', '課程更新・好課長青Hahow', '基礎HTML/CSS', 'Cake', 'no.', 'GitHub', 'subdivision', '職場技能,行銷', 'LMS', '文學', 'Ying', '好學校', 'but', 'my', 'have', 'Zzifanz', 'Rachel', 'Wacom', 'Red', '◆', 'offer', '以', 'Animation', 'To', 'CEO', 'Swift', 'Talk', 'Elite', '物件導向', '-)◆', 'Bass', 'Yuma', '組', 'We', 'Youtuber', 'Hahow、本課程教師以及配合的行銷及物流公司，並僅供此次活動使用」即可參加抽獎（如下圖）。並請正確填寫「姓名」、「收件地址」、「聯絡用電子信箱」，若因資訊錯誤導致無法認證或寄送不到，恕無法取得抽獎資格。⬇️', '職場技能,語言', '請注意填妥「縣市」、「郵遞區號」！若因地址植入錯誤導致寄送不到，團隊保有最後寄送權利', '：請問購買後，要在哪裡填收件資訊呢？A', 'part', 'New', '刺繡', 'Text', 'Fintech', 'as', 'Balloon', '設計動態設計', '動態設計', '.°', 'Art', 'Yoga', '教學影片：影片➢', ',」STEP', '實戰演練', 'that', '行銷數位行銷', 'going', '通知給中獎同學，請中獎同學於', '若要參加抽獎，務必於「付款資訊」頁面填寫以下資料喔！Q：如何確認自己有沒有付款成功呢？完成購課流程後，請點選「網頁右上方的大頭貼」進入「訂單記錄」頁面，於「訂單狀況」的欄位顯示「完成付款」的訂單即代表付款成功喔！||', '本開課講師保有解鎖活動最終解釋權，亦有修改解鎖活動內容的權利', '烹飪料理', '若要參加抽獎，務必於以下「付款資訊」頁面填寫聯繫', '人抽', '分鐘', 'Jabra', '✏︎', '職場技能創業', '位好夥伴還在等待他們的課程兌換序號喲～快去信箱收信吧！註：三人同行方案為特殊優惠方案，僅限募資期間，無法與', '前端進階程式js', 'HTML/CSS', '募資達到', 'Canvas', 'QA', 'VLOOKUP', 'MongoDB', '(四)', '行銷資料科學', 'Revit', '求職', '職場技能求職', 'Illustration', '個', 'TOEFL', 'G', 'Paddy', '擔任', 'Harmony', '金融商品', '投資理財金融商品', 'Fitness', 'MGBoom', '專題實作', 'Lightroom', 'React', '}', '(The', 'STP', 'GB', '擁有更多選擇！價格保證「合作優選課程」讓你放心！只要你可以在其他網站以更低的價格購買到相同課程，我們將協助全額退費，詳細說明請參考相關政策。', '時，我們將抽出', 'Google,', 'Jupyter', '-：Dockerfile', 'Linkedin', '爬蟲與', '觀念解說▶︎', 'can', 'TOEIC', '什麼是', 'Bitcoin', 'all', 'me', '氣球', 'Active', '攝影,藝術,設計', '入門特訓', 'XD', '語言日文', '更多職場技能,產品設計', '音樂音樂創作', '音樂創作', 'what', 'hahow', 'youtube', '字串與陣列', 'Word、PowerPoint', 'Lily', 'PC', 'Step', '認證教育家第', '電腦繪圖', '系統性管理開發', 'DIY', '吉他', '應用設計', '設計應用設計', '透過', '本課程將以', 'Flow', 'Top', '教學', 'Heroku', '職場溝通,英文', '職場技能職場溝通,語言英文', 'facebook', 'Cut', '人物插畫', '臉書', 'Hi', '文案', '>', 'Lesson', 'TV', '手作手作小物', 'Chat', 'MediBang', '前端基礎動畫互動', 'Word、Excel', 'KOL', '-（Enemy）-', '轉帳」付款的朋友，在下訂單後也要在規定期限內「完成付款」才算符合資格喔！填寫資訊僅供該次抽獎通知使用，Hahow', '[講者自製]', 'email、地址等相關程序。', 'Level', '//（三）晚上', 'Open', '活動獎項之寄送地址僅限臺灣本島地區（不含澎、金、馬等離島和海外），海外或離島同學請提供臺灣寄送地址。', '認證練習平台', 'STEP', '熟悉', '名，月搜尋量', 'Otta', 'step', '可於網路通路購入', 'Clip', '(User', '效率提升', 'Sonny', '購買時間：募資上架日起至', '期間✏️', ')單元', '與授課老師團隊皆不會將學員填寫的資訊做其他用途。＊', '：按下「馬上預購」後，將導向「付款資訊」頁面，最下方即是收件資訊填答欄位，請參考下方附圖一。所有欄位請務必正確填寫，若因資訊錯誤導致寄送不到，恕不補寄。Q', '情境式語法介紹', '寵物', 'STUDIO', '行銷策略之', 'Toonboom', 'PMP', 'NEW', '單元：【', '：UX', 'Amazon', '勾', 'Product', '天結束的那一刻」��', 'Sony', '更多職場技能,社會科學', '其他提醒事項：.', '步驟', '精選內容：-', 'CRM', '前購課', '年的', '名��', '募資達標', 'Big', 'Lucy', '分鐘、', 'mm', 'list', '位好夥伴還在等待他們的課程兌換序號喲～', '➞', 'Workshop', '中午', 'Chapter', '與老師皆不會將學員填寫的收件資訊做其他用途。►', 'Steve', 'OXO', 'Hello', 'Expression', 'Ableton', 'IDEA', 'Best', '原則上不用，不過當然需要一台觀看課程的筆電、平板或任一手機。如果需要紙跟筆做筆記，當然很歡迎準備！', '成為', '第', '設計平面設計', 'Magic', '抽出', 'Before', 'Image', '運用', 'project', 'Jazz', 'DOM', '&lt;Project', '%（', 'View', '(Data', '介紹單元', 'Know', '以上', 'Me', '℃', '綁定社群帳號', 'Science', 'NLP', 'Reading', 'Chang', 'Bot', 'side', '介紹與設置-', 'Gmail', 'Painn', 'Computer', '帳號密碼', '開發', 'PO', 'design', 'Irene', '講者', '＋', 'windows', '\"\"', '三人同行', '%，將抽出', '人）', '共', '資料分析', '會員⋯⋯點按彈跳視窗右上角的【快速註冊】你可以透過建立', '如果你還不是', 'Codepen', 'bonus', 'Java關鍵字和方法', 'v.s', '變數、資料型態和運算子', 'html', 'cc', 'iMovie', '分', 'macOS', 'more', 'right', '產品設計', '職場技能更多職場技能,職場技能產品設計', '美國', 'studio', 'Raw', 'Asset', 'Media', '電腦.', '度', 'VR', 'Notebook', '本開課講師保有解鎖活動最終解釋權，亦有修改解鎖活動內容的權利。.', 'Systems', 'Hadoop', 'Hive', 'B】', 'Pinkoi', '）', 'Rose', '--', '●', 'Cosplay', 'think', '-：SEO', '時，將抽出', 'Party', 'those', '基礎', 'Illustrator、Photoshop', '我是筆名人渣文本的專欄作家周偉航，希望能把各種學術專業知識以最簡單實用的方式告訴大家~現正於UDN鳴人堂、商周、蘋果日報、壹週刊、Ettoday等媒體撰寫專欄，並擔任新媒體《渣誌》之經營者，同時也是輔仁大學兼任助理教授。', '人，抽', 'Developer', 'this', '✅', '投資觀念,股票', '{', '進階單元', 'am', 'Defi', 'Bill', 'MacroMicro', 'Sherry', 'Nick', '若要參加抽獎，務必於下方「付款資訊」頁面填寫聯繫', 'pompom', 'HEAT', '位', '(Use', 'INTERNATIONAL', 'than', '居家', '實戰範例：NodeJS', 'Line@', 'food', 'Then', 'JSON', '操作基礎與事件處理', 'II', '更多生活品味,護膚保養與化妝', '系列與', 'Event', '韓文', 'BI)', 'not', '課》A', 'XX', 'small', ':－//', '解鎖：NodeJS', 'It', '網頁資料擷取與分析', 'go', '將抽出', 'My', 'Case)', 'up', '資料科學', '英文口說', '行銷學：用', '行銷資料科學書籍大贈送，講師（共同作者）將抽出', '所示。▲圖', '職場技能,設計', 'if', 'work', 'JLPT', 'Mobile', 'PLANET', 'Ryu', 'Knitting', 'pro', 'Jquery', '程式資料科學', '與老師皆不會將學員填寫的收件資訊做其他用途。⬇️', 'Search', '若有任何疑問，請在課程問答區提出。常見問題', 'SDE', \"Marin's\", 'Ph.', '怪獸工場', 'attend', '親子天下起源於雜誌媒體和書籍出版，進而擴大成為華文圈影響力最大的教育教養品牌，也是最值得信賴的親子社群平台。', '萬', '插畫視覺', '[來自基礎課程]', '\",', '藝術電腦繪圖', '位同學', 'POPO', 'Vol.', '恤：', 'Tails', '名漫威正版', '狗兒家庭教育學院', '創意', '後背包：', '時尚插畫', '位同學購課', '擁有更多選擇！價格保證「合作優選課程」讓你放心！只要你可以在其他網站以更低的價格購買到相同課程，我們將協助全額退費，詳細說明請參考相關政策', 'slides：https://www.slidescarnival.com/', 'providing', '音樂理論', 'DockerFile', '精心設計的免費課程，透過攝影、藝術與設計、影片、編碼、音樂和其他各種主題的實作活動來激發每個人的創造力，致力於和', '的培訓師以及在地的專業創意人一起運用', ':.', 'Based', '訣竅', '請務必正確填妥', 'Hackathon', '個人品牌經營,社群行銷', '購買與付款時間：//～//', 'Webflow', 'email，請參考下方附圖。Q：如何確認自己有沒有付款成功呢？A：完成購課流程後，請點選「網頁右上方的大頭貼」進入「訂單記錄」頁面，於「訂單狀況」的欄位顯示「完成付款」的訂單即代表付款成功喔！＊', 'KADOYA', 'sass', '重要提醒：-', 'Mars', '燈具的選擇單元', '場景狀況解說單元', '章～第', 'COVID-', '資訊呢？按下「馬上預購」後，將導向「付款資訊」頁面，於結帳頁面勾選「我要參加本活動，同意將以下資料提供給', '位學員可以獲得：禮物', '手工印刷', '這是一堂輕鬆分享的社課，參與者不需具備專業的背景知識喔！', '點開課，開課後即可回到此頁面觀看課程課程是預先錄製好的影片，若當天無法準時看課沒有關係，開課之後不限時間、不限次數都能上課你之後可以在「我的課程」頁面找到，並回到這堂課程小提醒：社課無回覆與作業機制這堂社課沒有作業，也並無老師回覆機制，不過歡迎大家於「問題討論區」留言交流喲～', '將在', '認識', 'A】', '實現更多可能，解鎖自己的創意潛能。', 'iPhone、iPad', '晚上', 'List', '系列軟體：Word', '[進階]', '生活品味靈性發展', 'Markdown', 'Intelligent', 'Synergies', '攝影影像創作', '人文文學', 'Python,Python', 'Desktop', 'Sketches', '個人網站', 'PayPal', '生活品味,職場技能', 'level', 'Day', 'B+C', '粉絲專頁', '軟體', 'Business', 'Year', 'A/B', 'Story', '#:', '������', 'Color', '更多手作', 'John', '社會科學', '」', 'Certified', '前）。.', 'Vue.js', 'Narcos', '職場技能更多職場技能', 'University', 'Alex', '等', '效率提升,資料彙整', 'div', 'a.', '致力於引領企業用外語佈局全球、教導學員以外語提升競爭力，讓客戶自在使用外語的同時，亦深刻體會外語豐富其生命的美好。服務項目包含企業英文培訓、主題課程、專案口筆譯等。', 'word', '：{', '(Netflix),', 'QR', '影片拍攝剪輯', '試看', '大家好，我是', '社團學習與實作', 'Dance', '(HBO),', 'Ethereum', 'Galaxy', 'AB', 'Vue.js前端資料框架-', 'JetBrains', 'Four', 'Nutcracker', 'Call', '電腦技能基金會(CSF)深耕認證領域三十年，發展各項能力認證，已成為全國最大、最具公信力的認證機構，扮演銜接學校學習及職場實務應用的重要角色，同時用以協助政府與企業電子化創新應用，推廣及培育社會大眾資訊、網路及無線通訊應用能力，提升國家整體競爭力為宗旨。推動以「務實致用」為核心理念。目前國內已有家大專校院及高中職建教合作、擁有家授權訓練中心，服務網絡廣佈全國。��更多資訊請見ＣＳＦ網站：https://www.csf.org.tw/main/index.asp', '進行', 'With', '學術顧問台北商業大學', 'Evonne', 'STEP.', 'OS', '創新育成中心', 'Bull', 'Blog', 'Of', '本課程無特定工具需求。', '大章節、', '第一名台大黑客松', '第二名', 'Engine', 'Final', 'A.', '有', 'vs.', 'GPS', 'Awards', '中', 'Duik', '與產品', 'Cheers', '課程', 'like', '靈性發展', '級證照，通過', '想提升個人競爭力的人.', 'Play', 'Music', 'Scikit-Learn', '(Event', 'Story)', '雜誌之「', '生活品味更多生活品味,生活品味護膚保養與化妝', '%，', 'Coaching', 'HRC', '元，抽出一名學生）��', '分鐘到', '學習', '在學與畢業校友滿意度」年度調查中，連續五年（~年）獲選為「', '麵團攪拌、基本發酵-', '程式設計', '攝影動態攝影', '所示）圖', '打光', 'Plotly', '名-', '當', '▼-', '個單元、', '人：隨機贈送', 'SolidSuit', ':），購課人數百分比達', 'World', 'Island', 'First', '行銷學、品牌管理、口碑行銷相關之領域。曾在天下與', '跟創作成為戀人~永遠的熱戀下去吧!多年來的教學繪畫經驗分享給喜歡繪畫的朋友們！相關怪獸課程網址https://hahow.in/@bluebobo?tr=bluebobo', '與老師皆不會將學員填寫的收件資訊做其他用途。��', '參與', '若要參加抽獎，務必於「付款資訊」頁面填寫', '生活品味,藝術', '填寫資訊僅供本課程解鎖活動通知使用，Hahow', '工具材料講解', 'g', 'PQCVS', 'Robie', 'Design)', '基礎的', 'one', 'What', '款', '本課程以', '版本', '大章節，', 'Kristine', 'Knowhow', '我是李柏鋒，台灣ETF投資學院創辦人，也是科技媒體INSIDE主編。', '本開課講師保有解鎖活動最終解釋權，亦有修改解鎖活動內容的權利。��', 'Creative', '新功能進階綁定技術', 'Information', 'no', '➝', '投資理財投資觀念,投資理財理財', '抽獎時間：預計於開課後', 'All', '】-', '數位行銷,社群行銷', 'This', '轉帳」付款的朋友，在下訂單後也要在規定期限內「完成付款」才算符合資格喔！', '美食攝影', 'III', 'NEEDLE', 'while', 'OK', 'music', 'E', 'Hive-SQL', 'Sam', '(UI/UX)', 'how', '投資理財投資觀念', '號細筆及', 'Rigging', '「', '課程特色', '還是', '瑜珈', '元的', 'Responsive', 'movie', 'Avengers:', 'Why', 'Tech', '▶募資％', 'Huang', 'I/O', 'FAQ', '有關於', 'In', '課程售價調整公告本課程將於', 'TAIWAN', '不同場景的佈光思維章節', '多說無益', 'Vlog', 'Yourator', 'Effect/AE,動態設計思維', 'TEDx', 'Concept', '機器學習攻略」（博碩文化）、「進擊的資料科學」（碁峰資訊）與「輕鬆學習', '老師介紹', 'Small', '函數', '種', '串列（List）|', 'FlyingV', '程式手機程式開發', 'restaurants', '手機程式開發', '贈送價值', 't', 'FinLab', 'College', '麵包烘焙', '❤️', '理解', 'CSF', '...', '安裝與設定環境', 'native', 'P', '官網', '填寫資訊僅供該次贈禮通知使用，Hahow', '③', '▸', '②', 'Blue', '程式程式語言,程式資料科學', '程式語言,資料科學', '職場技能效率提升', '社團', '模型', ':）的百分比，所以就算', 'RDS', 'Character', 'Coffee', '所有', '口語表達', 'Your', 'News', '抓網路資料', '出版', '帶領整體研究團隊，專注研究各大商品基本面與景氣循環動向，讓人人都可以重視基本面，為自己的投資負責！', '堂', '[執行內容~~~]', 'Autocad', 'Illustrator/以拉', 'Show', 'Wang', 'David', '財經M平方」致力於整合全球總經數據、協助投資人運用經濟指標找到投資方向！創辦人', 'insight', '--Lesson', '程式,行銷', 'new', 'Patagonia', 'Multicharts', 'commit', 'lightroom', '如', '「MacroMicro', 'git', '搭配', '程式網頁後端', '的電腦基本操作，並知道怎麼將', '網頁後端', 'Redis', '亞軍', '聲音／身體表達技巧', '常見問題', '結合', 'Solidity', 'email，請參考下方附圖。Q：如何確認自己有沒有付款成功呢？A：完成購課流程後，請點選「網頁右上方的大頭貼」進入「訂單記錄」頁面，於「訂單狀況」的欄位顯示「完成付款」的訂單即代表付款成功喔！備註：選擇以「超商繳費」或「ATM', '加碼章節', \"Do's\", '動態網頁Workflow概覽', 'Part.', '音樂製作', 'Project', 'Fare', 'Moshi', 'Elements', '天內回覆確認中獎通知，如未確認視同放棄獲獎資格。.', '可播放影片的手機、平板或電腦，就可以囉！', '程式區塊鏈,投資理財金融商品,投資理財比特幣', '區塊鏈,金融商品,比特幣', '類別中的', 'Sabrina', '跟著', '商城下載', '本課程將於', '斜槓', '動畫', '(建議', 'GIF', '敵人物件的', 'Animator', 'PyTorch', '掃描圖片中的', 'MATCH', 'Sales', '()：Future', 'Spotify,', 'Flex', 'DynaMesh', '版的', 'Institute', '健身', '人工智慧,程式資料科學', '人工智慧,資料科學', '擁有超過', 'Canva', 'NT$,」STEP', 'AAPD', 'PS、AI', '由專業資訊設計背景團隊組成，提供從課程規劃、講稿編輯、視覺設計、市場行銷全方位服務，延續簡訊設計核心理念，相信好課程，也能讓知識飛得更遠。', '股票', 'JP', 'User', 'MIDI', '號', '職場技能,藝術', 'Layer', 'TOMMY', 'Jonny', '//（四）晚上', 'PSD', '天結束的那一刻」！➢', 'check', 'Compose', '網路模式介紹', 'Schedule', '彭毅弘', 'FAQQ：購買後，要在哪裡填', '是簡報藝術烘焙坊', 'image', '文書處理', '職場技能文書處理', '如何在不同作業系統上使用', '資訊呢？A：按下「馬上預購」後，將導向「付款資訊」頁面，最下方即可填寫聯繫資訊', 'Audacity']\n"
     ]
    }
   ],
   "source": [
    "from gensim.models.word2vec import Word2Vec\n",
    "\n",
    "w2v_model = Word2Vec(info.text.apply(lambda text: text.split()))\n",
    "w2v_vocab = list(w2v_model.wv.index_to_key)\n",
    "print(w2v_vocab)"
   ]
  },
  {
   "cell_type": "code",
   "execution_count": null,
   "id": "c1edb8a8-53cd-4862-9761-9fa9c60738bf",
   "metadata": {},
   "outputs": [],
   "source": [
    "starttime = datetime.datetime.now()\n",
    "\n",
    "# TF-IDF weighted Word2Vec\n",
    "tfidf_text_vect = [] # tfidf-w2v is stored in this list\n",
    "row = 0\n",
    "\n",
    "for text in info.text.apply(lambda text: text.split()):\n",
    "    text_vect = np.zeros(100)\n",
    "    weight_sum = 0\n",
    "    for word in text:\n",
    "        if word in w2v_vocab and word in tfidf_feature:\n",
    "            vec = w2v_model.wv[word]\n",
    "            tf_idf = dictionary[word]*(text.count(word)/len(text))\n",
    "            text_vect += (vec * tf_idf)\n",
    "            weight_sum += tf_idf\n",
    "    if weight_sum != 0:\n",
    "        text_vect /= weight_sum\n",
    "    tfidf_text_vect.append(text_vect)\n",
    "    row += 1\n",
    "\n",
    "# calculate running time\n",
    "endtime = datetime.datetime.now()\n",
    "print(\"建立模型時間: \",endtime - starttime)\n",
    "\n"
   ]
  },
  {
   "cell_type": "code",
   "execution_count": null,
   "id": "0cc14c02-c6db-4130-a228-4d8cf9a03a0f",
   "metadata": {},
   "outputs": [],
   "source": [
    "def Preprocess(text):\n",
    "    rule = re.compile(r'[^a-zA-Z0-9\\u4e00-\\u9fa5]')\n",
    "    text = rule.sub(' ',str(text))\n",
    "    text = re.sub(' +', '',text)\n",
    "    text = ws([text], sentence_segmentation=True)\n",
    "    text = [x for l in text for x in l]\n",
    "    return text"
   ]
  },
  {
   "cell_type": "code",
   "execution_count": null,
   "id": "86e93f6d-0309-4354-84c9-3b749406d517",
   "metadata": {},
   "outputs": [],
   "source": [
    "def recommend_law(text, tfidf_text_vect = tfidf_text_vect, top_k = 50):\n",
    "    text = Preprocess(text)\n",
    "    text_vect = np.zeros(100) # w2v size\n",
    "    weight_sum = 0\n",
    "    for word in text:\n",
    "        if word in w2v_vocab and word in tfidf_feature:\n",
    "            vec = w2v_model.wv[word]\n",
    "            tf_idf = dictionary[word]*(text.count(word)/len(text))\n",
    "            text_vect += (vec * tf_idf)\n",
    "            weight_sum += tf_idf\n",
    "    if weight_sum != 0:\n",
    "        text_vect /= weight_sum\n",
    "    tmp_vect = [*tfidf_text_vect,text_vect]\n",
    "    new_cos_sim = cosine_similarity(tmp_vect, tmp_vect)\n",
    "    sim_score = np.sort(new_cos_sim[new_cos_sim.shape[0]-1])[::-1][1:top_k+1]\n",
    "    tmp_top_k = info[['text']].iloc[np.argsort(new_cos_sim[new_cos_sim.shape[0]-1])[::-1][1:top_k+1]]\n",
    "    tmp_top_k['similarity_score'] = [round(score*100,1) for score in sim_score]\n",
    "    return tmp_top_k\n",
    "\n"
   ]
  },
  {
   "cell_type": "code",
   "execution_count": null,
   "id": "bd35eb6b-5cd6-4b10-a262-7273fecf0140",
   "metadata": {},
   "outputs": [],
   "source": [
    "starttime = datetime.datetime.now()\n",
    "\n",
    "newtext = '職場'\n",
    "result = recommend_law(newtext)\n",
    "\n",
    "# calculate running time\n",
    "endtime = datetime.datetime.now()\n",
    "print(\"搜尋推薦時間: \",endtime - starttime)\n",
    "result"
   ]
  },
  {
   "cell_type": "code",
   "execution_count": null,
   "id": "550b70c4-5035-4d4a-8466-9bbfb10b923c",
   "metadata": {},
   "outputs": [],
   "source": [
    "test_unseen = pd.read_csv('../data/test_unseen.csv')\n",
    "test_unseen"
   ]
  }
 ],
 "metadata": {
  "kernelspec": {
   "display_name": "Python 3 (ipykernel)",
   "language": "python",
   "name": "python3"
  },
  "language_info": {
   "codemirror_mode": {
    "name": "ipython",
    "version": 3
   },
   "file_extension": ".py",
   "mimetype": "text/x-python",
   "name": "python",
   "nbconvert_exporter": "python",
   "pygments_lexer": "ipython3",
   "version": "3.10.7"
  }
 },
 "nbformat": 4,
 "nbformat_minor": 5
}
