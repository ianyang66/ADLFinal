{
 "cells": [
  {
   "cell_type": "code",
   "execution_count": 33,
   "id": "fae75211-bdfa-4239-bdbb-b75580f16a25",
   "metadata": {},
   "outputs": [],
   "source": [
    "import matplotlib.pyplot as plt\n",
    "%matplotlib inline\n",
    "import pandas as pd\n",
    "import numpy as np\n",
    "import pickle\n",
    "from ckiptagger import data_utils, construct_dictionary, WS, POS, NER\n",
    "import re\n",
    "import jieba"
   ]
  },
  {
   "cell_type": "code",
   "execution_count": 34,
   "id": "0471cb66-3923-4173-9a1b-2fa725c9b84d",
   "metadata": {},
   "outputs": [
    {
     "data": {
      "text/html": [
       "<div>\n",
       "<style scoped>\n",
       "    .dataframe tbody tr th:only-of-type {\n",
       "        vertical-align: middle;\n",
       "    }\n",
       "\n",
       "    .dataframe tbody tr th {\n",
       "        vertical-align: top;\n",
       "    }\n",
       "\n",
       "    .dataframe thead th {\n",
       "        text-align: right;\n",
       "    }\n",
       "</style>\n",
       "<table border=\"1\" class=\"dataframe\">\n",
       "  <thead>\n",
       "    <tr style=\"text-align: right;\">\n",
       "      <th></th>\n",
       "      <th>course_id</th>\n",
       "      <th>course_name</th>\n",
       "      <th>teacher_intro</th>\n",
       "      <th>groups</th>\n",
       "      <th>sub_groups</th>\n",
       "      <th>groups+subgroups</th>\n",
       "      <th>topics</th>\n",
       "      <th>description</th>\n",
       "      <th>will_learn</th>\n",
       "      <th>required_tools</th>\n",
       "      <th>recommended_background</th>\n",
       "      <th>target_group</th>\n",
       "    </tr>\n",
       "  </thead>\n",
       "  <tbody>\n",
       "    <tr>\n",
       "      <th>0</th>\n",
       "      <td>61888e868f154b000781b45a</td>\n",
       "      <td>少女人妻華麗變身：七大妝容七彩的夢幻樂園</td>\n",
       "      <td>在美妝 KOL 圈裡屬個人風格強烈的 Alice，在清新與叛逆風格間遊刃有餘，其幽默的美妝影...</td>\n",
       "      <td>生活品味</td>\n",
       "      <td>更多生活品味,護膚保養與化妝</td>\n",
       "      <td>生活品味更多生活品味,生活品味護膚保養與化妝</td>\n",
       "      <td>更多生活品味,護膚保養與化妝</td>\n",
       "      <td>少女人妻第一堂線上課程，跟著我一起華麗變身！在社群上許多人經常問我：「為什麼人妻畫的妝那麼好...</td>\n",
       "      <td>不再害怕各種顏色的彩妝，可以更隨心搭配各種繽紛的顏色。</td>\n",
       "      <td>所需工具為：視課程實際會用到的彩妝用品</td>\n",
       "      <td>只要你有一顆愛化妝、想變漂亮的心皆可以參加。⚠️ 雖然課程當中會帶到相關彩妝技巧，不過內容偏...</td>\n",
       "      <td>熱愛彩妝的人</td>\n",
       "    </tr>\n",
       "    <tr>\n",
       "      <th>1</th>\n",
       "      <td>54d5a117065a7e0e00725ac0</td>\n",
       "      <td>幾何圖形分割 X 色塊組合</td>\n",
       "      <td>從學生時代開始摸索photoshop等軟體，自以為有些天賦但後來發現其實沒有。出社會後從事美...</td>\n",
       "      <td>藝術,設計</td>\n",
       "      <td>平面設計,繪畫與插畫</td>\n",
       "      <td>設計平面設計,藝術繪畫與插畫</td>\n",
       "      <td>Illustrator/以拉,配色技巧</td>\n",
       "      <td>這是一個有趣的小技巧，主要利用illustrator裡面的&amp;quot;分割“這個功能，我已經...</td>\n",
       "      <td>可以將任何區塊分割成自己想要的幾何圖形、快速的上色，並且能夠應用在許多地方</td>\n",
       "      <td>Adobe Illustrator（必備）, camera</td>\n",
       "      <td>知道如何使用Illustrator的基本工具列</td>\n",
       "      <td>每一位興趣的人都能學得來，非常容易的小技巧</td>\n",
       "    </tr>\n",
       "  </tbody>\n",
       "</table>\n",
       "</div>"
      ],
      "text/plain": [
       "                  course_id           course_name  \\\n",
       "0  61888e868f154b000781b45a  少女人妻華麗變身：七大妝容七彩的夢幻樂園   \n",
       "1  54d5a117065a7e0e00725ac0         幾何圖形分割 X 色塊組合   \n",
       "\n",
       "                                       teacher_intro groups      sub_groups  \\\n",
       "0  在美妝 KOL 圈裡屬個人風格強烈的 Alice，在清新與叛逆風格間遊刃有餘，其幽默的美妝影...   生活品味  更多生活品味,護膚保養與化妝   \n",
       "1  從學生時代開始摸索photoshop等軟體，自以為有些天賦但後來發現其實沒有。出社會後從事美...  藝術,設計      平面設計,繪畫與插畫   \n",
       "\n",
       "         groups+subgroups               topics  \\\n",
       "0  生活品味更多生活品味,生活品味護膚保養與化妝       更多生活品味,護膚保養與化妝   \n",
       "1          設計平面設計,藝術繪畫與插畫  Illustrator/以拉,配色技巧   \n",
       "\n",
       "                                         description  \\\n",
       "0  少女人妻第一堂線上課程，跟著我一起華麗變身！在社群上許多人經常問我：「為什麼人妻畫的妝那麼好...   \n",
       "1  這是一個有趣的小技巧，主要利用illustrator裡面的&quot;分割“這個功能，我已經...   \n",
       "\n",
       "                              will_learn                 required_tools  \\\n",
       "0            不再害怕各種顏色的彩妝，可以更隨心搭配各種繽紛的顏色。            所需工具為：視課程實際會用到的彩妝用品   \n",
       "1  可以將任何區塊分割成自己想要的幾何圖形、快速的上色，並且能夠應用在許多地方  Adobe Illustrator（必備）, camera   \n",
       "\n",
       "                              recommended_background           target_group  \n",
       "0  只要你有一顆愛化妝、想變漂亮的心皆可以參加。⚠️ 雖然課程當中會帶到相關彩妝技巧，不過內容偏...                 熱愛彩妝的人  \n",
       "1                            知道如何使用Illustrator的基本工具列  每一位興趣的人都能學得來，非常容易的小技巧  "
      ]
     },
     "execution_count": 34,
     "metadata": {},
     "output_type": "execute_result"
    }
   ],
   "source": [
    "course_df_original = pd.read_csv('../data/courses.csv').fillna('')\n",
    "course_df = course_df_original.drop(['course_id', 'teacher_id', 'course_published_at_local', 'course_published_at_local', 'course_price'], axis=1)\n",
    "course_df['description'] = course_df['description'].replace('([\\<]).*?([\\>])','',regex=True)\n",
    "course_df = course_df.replace('\\n', '',regex=True)\n",
    "course_df = course_df.replace('[\\d_]', '',regex=True).astype(str)\n",
    "course_df.insert(0, 'course_id', course_df_original['course_id'])\n",
    "course_df[:2]"
   ]
  },
  {
   "cell_type": "code",
   "execution_count": 35,
   "id": "485fda6f-bd9f-40f8-8dc9-0192f82ca8d6",
   "metadata": {},
   "outputs": [],
   "source": [
    "from sklearn.feature_extraction.text import CountVectorizer\n",
    "from sklearn.metrics.pairwise import cosine_similarity\n",
    "from sklearn.feature_extraction.text import TfidfVectorizer\n",
    "from sklearn.metrics.pairwise import linear_kernel\n",
    "import datetime\n",
    "from scipy.sparse import csr_matrix"
   ]
  },
  {
   "cell_type": "code",
   "execution_count": 36,
   "id": "b6f33558-2248-48ae-97e9-705c49119c3b",
   "metadata": {},
   "outputs": [
    {
     "data": {
      "text/html": [
       "<div>\n",
       "<style scoped>\n",
       "    .dataframe tbody tr th:only-of-type {\n",
       "        vertical-align: middle;\n",
       "    }\n",
       "\n",
       "    .dataframe tbody tr th {\n",
       "        vertical-align: top;\n",
       "    }\n",
       "\n",
       "    .dataframe thead th {\n",
       "        text-align: right;\n",
       "    }\n",
       "</style>\n",
       "<table border=\"1\" class=\"dataframe\">\n",
       "  <thead>\n",
       "    <tr style=\"text-align: right;\">\n",
       "      <th></th>\n",
       "      <th>course_id</th>\n",
       "      <th>text</th>\n",
       "    </tr>\n",
       "  </thead>\n",
       "  <tbody>\n",
       "    <tr>\n",
       "      <th>0</th>\n",
       "      <td>61888e868f154b000781b45a</td>\n",
       "      <td>61888e868f154b000781b45a 少女人妻華麗變身：七大妝容七彩的夢幻樂園 ...</td>\n",
       "    </tr>\n",
       "    <tr>\n",
       "      <th>1</th>\n",
       "      <td>54d5a117065a7e0e00725ac0</td>\n",
       "      <td>54d5a117065a7e0e00725ac0 幾何圖形分割 X 色塊組合 從學生時代開始...</td>\n",
       "    </tr>\n",
       "    <tr>\n",
       "      <th>2</th>\n",
       "      <td>54d5d9952246e60a009ec571</td>\n",
       "      <td>54d5d9952246e60a009ec571 數位拼貼的手感 自由工作者，致力於品牌視覺...</td>\n",
       "    </tr>\n",
       "    <tr>\n",
       "      <th>3</th>\n",
       "      <td>54d7148a2246e60a009ec588</td>\n",
       "      <td>54d7148a2246e60a009ec588 Line 的貼圖自己動手做！ 我是Dann...</td>\n",
       "    </tr>\n",
       "    <tr>\n",
       "      <th>4</th>\n",
       "      <td>5513e92b38239d10005778e1</td>\n",
       "      <td>5513e92b38239d10005778e1 為申請學校或工作寫好英文自傳 在北美長大，...</td>\n",
       "    </tr>\n",
       "  </tbody>\n",
       "</table>\n",
       "</div>"
      ],
      "text/plain": [
       "                  course_id                                               text\n",
       "0  61888e868f154b000781b45a  61888e868f154b000781b45a 少女人妻華麗變身：七大妝容七彩的夢幻樂園 ...\n",
       "1  54d5a117065a7e0e00725ac0  54d5a117065a7e0e00725ac0 幾何圖形分割 X 色塊組合 從學生時代開始...\n",
       "2  54d5d9952246e60a009ec571  54d5d9952246e60a009ec571 數位拼貼的手感 自由工作者，致力於品牌視覺...\n",
       "3  54d7148a2246e60a009ec588  54d7148a2246e60a009ec588 Line 的貼圖自己動手做！ 我是Dann...\n",
       "4  5513e92b38239d10005778e1  5513e92b38239d10005778e1 為申請學校或工作寫好英文自傳 在北美長大，..."
      ]
     },
     "execution_count": 36,
     "metadata": {},
     "output_type": "execute_result"
    }
   ],
   "source": [
    "info = []\n",
    "for i in range(course_df.shape[0]):\n",
    "    t = course_df.loc[i, :].values.flatten().tolist()\n",
    "    info.append([t[0], ' '.join(t)])\n",
    "info = pd.DataFrame(info, columns = ['course_id', 'text'])\n",
    "info[:5]"
   ]
  },
  {
   "cell_type": "code",
   "execution_count": 37,
   "id": "bd539f55-8c57-4c53-80ed-db09f7a8e6c1",
   "metadata": {},
   "outputs": [
    {
     "name": "stderr",
     "output_type": "stream",
     "text": [
      "/Library/Frameworks/Python.framework/Versions/3.10/lib/python3.10/site-packages/ckiptagger/model_ws.py:106: UserWarning: `tf.nn.rnn_cell.LSTMCell` is deprecated and will be removed in a future version. This class is equivalent as `tf.keras.layers.LSTMCell`, and will be replaced by that in Tensorflow 2.0.\n",
      "  cell = tf.compat.v1.nn.rnn_cell.LSTMCell(hidden_d, name=name)\n"
     ]
    }
   ],
   "source": [
    "ws = WS('./ckip/data')"
   ]
  },
  {
   "cell_type": "code",
   "execution_count": 38,
   "id": "6d8826fc-65c1-439b-aeb2-c95c7622cb90",
   "metadata": {},
   "outputs": [
    {
     "name": "stderr",
     "output_type": "stream",
     "text": [
      "/Library/Frameworks/Python.framework/Versions/3.10/lib/python3.10/site-packages/sklearn/utils/deprecation.py:87: FutureWarning: Function get_feature_names is deprecated; get_feature_names is deprecated in 1.0 and will be removed in 1.2. Please use get_feature_names_out instead.\n",
      "  warnings.warn(msg, category=FutureWarning)\n"
     ]
    }
   ],
   "source": [
    "tfidf_ml = TfidfVectorizer()\n",
    "tfidf_ml.fit(info.text)\n",
    "\n",
    "# TF-IDF Dicitonary\n",
    "dictionary = dict(zip(tfidf_ml.get_feature_names_out(), list(tfidf_ml.idf_)))\n",
    "\n",
    "# feature name\n",
    "tfidf_feature = tfidf_ml.get_feature_names()"
   ]
  },
  {
   "cell_type": "code",
   "execution_count": 39,
   "id": "1ee5c58f-00a7-4f89-8096-5302baab5753",
   "metadata": {},
   "outputs": [
    {
     "data": {
      "text/plain": [
       "174321"
      ]
     },
     "execution_count": 39,
     "metadata": {},
     "output_type": "execute_result"
    }
   ],
   "source": [
    "len(dictionary.keys())"
   ]
  },
  {
   "cell_type": "code",
   "execution_count": 40,
   "id": "f1e164ea-ddf2-4e1e-a9e1-65089869a87e",
   "metadata": {},
   "outputs": [
    {
     "data": {
      "text/plain": [
       "['54d5a117065a7e0e00725ac0',\n",
       " '54d5d9952246e60a009ec571',\n",
       " '54d7148a2246e60a009ec588',\n",
       " '54f1268f4ec3c809002e4a29',\n",
       " '551171a938239d1000577864',\n",
       " '551198a738239d1000577870',\n",
       " '5513e92b38239d10005778e1',\n",
       " '551a6be023774e0a001eb20c',\n",
       " '55307d94d530a90a00a3a896',\n",
       " '55599687dfe21b0a00e776d9']"
      ]
     },
     "execution_count": 40,
     "metadata": {},
     "output_type": "execute_result"
    }
   ],
   "source": [
    "tfidf_feature[:10]"
   ]
  },
  {
   "cell_type": "code",
   "execution_count": 41,
   "id": "84eb6810-f442-4ed7-b331-eba3371740d7",
   "metadata": {},
   "outputs": [],
   "source": [
    "# #Construct the required TF-IDF matrix by fitting and transforming the data\n",
    "# vectorizer = TfidfVectorizer(stop_words= 'english')\n",
    "# tfidf_matrix = vectorizer.fit_transform(info)\n",
    "\n",
    "# #print(tfidf.vocabulary_)\n",
    "# tfidf_matrix_nd = tfidf_matrix.T.toarray()\n",
    "# #np.save('tfidf_embedding/item_embeddings_english.npy', tfidf_matrix_nd)\n",
    "# df = pd.DataFrame(tfidf_matrix_nd, index=vectorizer.get_feature_names_out ())"
   ]
  },
  {
   "cell_type": "code",
   "execution_count": 42,
   "id": "bfda1a05-d89d-46a7-bee2-0abb20940746",
   "metadata": {},
   "outputs": [
    {
     "ename": "ValueError",
     "evalue": "numpy.ndarray size changed, may indicate binary incompatibility. Expected 96 from C header, got 88 from PyObject",
     "output_type": "error",
     "traceback": [
      "\u001b[0;31m---------------------------------------------------------------------------\u001b[0m",
      "\u001b[0;31mValueError\u001b[0m                                Traceback (most recent call last)",
      "Cell \u001b[0;32mIn [42], line 1\u001b[0m\n\u001b[0;32m----> 1\u001b[0m \u001b[38;5;28;01mfrom\u001b[39;00m \u001b[38;5;21;01mgensim\u001b[39;00m\u001b[38;5;21;01m.\u001b[39;00m\u001b[38;5;21;01mmodels\u001b[39;00m\u001b[38;5;21;01m.\u001b[39;00m\u001b[38;5;21;01mword2vec\u001b[39;00m \u001b[38;5;28;01mimport\u001b[39;00m Word2Vec\n\u001b[1;32m      3\u001b[0m w2v_model \u001b[38;5;241m=\u001b[39m Word2Vec(info\u001b[38;5;241m.\u001b[39mtext\u001b[38;5;241m.\u001b[39mapply(\u001b[38;5;28;01mlambda\u001b[39;00m text: text\u001b[38;5;241m.\u001b[39msplit()))\n\u001b[1;32m      4\u001b[0m w2v_vocab \u001b[38;5;241m=\u001b[39m \u001b[38;5;28mlist\u001b[39m(w2v_model\u001b[38;5;241m.\u001b[39mwv\u001b[38;5;241m.\u001b[39mindex_to_key)\n",
      "File \u001b[0;32m/Library/Frameworks/Python.framework/Versions/3.10/lib/python3.10/site-packages/gensim/__init__.py:11\u001b[0m\n\u001b[1;32m      7\u001b[0m __version__ \u001b[38;5;241m=\u001b[39m \u001b[38;5;124m'\u001b[39m\u001b[38;5;124m4.3.0\u001b[39m\u001b[38;5;124m'\u001b[39m\n\u001b[1;32m      9\u001b[0m \u001b[38;5;28;01mimport\u001b[39;00m \u001b[38;5;21;01mlogging\u001b[39;00m\n\u001b[0;32m---> 11\u001b[0m \u001b[38;5;28;01mfrom\u001b[39;00m \u001b[38;5;21;01mgensim\u001b[39;00m \u001b[38;5;28;01mimport\u001b[39;00m parsing, corpora, matutils, interfaces, models, similarities, utils  \u001b[38;5;66;03m# noqa:F401\u001b[39;00m\n\u001b[1;32m     14\u001b[0m logger \u001b[38;5;241m=\u001b[39m logging\u001b[38;5;241m.\u001b[39mgetLogger(\u001b[38;5;124m'\u001b[39m\u001b[38;5;124mgensim\u001b[39m\u001b[38;5;124m'\u001b[39m)\n\u001b[1;32m     15\u001b[0m \u001b[38;5;28;01mif\u001b[39;00m \u001b[38;5;129;01mnot\u001b[39;00m logger\u001b[38;5;241m.\u001b[39mhandlers:  \u001b[38;5;66;03m# To ensure reload() doesn't add another one\u001b[39;00m\n",
      "File \u001b[0;32m/Library/Frameworks/Python.framework/Versions/3.10/lib/python3.10/site-packages/gensim/corpora/__init__.py:6\u001b[0m\n\u001b[1;32m      1\u001b[0m \u001b[38;5;124;03m\"\"\"\u001b[39;00m\n\u001b[1;32m      2\u001b[0m \u001b[38;5;124;03mThis package contains implementations of various streaming corpus I/O format.\u001b[39;00m\n\u001b[1;32m      3\u001b[0m \u001b[38;5;124;03m\"\"\"\u001b[39;00m\n\u001b[1;32m      5\u001b[0m \u001b[38;5;66;03m# bring corpus classes directly into package namespace, to save some typing\u001b[39;00m\n\u001b[0;32m----> 6\u001b[0m \u001b[38;5;28;01mfrom\u001b[39;00m \u001b[38;5;21;01m.\u001b[39;00m\u001b[38;5;21;01mindexedcorpus\u001b[39;00m \u001b[38;5;28;01mimport\u001b[39;00m IndexedCorpus  \u001b[38;5;66;03m# noqa:F401 must appear before the other classes\u001b[39;00m\n\u001b[1;32m      8\u001b[0m \u001b[38;5;28;01mfrom\u001b[39;00m \u001b[38;5;21;01m.\u001b[39;00m\u001b[38;5;21;01mmmcorpus\u001b[39;00m \u001b[38;5;28;01mimport\u001b[39;00m MmCorpus  \u001b[38;5;66;03m# noqa:F401\u001b[39;00m\n\u001b[1;32m      9\u001b[0m \u001b[38;5;28;01mfrom\u001b[39;00m \u001b[38;5;21;01m.\u001b[39;00m\u001b[38;5;21;01mbleicorpus\u001b[39;00m \u001b[38;5;28;01mimport\u001b[39;00m BleiCorpus  \u001b[38;5;66;03m# noqa:F401\u001b[39;00m\n",
      "File \u001b[0;32m/Library/Frameworks/Python.framework/Versions/3.10/lib/python3.10/site-packages/gensim/corpora/indexedcorpus.py:14\u001b[0m\n\u001b[1;32m     10\u001b[0m \u001b[38;5;28;01mimport\u001b[39;00m \u001b[38;5;21;01mlogging\u001b[39;00m\n\u001b[1;32m     12\u001b[0m \u001b[38;5;28;01mimport\u001b[39;00m \u001b[38;5;21;01mnumpy\u001b[39;00m\n\u001b[0;32m---> 14\u001b[0m \u001b[38;5;28;01mfrom\u001b[39;00m \u001b[38;5;21;01mgensim\u001b[39;00m \u001b[38;5;28;01mimport\u001b[39;00m interfaces, utils\n\u001b[1;32m     16\u001b[0m logger \u001b[38;5;241m=\u001b[39m logging\u001b[38;5;241m.\u001b[39mgetLogger(\u001b[38;5;18m__name__\u001b[39m)\n\u001b[1;32m     19\u001b[0m \u001b[38;5;28;01mclass\u001b[39;00m \u001b[38;5;21;01mIndexedCorpus\u001b[39;00m(interfaces\u001b[38;5;241m.\u001b[39mCorpusABC):\n",
      "File \u001b[0;32m/Library/Frameworks/Python.framework/Versions/3.10/lib/python3.10/site-packages/gensim/interfaces.py:19\u001b[0m\n\u001b[1;32m      7\u001b[0m \u001b[38;5;124;03m\"\"\"Basic interfaces used across the whole Gensim package.\u001b[39;00m\n\u001b[1;32m      8\u001b[0m \n\u001b[1;32m      9\u001b[0m \u001b[38;5;124;03mThese interfaces are used for building corpora, model transformation and similarity queries.\u001b[39;00m\n\u001b[0;32m   (...)\u001b[0m\n\u001b[1;32m     14\u001b[0m \n\u001b[1;32m     15\u001b[0m \u001b[38;5;124;03m\"\"\"\u001b[39;00m\n\u001b[1;32m     17\u001b[0m \u001b[38;5;28;01mimport\u001b[39;00m \u001b[38;5;21;01mlogging\u001b[39;00m\n\u001b[0;32m---> 19\u001b[0m \u001b[38;5;28;01mfrom\u001b[39;00m \u001b[38;5;21;01mgensim\u001b[39;00m \u001b[38;5;28;01mimport\u001b[39;00m utils, matutils\n\u001b[1;32m     22\u001b[0m logger \u001b[38;5;241m=\u001b[39m logging\u001b[38;5;241m.\u001b[39mgetLogger(\u001b[38;5;18m__name__\u001b[39m)\n\u001b[1;32m     25\u001b[0m \u001b[38;5;28;01mclass\u001b[39;00m \u001b[38;5;21;01mCorpusABC\u001b[39;00m(utils\u001b[38;5;241m.\u001b[39mSaveLoad):\n",
      "File \u001b[0;32m/Library/Frameworks/Python.framework/Versions/3.10/lib/python3.10/site-packages/gensim/matutils.py:1030\u001b[0m\n\u001b[1;32m   1025\u001b[0m     \u001b[38;5;28;01mreturn\u001b[39;00m \u001b[38;5;241m1.\u001b[39m \u001b[38;5;241m-\u001b[39m \u001b[38;5;28mfloat\u001b[39m(\u001b[38;5;28mlen\u001b[39m(set1 \u001b[38;5;241m&\u001b[39m set2)) \u001b[38;5;241m/\u001b[39m \u001b[38;5;28mfloat\u001b[39m(union_cardinality)\n\u001b[1;32m   1028\u001b[0m \u001b[38;5;28;01mtry\u001b[39;00m:\n\u001b[1;32m   1029\u001b[0m     \u001b[38;5;66;03m# try to load fast, cythonized code if possible\u001b[39;00m\n\u001b[0;32m-> 1030\u001b[0m     \u001b[38;5;28;01mfrom\u001b[39;00m \u001b[38;5;21;01mgensim\u001b[39;00m\u001b[38;5;21;01m.\u001b[39;00m\u001b[38;5;21;01m_matutils\u001b[39;00m \u001b[38;5;28;01mimport\u001b[39;00m logsumexp, mean_absolute_difference, dirichlet_expectation\n\u001b[1;32m   1032\u001b[0m \u001b[38;5;28;01mexcept\u001b[39;00m \u001b[38;5;167;01mImportError\u001b[39;00m:\n\u001b[1;32m   1033\u001b[0m     \u001b[38;5;28;01mdef\u001b[39;00m \u001b[38;5;21mlogsumexp\u001b[39m(x):\n",
      "File \u001b[0;32m/Library/Frameworks/Python.framework/Versions/3.10/lib/python3.10/site-packages/gensim/_matutils.pyx:1\u001b[0m, in \u001b[0;36minit gensim._matutils\u001b[0;34m()\u001b[0m\n",
      "\u001b[0;31mValueError\u001b[0m: numpy.ndarray size changed, may indicate binary incompatibility. Expected 96 from C header, got 88 from PyObject"
     ]
    }
   ],
   "source": [
    "from gensim.models.word2vec import Word2Vec\n",
    "\n",
    "w2v_model = Word2Vec(info.text.apply(lambda text: text.split()))\n",
    "w2v_vocab = list(w2v_model.wv.index_to_key)\n",
    "print(w2v_model)"
   ]
  },
  {
   "cell_type": "code",
   "execution_count": null,
   "id": "c1edb8a8-53cd-4862-9761-9fa9c60738bf",
   "metadata": {},
   "outputs": [],
   "source": [
    "starttime = datetime.datetime.now()\n",
    "\n",
    "# TF-IDF weighted Word2Vec\n",
    "tfidf_text_vect = [] # tfidf-w2v is stored in this list\n",
    "row = 0\n",
    "\n",
    "for text in info.text.apply(lambda text: text.split()):\n",
    "    text_vect = np.zeros(100)\n",
    "    weight_sum = 0\n",
    "    for word in text:\n",
    "        if word in w2v_vocab and word in tfidf_feature:\n",
    "            vec = w2v_model.wv[word]\n",
    "            tf_idf = dictionary[word]*(text.count(word)/len(text))\n",
    "            text_vect += (vec * tf_idf)\n",
    "            weight_sum += tf_idf\n",
    "    if weight_sum != 0:\n",
    "        text_vect /= weight_sum\n",
    "    tfidf_text_vect.append(text_vect)\n",
    "    row += 1\n",
    "\n",
    "# calculate running time\n",
    "endtime = datetime.datetime.now()\n",
    "print(\"建立模型時間: \",endtime - starttime)\n",
    "\n"
   ]
  },
  {
   "cell_type": "code",
   "execution_count": null,
   "id": "0cc14c02-c6db-4130-a228-4d8cf9a03a0f",
   "metadata": {},
   "outputs": [],
   "source": [
    "def Preprocess(text):\n",
    "    rule = re.compile(r'[^a-zA-Z0-9\\u4e00-\\u9fa5]')\n",
    "    text = rule.sub(' ',str(text))\n",
    "    text = re.sub(' +', '',text)\n",
    "    text = ws([text], sentence_segmentation=True)\n",
    "    text = [x for l in text for x in l]\n",
    "    return text"
   ]
  },
  {
   "cell_type": "code",
   "execution_count": null,
   "id": "86e93f6d-0309-4354-84c9-3b749406d517",
   "metadata": {},
   "outputs": [],
   "source": [
    "def recommend_law(text, tfidf_text_vect = tfidf_text_vect, top_k = 50):\n",
    "    text = Preprocess(text)\n",
    "    text_vect = np.zeros(100) # w2v size\n",
    "    weight_sum = 0\n",
    "    for word in text:\n",
    "        if word in w2v_vocab and word in tfidf_feature:\n",
    "            vec = w2v_model.wv[word]\n",
    "            tf_idf = dictionary[word]*(text.count(word)/len(text))\n",
    "            text_vect += (vec * tf_idf)\n",
    "            weight_sum += tf_idf\n",
    "    if weight_sum != 0:\n",
    "        text_vect /= weight_sum\n",
    "    tmp_vect = [*tfidf_text_vect,text_vect]\n",
    "    new_cos_sim = cosine_similarity(tmp_vect, tmp_vect)\n",
    "    sim_score = np.sort(new_cos_sim[new_cos_sim.shape[0]-1])[::-1][1:top_k+1]\n",
    "    tmp_top_k = info[['text']].iloc[np.argsort(new_cos_sim[new_cos_sim.shape[0]-1])[::-1][1:top_k+1]]\n",
    "    tmp_top_k['similarity_score'] = [round(score*100,1) for score in sim_score]\n",
    "    return tmp_top_k\n",
    "\n"
   ]
  },
  {
   "cell_type": "code",
   "execution_count": null,
   "id": "bd35eb6b-5cd6-4b10-a262-7273fecf0140",
   "metadata": {},
   "outputs": [],
   "source": [
    "starttime = datetime.datetime.now()\n",
    "\n",
    "newtext = '職場'\n",
    "result = recommend_law(newtext)\n",
    "\n",
    "# calculate running time\n",
    "endtime = datetime.datetime.now()\n",
    "print(\"搜尋推薦時間: \",endtime - starttime)\n",
    "result"
   ]
  },
  {
   "cell_type": "code",
   "execution_count": null,
   "id": "550b70c4-5035-4d4a-8466-9bbfb10b923c",
   "metadata": {},
   "outputs": [],
   "source": [
    "test_unseen = pd.read_csv('../data/test_unseen.csv')\n",
    "test_unseen"
   ]
  }
 ],
 "metadata": {
  "kernelspec": {
   "display_name": "Python 3 (ipykernel)",
   "language": "python",
   "name": "python3"
  },
  "language_info": {
   "codemirror_mode": {
    "name": "ipython",
    "version": 3
   },
   "file_extension": ".py",
   "mimetype": "text/x-python",
   "name": "python",
   "nbconvert_exporter": "python",
   "pygments_lexer": "ipython3",
   "version": "3.10.7"
  }
 },
 "nbformat": 4,
 "nbformat_minor": 5
}
