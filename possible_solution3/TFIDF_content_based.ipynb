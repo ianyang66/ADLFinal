{
 "cells": [
  {
   "attachments": {},
   "cell_type": "markdown",
   "metadata": {},
   "source": [
    "Reference: \n",
    "https://github.com/AlexanderNixon/Machine-learning-reads/blob/master/Movie-content-based-recommender-using-tf-idf.ipynb\n",
    "https://ithelp.ithome.com.tw/articles/10220479"
   ]
  },
  {
   "cell_type": "code",
   "execution_count": 2,
   "metadata": {},
   "outputs": [],
   "source": [
    "import matplotlib.pyplot as plt\n",
    "%matplotlib inline\n",
    "import pandas as pd\n",
    "import numpy as np"
   ]
  },
  {
   "cell_type": "code",
   "execution_count": 3,
   "metadata": {},
   "outputs": [],
   "source": [
    "users_df = pd.read_csv('./data/users.csv')\n",
    "subgroups_df = pd.read_csv('./data/subgroups.csv')\n",
    "course_chapter_items_df = pd.read_csv('./data/course_chapter_items.csv')\n",
    "course_df = pd.read_csv('./data/courses.csv')\n",
    "\n",
    "train_group_df = pd.read_csv('./data/train_group.csv')\n",
    "test_seen_group_df = pd.read_csv('./data/test_seen_group.csv')\n",
    "val_seen_group_df = pd.read_csv('./data/val_seen_group.csv')\n",
    "test_unseen_group_df = pd.read_csv('./data/test_unseen_group.csv')\n",
    "val_unseen_group_df = pd.read_csv('./data/val_unseen_group.csv')\n",
    "\n",
    "train_df = pd.read_csv('./data/train.csv')\n",
    "test_seen_df = pd.read_csv('./data/test_seen.csv')\n",
    "val_seen_df = pd.read_csv('./data/val_seen.csv')\n",
    "test_unseen_df = pd.read_csv('./data/test_unseen.csv')\n",
    "val_unseen_df = pd.read_csv('./data/val_unseen.csv')"
   ]
  },
  {
   "cell_type": "code",
   "execution_count": 4,
   "metadata": {},
   "outputs": [
    {
     "data": {
      "text/plain": [
       "728"
      ]
     },
     "execution_count": 4,
     "metadata": {},
     "output_type": "execute_result"
    }
   ],
   "source": [
    "id2course_mapping = course_df[\"course_id\"].to_dict()\n",
    "course2id_mapping = {v : k for k, v in id2course_mapping.items()}\n",
    "len(course2id_mapping)"
   ]
  },
  {
   "cell_type": "code",
   "execution_count": 5,
   "metadata": {},
   "outputs": [
    {
     "data": {
      "text/html": [
       "<div>\n",
       "<style scoped>\n",
       "    .dataframe tbody tr th:only-of-type {\n",
       "        vertical-align: middle;\n",
       "    }\n",
       "\n",
       "    .dataframe tbody tr th {\n",
       "        vertical-align: top;\n",
       "    }\n",
       "\n",
       "    .dataframe thead th {\n",
       "        text-align: right;\n",
       "    }\n",
       "</style>\n",
       "<table border=\"1\" class=\"dataframe\">\n",
       "  <thead>\n",
       "    <tr style=\"text-align: right;\">\n",
       "      <th></th>\n",
       "      <th>course_name</th>\n",
       "      <th>teacher_intro</th>\n",
       "      <th>sub_groups</th>\n",
       "      <th>topics</th>\n",
       "      <th>will_learn</th>\n",
       "      <th>target_group</th>\n",
       "    </tr>\n",
       "  </thead>\n",
       "  <tbody>\n",
       "    <tr>\n",
       "      <th>0</th>\n",
       "      <td>少女人妻華麗變身：七大妝容七彩的夢幻樂園</td>\n",
       "      <td>在美妝KOL圈裡屬個人風格強烈的Alice，在清新與叛逆風格間遊刃有餘，其幽默的美妝影片手法...</td>\n",
       "      <td>更多生活品味,護膚保養與化妝</td>\n",
       "      <td>更多生活品味,護膚保養與化妝</td>\n",
       "      <td>不再害怕各種顏色的彩妝，可以更隨心搭配各種繽紛的顏色。\\n</td>\n",
       "      <td>熱愛彩妝的人</td>\n",
       "    </tr>\n",
       "    <tr>\n",
       "      <th>1</th>\n",
       "      <td>幾何圖形分割X色塊組合</td>\n",
       "      <td>從學生時代開始摸索photoshop等軟體，自以為有些天賦但後來發現其實沒有。出社會後從事美...</td>\n",
       "      <td>平面設計,繪畫與插畫</td>\n",
       "      <td>Illustrator/以拉,配色技巧</td>\n",
       "      <td>可以將任何區塊分割成自己想要的幾何圖形、快速的上色，並且能夠應用在許多地方</td>\n",
       "      <td>每一位興趣的人都能學得來，非常容易的小技巧</td>\n",
       "    </tr>\n",
       "  </tbody>\n",
       "</table>\n",
       "</div>"
      ],
      "text/plain": [
       "            course_name                                      teacher_intro  \\\n",
       "0  少女人妻華麗變身：七大妝容七彩的夢幻樂園  在美妝KOL圈裡屬個人風格強烈的Alice，在清新與叛逆風格間遊刃有餘，其幽默的美妝影片手法...   \n",
       "1           幾何圖形分割X色塊組合  從學生時代開始摸索photoshop等軟體，自以為有些天賦但後來發現其實沒有。出社會後從事美...   \n",
       "\n",
       "       sub_groups               topics                             will_learn  \\\n",
       "0  更多生活品味,護膚保養與化妝       更多生活品味,護膚保養與化妝          不再害怕各種顏色的彩妝，可以更隨心搭配各種繽紛的顏色。\\n   \n",
       "1      平面設計,繪畫與插畫  Illustrator/以拉,配色技巧  可以將任何區塊分割成自己想要的幾何圖形、快速的上色，並且能夠應用在許多地方   \n",
       "\n",
       "            target_group  \n",
       "0                 熱愛彩妝的人  \n",
       "1  每一位興趣的人都能學得來，非常容易的小技巧  "
      ]
     },
     "execution_count": 5,
     "metadata": {},
     "output_type": "execute_result"
    }
   ],
   "source": [
    "def clean_data(x):\n",
    "        return x.replace(\" \", \"\")\n",
    "\n",
    "fillna=course_df.fillna('')\n",
    "features= ['course_name', 'teacher_intro', 'sub_groups', 'topics', 'will_learn', 'target_group']\n",
    "fillna=fillna[features]\n",
    "for feature in features:\n",
    "    fillna[feature] = fillna[feature].apply(clean_data)\n",
    "    \n",
    "fillna.head(2)"
   ]
  },
  {
   "cell_type": "code",
   "execution_count": 6,
   "metadata": {},
   "outputs": [],
   "source": [
    "def create_combination(x):\n",
    "    return x['course_name']+ ' ' + x['teacher_intro'] + ' ' + x['sub_groups'] + ' ' + x['topics'] + ' ' + x['will_learn'] + ' ' + x['target_group'] \n",
    "\n",
    "fillna['combination'] = fillna.apply(create_combination, axis=1)"
   ]
  },
  {
   "cell_type": "code",
   "execution_count": 7,
   "metadata": {},
   "outputs": [
    {
     "data": {
      "text/html": [
       "<div>\n",
       "<style scoped>\n",
       "    .dataframe tbody tr th:only-of-type {\n",
       "        vertical-align: middle;\n",
       "    }\n",
       "\n",
       "    .dataframe tbody tr th {\n",
       "        vertical-align: top;\n",
       "    }\n",
       "\n",
       "    .dataframe thead th {\n",
       "        text-align: right;\n",
       "    }\n",
       "</style>\n",
       "<table border=\"1\" class=\"dataframe\">\n",
       "  <thead>\n",
       "    <tr style=\"text-align: right;\">\n",
       "      <th></th>\n",
       "      <th>course_name</th>\n",
       "      <th>teacher_intro</th>\n",
       "      <th>sub_groups</th>\n",
       "      <th>topics</th>\n",
       "      <th>will_learn</th>\n",
       "      <th>target_group</th>\n",
       "      <th>combination</th>\n",
       "    </tr>\n",
       "  </thead>\n",
       "  <tbody>\n",
       "    <tr>\n",
       "      <th>0</th>\n",
       "      <td>少女人妻華麗變身：七大妝容七彩的夢幻樂園</td>\n",
       "      <td>在美妝KOL圈裡屬個人風格強烈的Alice，在清新與叛逆風格間遊刃有餘，其幽默的美妝影片手法...</td>\n",
       "      <td>更多生活品味,護膚保養與化妝</td>\n",
       "      <td>更多生活品味,護膚保養與化妝</td>\n",
       "      <td>不再害怕各種顏色的彩妝，可以更隨心搭配各種繽紛的顏色。\\n</td>\n",
       "      <td>熱愛彩妝的人</td>\n",
       "      <td>少女人妻華麗變身：七大妝容七彩的夢幻樂園 在美妝KOL圈裡屬個人風格強烈的Alice，在清新...</td>\n",
       "    </tr>\n",
       "    <tr>\n",
       "      <th>1</th>\n",
       "      <td>幾何圖形分割X色塊組合</td>\n",
       "      <td>從學生時代開始摸索photoshop等軟體，自以為有些天賦但後來發現其實沒有。出社會後從事美...</td>\n",
       "      <td>平面設計,繪畫與插畫</td>\n",
       "      <td>Illustrator/以拉,配色技巧</td>\n",
       "      <td>可以將任何區塊分割成自己想要的幾何圖形、快速的上色，並且能夠應用在許多地方</td>\n",
       "      <td>每一位興趣的人都能學得來，非常容易的小技巧</td>\n",
       "      <td>幾何圖形分割X色塊組合 從學生時代開始摸索photoshop等軟體，自以為有些天賦但後來發現...</td>\n",
       "    </tr>\n",
       "  </tbody>\n",
       "</table>\n",
       "</div>"
      ],
      "text/plain": [
       "            course_name                                      teacher_intro  \\\n",
       "0  少女人妻華麗變身：七大妝容七彩的夢幻樂園  在美妝KOL圈裡屬個人風格強烈的Alice，在清新與叛逆風格間遊刃有餘，其幽默的美妝影片手法...   \n",
       "1           幾何圖形分割X色塊組合  從學生時代開始摸索photoshop等軟體，自以為有些天賦但後來發現其實沒有。出社會後從事美...   \n",
       "\n",
       "       sub_groups               topics                             will_learn  \\\n",
       "0  更多生活品味,護膚保養與化妝       更多生活品味,護膚保養與化妝          不再害怕各種顏色的彩妝，可以更隨心搭配各種繽紛的顏色。\\n   \n",
       "1      平面設計,繪畫與插畫  Illustrator/以拉,配色技巧  可以將任何區塊分割成自己想要的幾何圖形、快速的上色，並且能夠應用在許多地方   \n",
       "\n",
       "            target_group                                        combination  \n",
       "0                 熱愛彩妝的人  少女人妻華麗變身：七大妝容七彩的夢幻樂園 在美妝KOL圈裡屬個人風格強烈的Alice，在清新...  \n",
       "1  每一位興趣的人都能學得來，非常容易的小技巧  幾何圖形分割X色塊組合 從學生時代開始摸索photoshop等軟體，自以為有些天賦但後來發現...  "
      ]
     },
     "execution_count": 7,
     "metadata": {},
     "output_type": "execute_result"
    }
   ],
   "source": [
    "fillna.head(2)"
   ]
  },
  {
   "cell_type": "code",
   "execution_count": 8,
   "metadata": {},
   "outputs": [
    {
     "data": {
      "text/plain": [
       "(728, 20224)"
      ]
     },
     "execution_count": 8,
     "metadata": {},
     "output_type": "execute_result"
    }
   ],
   "source": [
    "from sklearn.feature_extraction.text import CountVectorizer\n",
    "from sklearn.metrics.pairwise import cosine_similarity\n",
    "from sklearn.feature_extraction.text import TfidfVectorizer\n",
    "from sklearn.metrics.pairwise import linear_kernel\n",
    "\n",
    "\n",
    "tfidf = TfidfVectorizer(stop_words='english')\n",
    "#Construct the required TF-IDF matrix by fitting and transforming the data\n",
    "tfidf_matrix = tfidf.fit_transform(fillna['combination'])\n",
    "# Compute the cosine similarity matrix\n",
    "cosine_sim2 = linear_kernel(tfidf_matrix, tfidf_matrix)\n",
    "#Output the shape of tfidf_matrix\n",
    "tfidf_matrix.shape\n",
    "\n",
    "\n",
    "# count = CountVectorizer(stop_words='english')\n",
    "# count_matrix = count.fit_transform(fillna['combination'])\n",
    "\n",
    "# cosine_sim2 = cosine_similarity(count_matrix, count_matrix)"
   ]
  },
  {
   "cell_type": "code",
   "execution_count": 16,
   "metadata": {},
   "outputs": [
    {
     "data": {
      "text/plain": [
       "['5ff6aa28c5cbbcb694532eaa',\n",
       " '5e7c50f431e8dd0029db3a65',\n",
       " '605ca63e3cd943ce48dc5daa',\n",
       " '5fb7565f2945a52e5e2dca8a',\n",
       " '6040818e043b47f89a5c8f41',\n",
       " '5da7ddea98176600213caf36',\n",
       " '60a1cf0ea479bf08e4f5991b',\n",
       " '59f1ea744b1842001e21b7c7',\n",
       " '5ef0a8a5775dea0566e6cb5f',\n",
       " '5ef0a2198e8212c4e6335387',\n",
       " '585eb576f108e00800c21f76',\n",
       " '5a536d335518aa001e320f7c',\n",
       " '578ce3ced0c3030700416c46',\n",
       " '589fe5035f188a07007fd5b2',\n",
       " '5a6f15aee77921001e624ee9',\n",
       " '5ef099ab678184065fd4d426',\n",
       " '57a30629d0c303070041dc4b',\n",
       " '5c31cb926bbdc8002102405e',\n",
       " '5e9c2c813b0256ad483ff17b',\n",
       " '5905b47ab684bf0700ec788d']"
      ]
     },
     "execution_count": 16,
     "metadata": {},
     "output_type": "execute_result"
    }
   ],
   "source": [
    "def get_recommendations_new(haved_courses_list, cosine_sim, top = 10):\n",
    "    cosine_sim_sum = [ [i, 0] for i in range(len(course2id_mapping))]\n",
    "    haved_courses_index_list = [ course2id_mapping[course_id] for course_id in haved_courses_list]\n",
    "    for idx in haved_courses_index_list:\n",
    "        # Get the pairwsie similarity scores of all courses with that course\n",
    "        sim_scores = list(enumerate(cosine_sim[idx]))\n",
    "        for i in range(len(sim_scores)):\n",
    "            cosine_sim_sum[i][1] += sim_scores[i][1]\n",
    "\n",
    "    # Sort the movies based on the similarity scores\n",
    "    sim_scores = sorted(cosine_sim_sum, key=lambda x: x[1], reverse=True)\n",
    "\n",
    "    recommend_indices = []\n",
    "    # Get the scores of the 10 most course not buy\n",
    "    for i in range(len(sim_scores)):\n",
    "        if len(recommend_indices) < top:\n",
    "            if sim_scores[i][0] not in haved_courses_index_list:\n",
    "                recommend_indices.append(sim_scores[i][0])\n",
    "\n",
    "    # Return the top 10 most similar movies\n",
    "    return course_df['course_id'].iloc[recommend_indices].tolist()\n",
    "    \n",
    "get_recommendations_new(['5f194354cad0d086f3ee24cf', '6156a77fdf426a0007cc5fe1'], cosine_sim2, 20)"
   ]
  },
  {
   "cell_type": "code",
   "execution_count": 12,
   "metadata": {},
   "outputs": [
    {
     "name": "stdout",
     "output_type": "stream",
     "text": [
      "59737\n"
     ]
    }
   ],
   "source": [
    "seen_predict_df = pd.read_csv('./data/test_seen.csv')\n",
    "predict_user = seen_predict_df[\"user_id\"].to_list()\n",
    "\n",
    "\n",
    "seen_user_haved_purchased_course = {}\n",
    "for seen_user_id, course_ids in zip(train_df[\"user_id\"], train_df[\"course_id\"]):\n",
    "    course_id_list = course_ids.split(' ')\n",
    "    seen_user_haved_purchased_course[seen_user_id] = seen_user_haved_purchased_course.setdefault(seen_user_id, []) + course_id_list\n",
    "for seen_user_id, course_ids in zip(val_seen_df[\"user_id\"], val_seen_df[\"course_id\"]):\n",
    "    course_id_list = course_ids.split(' ')\n",
    "    seen_user_haved_purchased_course[seen_user_id] = seen_user_haved_purchased_course.setdefault(seen_user_id, []) + course_id_list\n",
    "print(len(seen_user_haved_purchased_course))"
   ]
  },
  {
   "cell_type": "code",
   "execution_count": 13,
   "metadata": {},
   "outputs": [],
   "source": [
    "import csv\n",
    "\n",
    "predict_users = seen_predict_df[\"user_id\"].to_list()\n",
    "with open(\"predict.csv\", \"w\") as f:\n",
    "    writer = csv.writer(f)\n",
    "    writer.writerow([\"user_id\", \"course_id\"])\n",
    "    for user_id in predict_users:\n",
    "        recommend = \" \".join(get_recommendations_new(seen_user_haved_purchased_course[user_id], cosine_sim2, top = 50))\n",
    "        writer.writerow([user_id, recommend])"
   ]
  },
  {
   "cell_type": "code",
   "execution_count": null,
   "metadata": {},
   "outputs": [],
   "source": []
  }
 ],
 "metadata": {
  "kernelspec": {
   "display_name": "adlhw3",
   "language": "python",
   "name": "python3"
  },
  "language_info": {
   "codemirror_mode": {
    "name": "ipython",
    "version": 3
   },
   "file_extension": ".py",
   "mimetype": "text/x-python",
   "name": "python",
   "nbconvert_exporter": "python",
   "pygments_lexer": "ipython3",
   "version": "3.8.13"
  },
  "orig_nbformat": 4,
  "vscode": {
   "interpreter": {
    "hash": "9dedd2b11c6d65023ba78f004c00adcb97ea7737d51ff1d03c402b08b92e7cef"
   }
  }
 },
 "nbformat": 4,
 "nbformat_minor": 2
}
