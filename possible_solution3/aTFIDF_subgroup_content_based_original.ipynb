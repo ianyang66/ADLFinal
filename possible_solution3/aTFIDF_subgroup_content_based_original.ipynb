{
 "cells": [
  {
   "cell_type": "code",
   "execution_count": 1,
   "metadata": {},
   "outputs": [],
   "source": [
    "import pandas as pd\n",
    "import numpy as np\n",
    "import pickle\n",
    "from bs4 import BeautifulSoup"
   ]
  },
  {
   "cell_type": "code",
   "execution_count": 2,
   "metadata": {},
   "outputs": [],
   "source": [
    "course_chapter_items_df = pd.read_csv('./data/course_chapter_items.csv')\n",
    "course_df = pd.read_csv('./data/courses.csv')\n",
    "users_df = pd.read_csv('./data/users.csv')\n",
    "subgroups_df = pd.read_csv('./data/subgroups.csv')\n",
    "\n",
    "train_group_df = pd.read_csv('./data/train_group.csv')\n",
    "test_seen_group_df = pd.read_csv('./data/test_seen_group.csv')\n",
    "val_seen_group_df = pd.read_csv('./data/val_seen_group.csv')\n",
    "test_unseen_group_df = pd.read_csv('./data/test_unseen_group.csv')\n",
    "val_unseen_group_df = pd.read_csv('./data/val_unseen_group.csv')\n",
    "\n",
    "train_df = pd.read_csv('./data/train.csv')\n",
    "test_seen_df = pd.read_csv('./data/test_seen.csv')\n",
    "val_seen_df = pd.read_csv('./data/val_seen.csv')\n",
    "test_unseen_df = pd.read_csv('./data/test_unseen.csv')\n",
    "val_unseen_df = pd.read_csv('./data/val_unseen.csv')"
   ]
  },
  {
   "cell_type": "code",
   "execution_count": 3,
   "metadata": {},
   "outputs": [
    {
     "data": {
      "text/html": [
       "<div>\n",
       "<style scoped>\n",
       "    .dataframe tbody tr th:only-of-type {\n",
       "        vertical-align: middle;\n",
       "    }\n",
       "\n",
       "    .dataframe tbody tr th {\n",
       "        vertical-align: top;\n",
       "    }\n",
       "\n",
       "    .dataframe thead th {\n",
       "        text-align: right;\n",
       "    }\n",
       "</style>\n",
       "<table border=\"1\" class=\"dataframe\">\n",
       "  <thead>\n",
       "    <tr style=\"text-align: right;\">\n",
       "      <th></th>\n",
       "      <th>course_id</th>\n",
       "      <th>course_name</th>\n",
       "      <th>course_price</th>\n",
       "      <th>teacher_id</th>\n",
       "      <th>teacher_intro</th>\n",
       "      <th>groups</th>\n",
       "      <th>sub_groups</th>\n",
       "      <th>groups+subgroups</th>\n",
       "      <th>topics</th>\n",
       "      <th>course_published_at_local</th>\n",
       "      <th>description</th>\n",
       "      <th>will_learn</th>\n",
       "      <th>required_tools</th>\n",
       "      <th>recommended_background</th>\n",
       "      <th>target_group</th>\n",
       "    </tr>\n",
       "  </thead>\n",
       "  <tbody>\n",
       "    <tr>\n",
       "      <th>0</th>\n",
       "      <td>61888e868f154b000781b45a</td>\n",
       "      <td>少女人妻華麗變身：七大妝容七彩的夢幻樂園</td>\n",
       "      <td>1800</td>\n",
       "      <td>61888e7bb7fe1c0006850eff</td>\n",
       "      <td>在美妝 KOL 圈裡屬個人風格強烈的 Alice，在清新與叛逆風格間遊刃有餘，其幽默的美妝影...</td>\n",
       "      <td>生活品味</td>\n",
       "      <td>更多生活品味,護膚保養與化妝</td>\n",
       "      <td>生活品味_更多生活品味,生活品味_護膚保養與化妝</td>\n",
       "      <td>更多生活品味,護膚保養與化妝</td>\n",
       "      <td>NaN</td>\n",
       "      <td>&lt;img src=\"https://images.api.hahow.in/images/6...</td>\n",
       "      <td>不再害怕各種顏色的彩妝，可以更隨心搭配各種繽紛的顏色。\\n</td>\n",
       "      <td>所需工具為：視課程實際會用到的彩妝用品</td>\n",
       "      <td>只要你有一顆愛化妝、想變漂亮的心皆可以參加。\\n\\n⚠️ 雖然課程當中會帶到相關彩妝技巧，不...</td>\n",
       "      <td>熱愛彩妝的人</td>\n",
       "    </tr>\n",
       "  </tbody>\n",
       "</table>\n",
       "</div>"
      ],
      "text/plain": [
       "                  course_id           course_name  course_price  \\\n",
       "0  61888e868f154b000781b45a  少女人妻華麗變身：七大妝容七彩的夢幻樂園          1800   \n",
       "\n",
       "                 teacher_id  \\\n",
       "0  61888e7bb7fe1c0006850eff   \n",
       "\n",
       "                                       teacher_intro groups      sub_groups  \\\n",
       "0  在美妝 KOL 圈裡屬個人風格強烈的 Alice，在清新與叛逆風格間遊刃有餘，其幽默的美妝影...   生活品味  更多生活品味,護膚保養與化妝   \n",
       "\n",
       "           groups+subgroups          topics  course_published_at_local  \\\n",
       "0  生活品味_更多生活品味,生活品味_護膚保養與化妝  更多生活品味,護膚保養與化妝                        NaN   \n",
       "\n",
       "                                         description  \\\n",
       "0  <img src=\"https://images.api.hahow.in/images/6...   \n",
       "\n",
       "                      will_learn       required_tools  \\\n",
       "0  不再害怕各種顏色的彩妝，可以更隨心搭配各種繽紛的顏色。\\n  所需工具為：視課程實際會用到的彩妝用品   \n",
       "\n",
       "                              recommended_background target_group  \n",
       "0  只要你有一顆愛化妝、想變漂亮的心皆可以參加。\\n\\n⚠️ 雖然課程當中會帶到相關彩妝技巧，不...       熱愛彩妝的人  "
      ]
     },
     "execution_count": 3,
     "metadata": {},
     "output_type": "execute_result"
    }
   ],
   "source": [
    "course_df.head(1)"
   ]
  },
  {
   "attachments": {},
   "cell_type": "markdown",
   "metadata": {},
   "source": [
    "# 課程 Vectorize"
   ]
  },
  {
   "cell_type": "code",
   "execution_count": 4,
   "metadata": {},
   "outputs": [
    {
     "data": {
      "text/plain": [
       "728"
      ]
     },
     "execution_count": 4,
     "metadata": {},
     "output_type": "execute_result"
    }
   ],
   "source": [
    "id2course_mapping = course_df[\"course_id\"].to_dict()\n",
    "course2id_mapping = {v : k for k, v in id2course_mapping.items()}\n",
    "len(course2id_mapping)\n"
   ]
  },
  {
   "cell_type": "code",
   "execution_count": 5,
   "metadata": {},
   "outputs": [
    {
     "name": "stderr",
     "output_type": "stream",
     "text": [
      "/tmp/ipykernel_2033/4009512890.py:6: SettingWithCopyWarning: \n",
      "A value is trying to be set on a copy of a slice from a DataFrame\n",
      "\n",
      "See the caveats in the documentation: https://pandas.pydata.org/pandas-docs/stable/user_guide/indexing.html#returning-a-view-versus-a-copy\n",
      "  course_df['description'][i] = s1\n"
     ]
    }
   ],
   "source": [
    "#course_df = course_df.drop(['teacher_id', 'course_published_at_local', 'course_published_at_local', 'course_price'], axis=1)\n",
    "for i in range(728):\n",
    "    s = ''\n",
    "    s = course_df['description'][i]\n",
    "    s1 = BeautifulSoup(str(s) ,'lxml').text\n",
    "    course_df['description'][i] = s1"
   ]
  },
  {
   "cell_type": "code",
   "execution_count": 6,
   "metadata": {},
   "outputs": [],
   "source": [
    "course_df = course_df.replace('\\n', '',regex=True).replace('&.;', '',regex=True).replace(\"--&?\", \"\",regex=True)"
   ]
  },
  {
   "cell_type": "code",
   "execution_count": 7,
   "metadata": {},
   "outputs": [
    {
     "data": {
      "text/html": [
       "<div>\n",
       "<style scoped>\n",
       "    .dataframe tbody tr th:only-of-type {\n",
       "        vertical-align: middle;\n",
       "    }\n",
       "\n",
       "    .dataframe tbody tr th {\n",
       "        vertical-align: top;\n",
       "    }\n",
       "\n",
       "    .dataframe thead th {\n",
       "        text-align: right;\n",
       "    }\n",
       "</style>\n",
       "<table border=\"1\" class=\"dataframe\">\n",
       "  <thead>\n",
       "    <tr style=\"text-align: right;\">\n",
       "      <th></th>\n",
       "      <th>course_name</th>\n",
       "      <th>teacher_intro</th>\n",
       "      <th>groups</th>\n",
       "      <th>sub_groups</th>\n",
       "      <th>topics</th>\n",
       "      <th>will_learn</th>\n",
       "      <th>recommended_background</th>\n",
       "      <th>target_group</th>\n",
       "      <th>required_tools</th>\n",
       "      <th>description</th>\n",
       "      <th>groups+subgroups</th>\n",
       "    </tr>\n",
       "  </thead>\n",
       "  <tbody>\n",
       "    <tr>\n",
       "      <th>0</th>\n",
       "      <td>少女人妻華麗變身：七大妝容七彩的夢幻樂園</td>\n",
       "      <td>在美妝KOL圈裡屬個人風格強烈的Alice，在清新與叛逆風格間遊刃有餘，其幽默的美妝影片手法...</td>\n",
       "      <td>生活品味</td>\n",
       "      <td>更多生活品味,護膚保養與化妝</td>\n",
       "      <td>更多生活品味,護膚保養與化妝</td>\n",
       "      <td>不再害怕各種顏色的彩妝，可以更隨心搭配各種繽紛的顏色。</td>\n",
       "      <td>只要你有一顆愛化妝、想變漂亮的心皆可以參加。⚠️雖然課程當中會帶到相關彩妝技巧，不過內容偏向...</td>\n",
       "      <td>熱愛彩妝的人</td>\n",
       "      <td>所需工具為：視課程實際會用到的彩妝用品</td>\n",
       "      <td>少女人妻第一堂線上課程，跟著我一起華麗變身！在社群上許多人經常問我：「為什麼人妻畫的妝那麼好...</td>\n",
       "      <td>生活品味_更多生活品味,生活品味_護膚保養與化妝</td>\n",
       "    </tr>\n",
       "  </tbody>\n",
       "</table>\n",
       "</div>"
      ],
      "text/plain": [
       "            course_name                                      teacher_intro  \\\n",
       "0  少女人妻華麗變身：七大妝容七彩的夢幻樂園  在美妝KOL圈裡屬個人風格強烈的Alice，在清新與叛逆風格間遊刃有餘，其幽默的美妝影片手法...   \n",
       "\n",
       "  groups      sub_groups          topics                   will_learn  \\\n",
       "0   生活品味  更多生活品味,護膚保養與化妝  更多生活品味,護膚保養與化妝  不再害怕各種顏色的彩妝，可以更隨心搭配各種繽紛的顏色。   \n",
       "\n",
       "                              recommended_background target_group  \\\n",
       "0  只要你有一顆愛化妝、想變漂亮的心皆可以參加。⚠️雖然課程當中會帶到相關彩妝技巧，不過內容偏向...       熱愛彩妝的人   \n",
       "\n",
       "        required_tools                                        description  \\\n",
       "0  所需工具為：視課程實際會用到的彩妝用品  少女人妻第一堂線上課程，跟著我一起華麗變身！在社群上許多人經常問我：「為什麼人妻畫的妝那麼好...   \n",
       "\n",
       "           groups+subgroups  \n",
       "0  生活品味_更多生活品味,生活品味_護膚保養與化妝  "
      ]
     },
     "execution_count": 7,
     "metadata": {},
     "output_type": "execute_result"
    }
   ],
   "source": [
    "def clean_data(x):\n",
    "    return x.replace(\" \", \"\")\n",
    "\n",
    "fillna=course_df.fillna('')\n",
    "features= ['course_name', 'teacher_intro', 'groups', 'sub_groups', 'topics', 'will_learn', 'recommended_background', 'target_group', 'required_tools' ,'description','groups+subgroups']\n",
    "fillna=fillna[features]\n",
    "for feature in features:\n",
    "    fillna[feature] = fillna[feature].apply(clean_data)\n",
    "    \n",
    "fillna.head(1)"
   ]
  },
  {
   "cell_type": "code",
   "execution_count": 30,
   "metadata": {},
   "outputs": [
    {
     "data": {
      "text/plain": [
       "0    少女人妻華麗變身：七大妝容七彩的夢幻樂園 在美妝KOL圈裡屬個人風格強烈的Alice，在清新...\n",
       "1    幾何圖形分割X色塊組合 從學生時代開始摸索photoshop等軟體，自以為有些天賦但後來發現...\n",
       "2    數位拼貼的手感 自由工作者，致力於品牌視覺規劃，包含識別系統設計、平面設計、包裝設計、網頁、...\n",
       "3    Line的貼圖自己動手做！ 我是Danny，現是一名自由接案的插畫師，主要是做插畫設計、人物...\n",
       "4    為申請學校或工作寫好英文自傳 在北美長大，回到南台灣尋根後，現落腳於南加州的庄腳嬰仔。在鑽研...\n",
       "Name: combination, dtype: object"
      ]
     },
     "execution_count": 30,
     "metadata": {},
     "output_type": "execute_result"
    }
   ],
   "source": [
    "#import jieba.analyse\n",
    "# 想說可用jieba之類的，但不一定會比較好\n",
    "def create_combination(x):\n",
    "    course_name = x['course_name']\n",
    "    teacher_intro = x['teacher_intro']\n",
    "    will_learn = x['will_learn']\n",
    "    recommended_background = x['recommended_background']\n",
    "    target_group = x['target_group']\n",
    "    required_tools = x['required_tools']\n",
    "    group = x['groups']\n",
    "    text = course_name + ' ' + teacher_intro +  ' ' +  group + ' ' + group + ' ' + group + ' ' + x['sub_groups'] +' ' + x['sub_groups'] + ' ' +x['sub_groups'] + ' ' +  x['topics'] + ' ' + will_learn + ' ' + x['groups+subgroups'] + ' ' + teacher_intro\n",
    "    #text = course_name + ' ' + teacher_intro + ' ' + x['groups'] + ' ' + x['sub_groups'] + ' ' + x['topics'] + ' ' + will_learn + ' ' + recommended_background + ' ' + target_group + ' ' + x['groups+subgroups']\n",
    "\n",
    "    return text\n",
    "\n",
    "fillna['combination'] = fillna.apply(create_combination, axis=1)\n",
    "fillna['combination'].head(5)"
   ]
  },
  {
   "cell_type": "code",
   "execution_count": 31,
   "metadata": {},
   "outputs": [],
   "source": [
    "from sklearn.feature_extraction.text import CountVectorizer\n",
    "from sklearn.metrics.pairwise import cosine_similarity\n",
    "from sklearn.feature_extraction.text import TfidfVectorizer\n",
    "from sklearn.metrics.pairwise import linear_kernel\n",
    "import datetime\n",
    "from scipy.sparse import csr_matrix\n",
    "import jieba\n",
    "import re"
   ]
  },
  {
   "cell_type": "code",
   "execution_count": 32,
   "metadata": {},
   "outputs": [],
   "source": [
    "def tokenize(sentence):\n",
    "    without_duplicates = re.sub(r'(.)\\1+', r'\\1\\1', sentence)\n",
    "    #ws_token = ws(without_duplicates)\n",
    "    return jieba.lcut(without_duplicates)"
   ]
  },
  {
   "cell_type": "code",
   "execution_count": 479,
   "metadata": {},
   "outputs": [
    {
     "data": {
      "text/plain": [
       "603"
      ]
     },
     "execution_count": 479,
     "metadata": {},
     "output_type": "execute_result"
    }
   ],
   "source": [
    "se = '少女人妻華麗變身：七大妝容七彩的夢幻樂園 在美妝KOL圈裡屬個人風格強烈的Alice，在清新與叛逆風格間遊刃有餘，其幽默的美妝影片手法引起許多粉絲的共鳴，因此廣受廠商與粉絲喜愛。 生活品味 生活品味 生活品味 更多生活品味,護膚保養與化妝 少女人妻第一堂線上課程，跟著我一起華麗變身！在社群上許多人經常問我：「為什麼人妻畫的妝那麼好看？」、「為什麼任何顏色在人妻臉上都那麼合理？」，而這些用色的妝容秘密，都即將在這堂課程中揭曉。我的美妝創作就是尋找生活中的不同靈感，將臉當作畫布，再用彩妝將它呈現。透過本堂課程的開設，希望讓同學能夠活用各種顏色，透過分享我的化妝技巧，帶你畫出七大色系的妝容，完成你自己最想要的妝容定調！讓你掌握七大色系的美妝應用，消滅對顏色的使用疑慮七大色系的色彩揮灑，讓你在忙碌的日常生活中也不鬆懈自己的美貌！化妝並不是為了誰，而是要美給自己看，不論妳幾歲，愛美的心都不能被消滅，這堂課程希望能夠消滅你對顏色的疑慮，勇敢大膽地去揮灑色彩、精采生活，讓你的美貌有更多可能性！在美妝KOL圈裡屬個人風格強烈的Alice，在清新與叛逆風格間遊刃有餘，其幽默的美妝影片手法引起許多粉絲的共鳴，因此廣受廠商與粉絲喜愛。Facebook粉專：What\\'sthePinklio少女人妻的粉紅玩具Instagram：@alice_ko_depp七大妝容色系切入，邁向「零廢色」的彩妝世界在化妝這條路上，你是不是會碰到這樣子的問題呢：主流色系看了好膩，每年熱門妝容也總是千篇一律每盤眼影當中，總有1～2個顏色看了就怯步，不敢嘗試雖然已有化妝底子，卻沒有個人特色，難以發展風格繽紛多彩的彩妝設計雖然真的很迷人，常常讓人不小心手滑，不過在把新奇戰利品帶回家時，如果無法掌握使用之道，還是很有可能會不停踩雷。這堂課程就是想透過七大妝容的示範，讓你可以從中領會箇中之道！更詳盡的美妝手法教學，成就你想要的樣子「解鎖那些你不敢用的顏色，化妝就是讓自己變漂亮！」比起少女人妻的YouTube頻道影片或者短影片教學，這堂課程將會從七大妝容、七大色系切入教學，期待你上完這堂課，完全進入「完全零廢色」的彩妝世界，我們需要思考的，是什麼樣的方式能夠讓妳完成想要的妝容，最適合自己、讓自己更美麗的妝才是最重要的！七個色系課程單元，從技法到顏色一次掌握！紅色妝容-姐畫的不是妝，是自信：日常必備的自然紅潤好氣色➤重點技巧如何評估自己的肌膚色系'\n",
    "without_duplicates = re.sub(r'(.)\\1+', r'\\1\\1', se)\n",
    "#ws_token = ws()\n",
    "len(jieba.lcut(without_duplicates))"
   ]
  },
  {
   "cell_type": "code",
   "execution_count": 33,
   "metadata": {},
   "outputs": [],
   "source": [
    "tfidf = TfidfVectorizer(tokenizer=tokenize,stop_words='english')\n",
    "#Construct the required TF-IDF matrix by fitting and transforming the data\n",
    "tfidf_matrix = tfidf.fit_transform(fillna['combination'])\n",
    "\n",
    "# TF-IDF Dicitonary\n",
    "#dictionary = dict(zip(tfidf.get_feature_names(), list(tfidf.idf_)))\n",
    "#print(tfidf.vocabulary_)\n",
    "#print(tfidf_matrix)\n",
    "tfidf_matrix_nd = tfidf_matrix.toarray()\n",
    "np.save('tfidf_embedding/item_embeddings_jieba_english_all.npy', tfidf_matrix_nd)"
   ]
  },
  {
   "cell_type": "code",
   "execution_count": 34,
   "metadata": {},
   "outputs": [
    {
     "name": "stdout",
     "output_type": "stream",
     "text": [
      "14650\n"
     ]
    },
    {
     "data": {
      "text/plain": [
       "[('少女', 5849), ('人', 2368)]"
      ]
     },
     "execution_count": 34,
     "metadata": {},
     "output_type": "execute_result"
    }
   ],
   "source": [
    "print(len(tfidf.get_feature_names_out()))\n",
    "list(tfidf.vocabulary_.items())[:2]"
   ]
  },
  {
   "cell_type": "code",
   "execution_count": 35,
   "metadata": {},
   "outputs": [
    {
     "name": "stdout",
     "output_type": "stream",
     "text": [
      "(728, 14650)\n",
      "(728, 14650)\n"
     ]
    }
   ],
   "source": [
    "from scipy.sparse import csr_matrix\n",
    "item_embed_FM = np.load('tfidf_embedding/item_embeddings_jieba_english_all.npy')\n",
    "item_embed_FM = item_embed_FM[:728]\n",
    "print(tfidf_matrix.shape)\n",
    "print(item_embed_FM.shape)"
   ]
  },
  {
   "cell_type": "code",
   "execution_count": 36,
   "metadata": {},
   "outputs": [
    {
     "name": "stdout",
     "output_type": "stream",
     "text": [
      "(728, 29300)\n"
     ]
    }
   ],
   "source": [
    "concatenate_item_embed_nd = np.concatenate([tfidf_matrix_nd, item_embed_FM/100], axis = 1)\n",
    "print(concatenate_item_embed_nd.shape)\n",
    "concatenate_item_embed = csr_matrix(concatenate_item_embed_nd)"
   ]
  },
  {
   "cell_type": "code",
   "execution_count": 37,
   "metadata": {},
   "outputs": [
    {
     "name": "stdout",
     "output_type": "stream",
     "text": [
      "(728, 29300)\n"
     ]
    },
    {
     "data": {
      "text/plain": [
       "(728, 728)"
      ]
     },
     "execution_count": 37,
     "metadata": {},
     "output_type": "execute_result"
    }
   ],
   "source": [
    "\n",
    "# Compute the cosine similarity matrix\n",
    "print(concatenate_item_embed_nd.shape)\n",
    "cosine_sim2 = linear_kernel(concatenate_item_embed, concatenate_item_embed)\n",
    "#Output the shape of tfidf_matrix\n",
    "cosine_sim2.shape"
   ]
  },
  {
   "cell_type": "code",
   "execution_count": 348,
   "metadata": {},
   "outputs": [
    {
     "ename": "TypeError",
     "evalue": "cannot pickle '_thread.RLock' object",
     "output_type": "error",
     "traceback": [
      "\u001b[0;31m---------------------------------------------------------------------------\u001b[0m",
      "\u001b[0;31mTypeError\u001b[0m                                 Traceback (most recent call last)",
      "Cell \u001b[0;32mIn [348], line 4\u001b[0m\n\u001b[1;32m      2\u001b[0m tfidf_save \u001b[39m=\u001b[39m {\u001b[39m\"\u001b[39m\u001b[39mTfidfVectorizer\u001b[39m\u001b[39m\"\u001b[39m: tfidf, \u001b[39m\"\u001b[39m\u001b[39mTfidf_matrix\u001b[39m\u001b[39m\"\u001b[39m: tfidf_matrix, \u001b[39m\"\u001b[39m\u001b[39mlightFM_embeding_matrix\u001b[39m\u001b[39m\"\u001b[39m: item_embed_FM, \u001b[39m\"\u001b[39m\u001b[39mconcatenate_matrix\u001b[39m\u001b[39m\"\u001b[39m: concatenate_item_embed}\n\u001b[1;32m      3\u001b[0m \u001b[39mwith\u001b[39;00m \u001b[39mopen\u001b[39m(\u001b[39m'\u001b[39m\u001b[39mcontent_embed/all_jieba.pickle\u001b[39m\u001b[39m'\u001b[39m, \u001b[39m'\u001b[39m\u001b[39mwb\u001b[39m\u001b[39m'\u001b[39m) \u001b[39mas\u001b[39;00m f:\n\u001b[0;32m----> 4\u001b[0m     pickle\u001b[39m.\u001b[39;49mdump(tfidf_save, f)\n",
      "\u001b[0;31mTypeError\u001b[0m: cannot pickle '_thread.RLock' object"
     ]
    }
   ],
   "source": [
    "import pickle\n",
    "tfidf_save = {\"TfidfVectorizer\": tfidf, \"Tfidf_matrix\": tfidf_matrix, \"lightFM_embeding_matrix\": item_embed_FM, \"concatenate_matrix\": concatenate_item_embed}\n",
    "with open('content_embed/all_jieba.pickle', 'wb') as f:\n",
    "    pickle.dump(tfidf_save, f)"
   ]
  },
  {
   "attachments": {},
   "cell_type": "markdown",
   "metadata": {},
   "source": [
    "# According to course similarity to Predict Subgroups"
   ]
  },
  {
   "cell_type": "code",
   "execution_count": 38,
   "metadata": {},
   "outputs": [],
   "source": [
    "subgroups_df = pd.read_csv('./data/subgroups.csv')\n",
    "subgroup_num = len(subgroups_df)\n",
    "\n",
    "subgroups2idx = {}\n",
    "for (id, name) in zip(subgroups_df[\"subgroup_id\"], subgroups_df[\"subgroup_name\"]):\n",
    "    subgroups2idx.update({name: id})\n",
    "idx2subgroups = {v : k for k, v in subgroups2idx.items()}"
   ]
  },
  {
   "cell_type": "code",
   "execution_count": 39,
   "metadata": {},
   "outputs": [
    {
     "name": "stdout",
     "output_type": "stream",
     "text": [
      "92\n",
      "132\n",
      "198\n",
      "243\n",
      "340\n",
      "517\n",
      "577\n",
      "692\n",
      "713\n"
     ]
    },
    {
     "data": {
      "text/plain": [
       "[('61888e868f154b000781b45a', [1, 2]),\n",
       " ('54d5a117065a7e0e00725ac0', [3, 4]),\n",
       " ('54d5d9952246e60a009ec571', [3, 5]),\n",
       " ('54d7148a2246e60a009ec588', [3, 6, 5]),\n",
       " ('5513e92b38239d10005778e1', [7, 8])]"
      ]
     },
     "execution_count": 39,
     "metadata": {},
     "output_type": "execute_result"
    }
   ],
   "source": [
    "course2subgroups = {}\n",
    "i=0\n",
    "for (course_id, sub_groups) in zip(course_df[\"course_id\"], course_df[\"sub_groups\"]):\n",
    "    i=i+1\n",
    "    #print(i)\n",
    "    try:\n",
    "        if pd.isnull(sub_groups):\n",
    "            course2subgroups.update({course_id: []})\n",
    "        else:\n",
    "            course2subgroups.update({course_id: [ subgroups2idx[sub_group] for sub_group in sub_groups.split(',')]})\n",
    "    except:\n",
    "        print(i)\n",
    "        continue\n",
    "list(course2subgroups.items())[:5]"
   ]
  },
  {
   "cell_type": "code",
   "execution_count": 40,
   "metadata": {},
   "outputs": [
    {
     "data": {
      "text/plain": [
       "719"
      ]
     },
     "execution_count": 40,
     "metadata": {},
     "output_type": "execute_result"
    }
   ],
   "source": [
    "len(list(course2subgroups.items()))\n",
    "#5772b51ec2917a110075fcf9"
   ]
  },
  {
   "cell_type": "code",
   "execution_count": 41,
   "metadata": {},
   "outputs": [
    {
     "name": "stdout",
     "output_type": "stream",
     "text": [
      "['NFT 加密藝術｜買幣、發行、交易一次上手！']\n"
     ]
    },
    {
     "data": {
      "text/plain": [
       "['程式理財',\n",
       " '量化交易',\n",
       " '金融商品',\n",
       " '文書處理',\n",
       " '資料科學',\n",
       " '更多藝術',\n",
       " '平面設計',\n",
       " '電腦繪圖',\n",
       " '投資觀念',\n",
       " '理財',\n",
       " '程式入門',\n",
       " '量化分析',\n",
       " '個人品牌經營',\n",
       " '創業',\n",
       " '心靈成長與教育',\n",
       " '數位行銷',\n",
       " '更多生活品味',\n",
       " '更多職場技能',\n",
       " '求職',\n",
       " '社群行銷',\n",
       " '角色設計',\n",
       " '程式語言',\n",
       " '應用設計',\n",
       " '網頁前端',\n",
       " '動態設計',\n",
       " '繪畫與插畫',\n",
       " '設計理論',\n",
       " '文案',\n",
       " '更多人文',\n",
       " '更多設計',\n",
       " '區塊鏈',\n",
       " '色彩學',\n",
       " '素描',\n",
       " '壓力舒緩',\n",
       " '後製剪輯',\n",
       " '職場溝通',\n",
       " '表演藝術',\n",
       " '居家',\n",
       " '影像創作',\n",
       " '攝影理論',\n",
       " '更多程式',\n",
       " '程式思維',\n",
       " '手機程式開發',\n",
       " '網頁設計',\n",
       " '樂器',\n",
       " '介面設計',\n",
       " '軟體程式開發與維護',\n",
       " '文學',\n",
       " '資料彙整',\n",
       " '網站架設']"
      ]
     },
     "execution_count": 41,
     "metadata": {},
     "output_type": "execute_result"
    }
   ],
   "source": [
    "def get_recommendations_new(haved_courses_list, cosine_sim, top = 10):\n",
    "    cosine_sim_sum = [ [i, 0] for i in range(len(course2id_mapping))]\n",
    "    haved_courses_index_list = [ course2id_mapping[course_id] for course_id in haved_courses_list]\n",
    "    for idx in haved_courses_index_list:\n",
    "        # Get the pairwsie similarity scores of all courses with that course\n",
    "        sim_scores = list(enumerate(cosine_sim[idx]))\n",
    "        for i in range(len(sim_scores)):\n",
    "            cosine_sim_sum[i][1] += sim_scores[i][1]\n",
    "\n",
    "    # Sort the similarity scores\n",
    "    sim_scores = sorted(cosine_sim_sum, key=lambda x: x[1], reverse=True)\n",
    "\n",
    "    recommend_subgroups = []\n",
    "    # Get the scores of the top most course not buy\n",
    "    for i in range(len(sim_scores)):\n",
    "        if len(recommend_subgroups) < top:\n",
    "            if sim_scores[i][0] not in haved_courses_index_list:\n",
    "                course_id = course_df['course_id'][sim_scores[i][0]]\n",
    "                try:\n",
    "                    for subgroup in course2subgroups[course_id]:\n",
    "                        if subgroup not in recommend_subgroups:\n",
    "                            recommend_subgroups.append(subgroup)\n",
    "                except:\n",
    "                    continue\n",
    "\n",
    "    return recommend_subgroups\n",
    "\n",
    "test = ['605ca63e3cd943ce48dc5daa']\n",
    "print(course_df['course_name'].iloc[[course2id_mapping[course] for course in test]].tolist())  \n",
    "test_predict = get_recommendations_new(test, cosine_sim2, 50)\n",
    "[ idx2subgroups[subgroup_id] for subgroup_id in test_predict ]"
   ]
  },
  {
   "cell_type": "code",
   "execution_count": 42,
   "metadata": {},
   "outputs": [
    {
     "name": "stdout",
     "output_type": "stream",
     "text": [
      "7205\n",
      "59737\n"
     ]
    }
   ],
   "source": [
    "seen_predict_df = pd.read_csv('./data/test_seen_group.csv')\n",
    "predict_user = seen_predict_df[\"user_id\"].to_list()\n",
    "print(len(predict_user))\n",
    "\n",
    "\n",
    "seen_user_haved_purchased_course = {}\n",
    "for seen_user_id, course_ids in zip(train_df[\"user_id\"], train_df[\"course_id\"]):\n",
    "    course_id_list = course_ids.split(' ')\n",
    "    seen_user_haved_purchased_course[seen_user_id] = seen_user_haved_purchased_course.setdefault(seen_user_id, []) + course_id_list\n",
    "for seen_user_id, course_ids in zip(val_seen_df[\"user_id\"], val_seen_df[\"course_id\"]):\n",
    "    course_id_list = course_ids.split(' ')\n",
    "    seen_user_haved_purchased_course[seen_user_id] = seen_user_haved_purchased_course.setdefault(seen_user_id, []) + course_id_list\n",
    "print(len(seen_user_haved_purchased_course))"
   ]
  },
  {
   "attachments": {},
   "cell_type": "markdown",
   "metadata": {},
   "source": [
    "# Predict and Save"
   ]
  },
  {
   "cell_type": "code",
   "execution_count": 43,
   "metadata": {},
   "outputs": [],
   "source": [
    "import csv\n",
    "\n",
    "predict_users = seen_predict_df[\"user_id\"].to_list()\n",
    "with open(\"subgroup_predict50jieba_withoutduplicates.csv\", \"w\") as f:\n",
    "    writer = csv.writer(f)\n",
    "    writer.writerow([\"user_id\", \"subgroup\"])\n",
    "    for user_id in predict_users:\n",
    "        recommend_subgroups_str = [ str(x) for x in get_recommendations_new(seen_user_haved_purchased_course[user_id], cosine_sim2, top = 49)]\n",
    "        recommend = \" \".join(recommend_subgroups_str)\n",
    "        writer.writerow([user_id, recommend])"
   ]
  },
  {
   "attachments": {},
   "cell_type": "markdown",
   "metadata": {},
   "source": [
    "# Map50"
   ]
  },
  {
   "cell_type": "code",
   "execution_count": 44,
   "metadata": {},
   "outputs": [
    {
     "data": {
      "text/plain": [
       "33"
      ]
     },
     "execution_count": 44,
     "metadata": {},
     "output_type": "execute_result"
    }
   ],
   "source": [
    "val_seen_group_df[\"subgroup\"].isna().sum()"
   ]
  },
  {
   "cell_type": "code",
   "execution_count": 45,
   "metadata": {},
   "outputs": [
    {
     "data": {
      "text/plain": [
       "[('56dae2b74e3ef90900b7bd0e', [37, 71]),\n",
       " ('60e66f29be3e3b0006c4db75', [1, 14, 15]),\n",
       " ('5c919efb728ddf00208b9b2b', [1, 3, 5, 25, 29, 50, 51, 52, 66, 67, 72, 73]),\n",
       " ('5ac115507997a2001e7c3617', [33, 34, 38, 39]),\n",
       " ('5f53b84440c5be3bb873a9d3', [30])]"
      ]
     },
     "execution_count": 45,
     "metadata": {},
     "output_type": "execute_result"
    }
   ],
   "source": [
    "train_user_haved_purchased_course = {}\n",
    "for seen_user_id, course_ids in zip(train_df[\"user_id\"], train_df[\"course_id\"]):\n",
    "    course_id_list = course_ids.split(' ')\n",
    "    train_user_haved_purchased_course[seen_user_id] = train_user_haved_purchased_course.setdefault(seen_user_id, []) + course_id_list\n",
    "\n",
    "val_answer_subgroups = {}\n",
    "val_seen_group_df_fillna = val_seen_group_df.fillna(\"\")\n",
    "for seen_user_id, subgroup_ids in zip(val_seen_group_df_fillna[\"user_id\"], val_seen_group_df_fillna[\"subgroup\"]):\n",
    "    if len(subgroup_ids) > 0:\n",
    "        course_id_list = [ int(x) for x in subgroup_ids.split(' ')]\n",
    "        val_answer_subgroups[seen_user_id] = val_answer_subgroups.setdefault(seen_user_id, []) + course_id_list\n",
    "list(val_answer_subgroups.items())[:5]"
   ]
  },
  {
   "cell_type": "code",
   "execution_count": 46,
   "metadata": {},
   "outputs": [
    {
     "name": "stdout",
     "output_type": "stream",
     "text": [
      "0.2756189490668947\n"
     ]
    },
    {
     "data": {
      "text/plain": [
       "0.2756189490668947"
      ]
     },
     "execution_count": 46,
     "metadata": {},
     "output_type": "execute_result"
    }
   ],
   "source": [
    "import ml_metrics\n",
    "\n",
    "answers = []\n",
    "predictions = []\n",
    "map50s = []\n",
    "for user_id in val_seen_group_df[\"user_id\"]:\n",
    "    prediction = get_recommendations_new(train_user_haved_purchased_course[user_id], cosine_sim2, top = 50)\n",
    "\n",
    "    prediction_idxs = prediction\n",
    "    if user_id in val_answer_subgroups.keys():\n",
    "        answer_idxs = val_answer_subgroups[user_id]\n",
    "    else:\n",
    "        answer_idxs = []\n",
    "\n",
    "    predictions.append(prediction_idxs)\n",
    "    answers.append(answer_idxs)\n",
    "    map50s.append(ml_metrics.mapk(predicted= [prediction_idxs], actual= [answer_idxs], k = 50))\n",
    "    \n",
    "print(np.mean(map50s))      \n",
    "map50 = ml_metrics.mapk(predicted= predictions, actual= answers, k = 50)\n",
    "map50"
   ]
  },
  {
   "cell_type": "code",
   "execution_count": 498,
   "metadata": {},
   "outputs": [],
   "source": [
    "#None: 0.264229\n",
    "#English: 0.26766006438937334\n",
    "#50&100 English:0.27306260085902573\n",
    "#jieba:0.2731468547608558\n",
    "#jieba&english:0.2731718694197286"
   ]
  },
  {
   "cell_type": "code",
   "execution_count": null,
   "metadata": {},
   "outputs": [],
   "source": [
    "course_name + ' ' + teacher_intro + ' ' + x['groups'] + ' ' + x['sub_groups'] + ' ' + x['topics'] + ' ' + will_learn + ' ' + recommended_background + ' ' + target_group + ' ' + x['description']+' ' + x['groups+subgroups'] +' '+ x['required_tools']\n",
    "0.23474066171745542\n",
    "course_name + ' ' + teacher_intro + ' ' + x['groups'] + ' ' + x['sub_groups'] + ' ' + x['topics'] + ' ' + will_learn + ' ' + recommended_background + ' ' + target_group + ' ' + x['description']+' ' + x['groups+subgroups']\n",
    "0.2340450303688849\n",
    "course_name + ' ' + teacher_intro + ' ' + x['groups'] + ' ' + x['sub_groups'] + ' ' + x['topics'] + ' ' + will_learn + ' ' + recommended_background + ' ' + target_group + ' ' + x['groups+subgroups'] +' '+ x['required_tools']\n",
    "0.2653982701045437\n",
    "course_name + ' ' + teacher_intro + ' ' + x['groups'] + ' ' + x['sub_groups'] + ' ' + x['topics'] + ' ' + will_learn + ' ' + recommended_background + ' ' + target_group + ' ' + x['groups+subgroups']\n",
    "0.26983667430602465\n",
    "course_name + ' ' + teacher_intro + ' ' + x['groups'] + ' ' + x['sub_groups'] + ' ' + x['topics'] + ' ' + will_learn + ' ' + recommended_background + ' ' + target_group\n",
    "0.2687028204540958\n",
    "course_name + ' ' + teacher_intro + ' ' + x['groups'] + ' ' + x['sub_groups'] + ' ' + x['topics'] + ' ' + will_learn + ' ' + recommended_background + ' ' + x['groups+subgroups']\n",
    "0.27104218224794335\n",
    "course_name + ' ' + teacher_intro + ' ' + x['groups'] + ' ' + x['sub_groups'] + ' ' + x['topics'] + ' ' + will_learn + ' ' + x['groups+subgroups']\n",
    "0.27303138276785993\n",
    "course_name + ' ' + teacher_intro + ' ' + x['groups'] + ' ' + x['sub_groups'] + ' ' + x['topics'] + ' ' + x['groups+subgroups']\n",
    "0.2703762157322092\n",
    "course_name + ' ' + teacher_intro + ' ' + x['groups'] + ' ' + x['sub_groups'] + ' ' + will_learn + ' ' + x['groups+subgroups']\n",
    "0.2720080461522149\n",
    "course_name + ' ' + teacher_intro + ' ' + x['groups'] + ' ' + x['topics'] + ' ' + will_learn + ' ' + x['groups+subgroups']\n",
    "0.2721515223384041\n",
    "course_name + ' ' + teacher_intro + ' ' + x['sub_groups'] + ' ' + x['topics'] + ' ' + will_learn + ' ' + x['groups+subgroups']\n",
    "0.2684706101227077\n",
    "course_name + ' ' + x['groups'] + ' ' + x['sub_groups'] + ' ' + x['topics'] + ' ' + will_learn + ' ' + x['groups+subgroups']\n",
    "0.24369995589518365\n",
    "teacher_intro + ' ' + x['groups'] + ' ' + x['sub_groups'] + ' ' + x['topics'] + ' ' + will_learn + ' ' + x['groups+subgroups']\n",
    "0.2729634889638815\n",
    "course_name + ' ' + teacher_intro + ' ' + group + ' ' +group + ' ' + x['sub_groups'] + ' ' + x['topics'] + ' ' + will_learn + ' ' + x['groups+subgroups']\n",
    "0.27406571210875297\n",
    "course_name + ' ' + teacher_intro + ' ' + teacher_intro + ' ' + group + ' ' +group + ' ' + x['sub_groups'] + ' ' + x['topics'] + ' ' + will_learn + ' ' + x['groups+subgroups']\n",
    "0.27001374330773553\n",
    "course_name + ' ' + teacher_intro + ' ' +  group + ' ' +group + ' ' + x['sub_groups'] + ' ' + x['topics'] + ' ' + will_learn + ' ' + x['groups+subgroups']+ ' ' + x['groups+subgroups']\n",
    "0.2730791567913772\n",
    "course_name + ' ' + teacher_intro + ' ' +  group + ' ' +group + ' ' + x['sub_groups'] + ' ' + x['sub_groups'] + ' ' + x['topics'] + ' ' + will_learn + ' ' + x['groups+subgroups']\n",
    "0.27124937165116886\n",
    "course_name + ' ' + teacher_intro + ' ' +  group + ' ' +group + ' ' + x['sub_groups'] + ' ' + x['topics'] + ' ' + will_learn + ' ' + will_learn + ' ' + x['groups+subgroups']\n",
    "0.2718254137856198\n",
    "course_name + ' ' + teacher_intro + ' ' +  group + ' ' +group + ' ' + x['sub_groups'] + ' ' + x['topics'] + ' ' + x['topics'] + ' ' + will_learn + ' ' + x['groups+subgroups']\n",
    "0.26869781765027473\n",
    "course_name + ' ' + teacher_intro + ' ' +  group + ' ' +group + ' ' + x['sub_groups'] + ' ' + x['topics'] + ' ' + will_learn + ' ' + x['groups+subgroups'] + ' ' + x['target_group']\n",
    "0.27052662220402734\n",
    "course_name + ' ' + course_name + ' ' + teacher_intro + ' ' +  group + ' ' +group + ' ' + x['sub_groups'] + ' ' + x['topics'] + ' ' + will_learn + ' ' + x['groups+subgroups']\n",
    "0.27145472993282727\n",
    "course_name + ' ' + teacher_intro + ' ' +  group + ' ' + group + ' ' + group + ' ' + x['sub_groups'] + ' ' + x['topics'] + ' ' + will_learn + ' ' + x['groups+subgroups']\n",
    "0.27250718612256275\n",
    "\n"
   ]
  },
  {
   "cell_type": "code",
   "execution_count": null,
   "metadata": {},
   "outputs": [],
   "source": [
    "course_name + ' ' + teacher_intro + ' ' + x['groups'] + ' ' + x['sub_groups'] + ' ' + x['topics'] + ' ' + will_learn + ' ' + recommended_background + ' ' + target_group + ' ' + x['description']+' ' + x['groups+subgroups'] +' '+ x['required_tools']\n",
    "0.23103891276258284\n",
    "course_name + ' ' + teacher_intro + ' ' + x['groups'] + ' ' + x['sub_groups'] + ' ' + x['topics'] + ' ' + will_learn + ' ' + recommended_background + ' ' + target_group + ' ' + x['description']+' ' + x['groups+subgroups']\n",
    "0.23139752060813493\n",
    "course_name + ' ' + teacher_intro + ' ' + x['groups'] + ' ' + x['sub_groups'] + ' ' + x['topics'] + ' ' + will_learn + ' ' + recommended_background + ' ' + target_group + ' ' + x['groups+subgroups']\n",
    "0.267745546924934\n",
    "course_name + ' ' + teacher_intro + ' ' + group + ' ' +group + ' ' + x['sub_groups'] + ' ' + x['topics'] + ' ' + will_learn + ' ' + x['groups+subgroups'] + ' ' + teacher_intro\n",
    "0.27432673542193203\n",
    "course_name + ' ' + teacher_intro + ' ' + group + ' ' +group + ' ' + x['sub_groups'] + ' ' + x['topics'] + ' ' + will_learn + ' ' + x['groups+subgroups'] + ' ' + teacher_intro + ' ' + teacher_intro\n",
    "0.26990711100815196\n",
    "course_name + ' ' + teacher_intro +  ' ' +  group + ' ' + group + ' ' + x['sub_groups'] + ' ' + x['topics'] + ' ' + x['topics'] + ' ' + will_learn + ' ' + x['groups+subgroups'] + ' ' + teacher_intro\n",
    "0.2738288792488569\n",
    "course_name + ' ' + teacher_intro +  ' ' +  group + ' ' + group + ' ' + x['sub_groups'] + ' ' + x['topics'] + ' ' + will_learn + ' ' + will_learn + ' ' + x['groups+subgroups'] + ' ' + teacher_intro\n",
    "0.27094173264651994\n",
    "course_name + ' ' + teacher_intro +  ' ' +  group + ' ' + group + ' ' + x['sub_groups'] + ' ' + x['topics'] + ' ' + will_learn + ' ' + x['groups+subgroups'] + ' ' + x['groups+subgroups'] + ' ' + teacher_intro\n",
    "0.2740595487029608\n",
    "course_name + ' ' + course_name + ' ' + teacher_intro +  ' ' +  group + ' ' + group + ' ' + x['sub_groups'] + ' ' + x['topics'] + ' ' + will_learn + ' ' + x['groups+subgroups'] + ' ' + teacher_intro\n",
    "0.27341883606357265\n",
    "course_name + ' ' + teacher_intro +  ' ' +  group + ' ' + group + ' ' + x['sub_groups'] + ' ' +x['sub_groups'] + ' ' +  x['topics'] + ' ' + will_learn + ' ' + x['groups+subgroups'] + ' ' + teacher_intro\n",
    "0.2753971715744306\n",
    "course_name + ' ' + teacher_intro +  ' ' +  group + ' ' + x['sub_groups'] + ' ' +x['sub_groups'] + ' ' +  x['topics'] + ' ' + will_learn + ' ' + x['groups+subgroups'] + ' ' + teacher_intro\n",
    "0.27468312598184047\n",
    "course_name + ' ' + teacher_intro +  ' ' +  group + ' ' + group + ' ' + group + ' ' + x['sub_groups'] + ' ' +x['sub_groups'] + ' ' +  x['topics'] + ' ' + will_learn + ' ' + x['groups+subgroups'] + ' ' + teacher_intro\n",
    "0.275463509594546\n",
    "course_name + ' ' + teacher_intro +  ' ' +  group + ' ' + group + ' ' + group + ' ' + group + ' ' + x['sub_groups'] + ' ' +x['sub_groups'] + ' ' +  x['topics'] + ' ' + will_learn + ' ' + x['groups+subgroups'] + ' ' + teacher_intro\n",
    "0.2751253513426604\n",
    "course_name + ' ' + teacher_intro +  ' ' +  group + ' ' + group + ' ' + group + ' ' + x['sub_groups'] + ' ' + x['sub_groups'] + ' ' +x['sub_groups'] + ' ' +  x['topics'] + ' ' + will_learn + ' ' + x['groups+subgroups'] + ' ' + teacher_intro\n",
    "0.27547246674335063\n",
    "course_name + ' ' + teacher_intro +  ' ' +  group + ' ' + group + ' ' + group + ' ' + x['sub_groups'] + ' ' + x['sub_groups'] + ' ' + x['sub_groups'] + ' ' +x['sub_groups'] + ' ' +  x['topics'] + ' ' + will_learn + ' ' + x['groups+subgroups'] + ' ' + teacher_intro\n",
    "0.275472247215274\n",
    "course_name + ' ' + teacher_intro +  ' ' +  group + ' ' + group + ' ' + group + ' ' + x['sub_groups'] + ' ' + x['sub_groups'] + ' ' +x['sub_groups'] + ' ' +  x['topics'] + ' ' + will_learn + ' ' + x['groups+subgroups'] + ' ' + teacher_intro + ' ' +target_group\n",
    "0.2744330886747651"
   ]
  },
  {
   "cell_type": "code",
   "execution_count": null,
   "metadata": {},
   "outputs": [],
   "source": [
    "沒有重複項\n",
    "course_name + ' ' + teacher_intro +  ' ' +  group + ' ' + group + ' ' + group + ' ' + x['sub_groups'] + ' ' + x['sub_groups'] + ' ' +x['sub_groups'] + ' ' +  x['topics'] + ' ' + will_learn + ' ' + x['groups+subgroups'] + ' ' + teacher_intro\n",
    "0.27555667903950953\n",
    "course_name + ' ' + teacher_intro +  ' ' +  group + ' ' + group + ' ' + group + ' ' + x['sub_groups'] + ' ' + x['sub_groups'] + ' ' +x['sub_groups'] + ' ' +  x['topics'] + ' ' + will_learn + ' ' + x['groups+subgroups'] + ' ' + teacher_intro + ' ' + x['description']\n",
    "0.23662565145730194\n",
    "course_name + ' ' + teacher_intro +  ' ' +  group + ' ' + group + ' ' + group + ' ' + x['sub_groups'] +' ' + x['sub_groups'] + ' ' +x['sub_groups'] + ' ' +  x['topics'] + ' ' + will_learn + ' ' + x['groups+subgroups'] + ' ' + teacher_intro\n",
    "0.2756189490668947"
   ]
  },
  {
   "cell_type": "code",
   "execution_count": null,
   "metadata": {},
   "outputs": [],
   "source": [
    "沒有重複項\n",
    "新增去標點符號\n",
    "course_name + ' ' + teacher_intro +  ' ' +  group + ' ' + group + ' ' + group + ' ' + x['sub_groups'] + ' ' + x['sub_groups'] + ' ' +x['sub_groups'] + ' ' +  x['topics'] + ' ' + will_learn + ' ' + x['groups+subgroups'] + ' ' + teacher_intro\n",
    "0.23573587562593873\n",
    "去標點符號與英文\n",
    "course_name + ' ' + teacher_intro +  ' ' +  group + ' ' + group + ' ' + group + ' ' + x['sub_groups'] + ' ' + x['sub_groups'] + ' ' +x['sub_groups'] + ' ' +  x['topics'] + ' ' + will_learn + ' ' + x['groups+subgroups'] + ' ' + teacher_intro\n",
    "0.22282753739771333"
   ]
  },
  {
   "cell_type": "code",
   "execution_count": 209,
   "metadata": {},
   "outputs": [
    {
     "data": {
      "text/plain": [
       "0.026676259837025568"
      ]
     },
     "execution_count": 209,
     "metadata": {},
     "output_type": "execute_result"
    }
   ],
   "source": [
    "0.2703762157322092-0.24369995589518365"
   ]
  },
  {
   "cell_type": "code",
   "execution_count": null,
   "metadata": {},
   "outputs": [],
   "source": []
  }
 ],
 "metadata": {
  "kernelspec": {
   "display_name": "adlhw3",
   "language": "python",
   "name": "python3"
  },
  "language_info": {
   "codemirror_mode": {
    "name": "ipython",
    "version": 3
   },
   "file_extension": ".py",
   "mimetype": "text/x-python",
   "name": "python",
   "nbconvert_exporter": "python",
   "pygments_lexer": "ipython3",
   "version": "3.8.13"
  },
  "orig_nbformat": 4,
  "vscode": {
   "interpreter": {
    "hash": "9dedd2b11c6d65023ba78f004c00adcb97ea7737d51ff1d03c402b08b92e7cef"
   }
  }
 },
 "nbformat": 4,
 "nbformat_minor": 2
}
