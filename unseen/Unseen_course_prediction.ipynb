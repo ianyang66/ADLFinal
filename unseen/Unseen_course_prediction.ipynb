{
 "cells": [
  {
   "cell_type": "code",
   "execution_count": 37,
   "id": "cd5d9ad4-cd14-46a2-b959-47cf05d9362f",
   "metadata": {},
   "outputs": [],
   "source": [
    "import pandas as pd"
   ]
  },
  {
   "cell_type": "code",
   "execution_count": 38,
   "id": "08af4524-c601-4c8c-a4ae-0e76e698e4ff",
   "metadata": {},
   "outputs": [],
   "source": [
    "test_unseen = pd.read_csv('../data/test_unseen.csv')\n",
    "train = pd.read_csv('../data/train.csv')\n",
    "val_seen = pd.read_csv('../data/val_seen.csv')\n",
    "val_unseen = pd.read_csv('../data/val_unseen.csv')\n",
    "courses = pd.read_csv('../data/courses.csv').fillna('')\n",
    "users = pd.read_csv('../data/users.csv').fillna('')"
   ]
  },
  {
   "cell_type": "code",
   "execution_count": 39,
   "id": "f882c07c-eb52-4ef2-aa43-54829dc27342",
   "metadata": {},
   "outputs": [],
   "source": [
    "popular_subgroup = {}\n",
    "for sub in train_group.subgroup:\n",
    "    for s in sub.split(' '):\n",
    "        if(s == ''):\n",
    "            continue\n",
    "        try:\n",
    "            popular_subgroup[s] += 1\n",
    "        except:\n",
    "            popular_subgroup[s] = 1\n",
    "for sub in val_seen_group.subgroup:\n",
    "    for s in sub.split(' '):\n",
    "        if(s == ''):\n",
    "            continue\n",
    "        try:\n",
    "            popular_subgroup[s] += 1\n",
    "        except:\n",
    "            popular_subgroup[s] = 1\n",
    "for sub in val_unseen_group.subgroup:\n",
    "    for s in sub.split(' '):\n",
    "        if(s == ''):\n",
    "            continue\n",
    "        try:\n",
    "            popular_subgroup[s] += 1\n",
    "        except:\n",
    "            popular_subgroup[s] = 1\n",
    "popular_subgroup_list = sorted(list(popular_subgroup.items()), key=lambda x:x[1], reverse=True)\n",
    "popular_subgroup_index = [x[0] for x in popular_subgroup_list]"
   ]
  },
  {
   "cell_type": "code",
   "execution_count": 40,
   "id": "deb5401e-bd11-4f0a-8171-63f4b5f0c5fe",
   "metadata": {},
   "outputs": [],
   "source": [
    "popular_course = {}\n",
    "for course in train.course_id:\n",
    "    for c in course.split(' '):\n",
    "        try:\n",
    "            popular_course[c] += 1\n",
    "        except:\n",
    "            popular_course[c] = 1\n",
    "for course in val_seen.course_id:\n",
    "    for c in course.split(' '):\n",
    "        try:\n",
    "            popular_course[c] += 1\n",
    "        except:\n",
    "            popular_course[c] = 1\n",
    "for course in val_unseen.course_id:\n",
    "    for c in course.split(' '):\n",
    "        try:\n",
    "            popular_course[c] += 1\n",
    "        except:\n",
    "            popular_course[c] = 1\n",
    "for x in list(set(courses['course_id'].to_list()).difference(set(popular_course.keys()))):\n",
    "    popular_course[x] = 0\n",
    "popular_course_list = sorted(list(popular_course.items()), key=lambda x:x[1], reverse=True)"
   ]
  },
  {
   "cell_type": "code",
   "execution_count": 41,
   "id": "3711f0bd-11f9-4def-9d23-0b0c6ef36e03",
   "metadata": {},
   "outputs": [],
   "source": [
    "courses_interests = {}\n",
    "for c, i in zip(courses.course_id, courses['groups+subgroups']):\n",
    "    courses_interests[c] = i.split(',')"
   ]
  },
  {
   "cell_type": "code",
   "execution_count": 42,
   "id": "791c3702-6053-4eb4-99ac-ee372b0a4f1d",
   "metadata": {},
   "outputs": [],
   "source": [
    "users_interests = {}\n",
    "for u, i in zip(users.user_id, users.interests):\n",
    "    users_interests[u] = i.split(',')"
   ]
  },
  {
   "cell_type": "code",
   "execution_count": 43,
   "id": "e72cf63c-c6ed-485f-9d21-3dd58bef8fe6",
   "metadata": {},
   "outputs": [],
   "source": [
    "popular_course_with_interest = {}\n",
    "for pc in popular_course_list:\n",
    "    popular_course_with_interest[pc[0]] = courses_interests[pc[0]]\n",
    "popular_course_with_interest = list(popular_course_with_interest.items())"
   ]
  },
  {
   "cell_type": "code",
   "execution_count": 44,
   "id": "075fdf71-e761-4847-a41b-1eac5815a7d7",
   "metadata": {},
   "outputs": [],
   "source": [
    "with open('./submit_unseen_course.csv', 'w') as f:\n",
    "    f.write('user_id,course_id\\n')\n",
    "    for user in test_unseen.user_id:\n",
    "        self_interest = set(users_interests[user])\n",
    "        if(len(self_interest) == 0):\n",
    "            rec = popular_course_with_interest[:50]\n",
    "        else:\n",
    "            temp = [[] for x in range(len(self_interest) + 1)]\n",
    "            for c in popular_course_with_interest:\n",
    "                c_interest = set(c[1])\n",
    "                temp[len(self_interest.intersection(c_interest))].append(c[0])\n",
    "            rec = [item for sublist in temp[::-1] for item in sublist][:50]\n",
    "\n",
    "        f.write('{},{}\\n'.format(user, ' '.join(rec)))"
   ]
  }
 ],
 "metadata": {
  "kernelspec": {
   "display_name": "Python 3 (ipykernel)",
   "language": "python",
   "name": "python3"
  },
  "language_info": {
   "codemirror_mode": {
    "name": "ipython",
    "version": 3
   },
   "file_extension": ".py",
   "mimetype": "text/x-python",
   "name": "python",
   "nbconvert_exporter": "python",
   "pygments_lexer": "ipython3",
   "version": "3.10.7"
  }
 },
 "nbformat": 4,
 "nbformat_minor": 5
}
