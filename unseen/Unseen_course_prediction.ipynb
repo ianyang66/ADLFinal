{
 "cells": [
  {
   "cell_type": "code",
   "execution_count": 1,
   "id": "cd5d9ad4-cd14-46a2-b959-47cf05d9362f",
   "metadata": {},
   "outputs": [],
   "source": [
    "import pandas as pd"
   ]
  },
  {
   "cell_type": "code",
   "execution_count": 24,
   "id": "08af4524-c601-4c8c-a4ae-0e76e698e4ff",
   "metadata": {},
   "outputs": [],
   "source": [
    "test_unseen = pd.read_csv('../data/test_unseen.csv')\n",
    "train = pd.read_csv('../data/train.csv')\n",
    "val_seen = pd.read_csv('../data/val_seen.csv')\n",
    "val_unseen = pd.read_csv('../data/val_unseen.csv')\n",
    "courses = pd.read_csv('../data/courses.csv').fillna('')\n",
    "users = pd.read_csv('../data/users.csv').fillna('')"
   ]
  },
  {
   "cell_type": "code",
   "execution_count": 25,
   "id": "deb5401e-bd11-4f0a-8171-63f4b5f0c5fe",
   "metadata": {},
   "outputs": [],
   "source": [
    "def get_popular_course(df_list, weight = [1, 64, 64]):\n",
    "    popular_course = {}\n",
    "    for i, df in enumerate(df_list):\n",
    "        for course in df.course_id:\n",
    "            for c in course.split(' '):\n",
    "                try:\n",
    "                    popular_course[c] += weight[i]\n",
    "                except:\n",
    "                    popular_course[c] = weight[i]\n",
    "    return popular_course\n",
    "popular_course = get_popular_course([train, val_seen, val_unseen])\n",
    "for x in list(set(courses['course_id'].to_list()).difference(set(popular_course.keys()))):\n",
    "    popular_course[x] = 0\n",
    "popular_course_list = sorted(list(popular_course.items()), key=lambda x:x[1], reverse=True)"
   ]
  },
  {
   "cell_type": "code",
   "execution_count": 26,
   "id": "3711f0bd-11f9-4def-9d23-0b0c6ef36e03",
   "metadata": {},
   "outputs": [],
   "source": [
    "courses_interests = {}\n",
    "for c, i in zip(courses.course_id, courses['groups+subgroups']):\n",
    "    courses_interests[c] = i.split(',')"
   ]
  },
  {
   "cell_type": "code",
   "execution_count": 27,
   "id": "791c3702-6053-4eb4-99ac-ee372b0a4f1d",
   "metadata": {},
   "outputs": [],
   "source": [
    "users_interests = {}\n",
    "for u, i in zip(users.user_id, users.interests):\n",
    "    users_interests[u] = i.split(',')"
   ]
  },
  {
   "cell_type": "code",
   "execution_count": 28,
   "id": "e72cf63c-c6ed-485f-9d21-3dd58bef8fe6",
   "metadata": {},
   "outputs": [],
   "source": [
    "popular_course_with_interest = {}\n",
    "for pc in popular_course_list:\n",
    "    popular_course_with_interest[pc[0]] = courses_interests[pc[0]]\n",
    "popular_course_with_interest = list(popular_course_with_interest.items())"
   ]
  },
  {
   "cell_type": "code",
   "execution_count": 29,
   "id": "bbd6d329-1063-4d30-9266-d2a520323a7c",
   "metadata": {},
   "outputs": [
    {
     "data": {
      "text/html": [
       "<div>\n",
       "<style scoped>\n",
       "    .dataframe tbody tr th:only-of-type {\n",
       "        vertical-align: middle;\n",
       "    }\n",
       "\n",
       "    .dataframe tbody tr th {\n",
       "        vertical-align: top;\n",
       "    }\n",
       "\n",
       "    .dataframe thead th {\n",
       "        text-align: right;\n",
       "    }\n",
       "</style>\n",
       "<table border=\"1\" class=\"dataframe\">\n",
       "  <thead>\n",
       "    <tr style=\"text-align: right;\">\n",
       "      <th></th>\n",
       "      <th>user_id</th>\n",
       "      <th>course_id</th>\n",
       "    </tr>\n",
       "  </thead>\n",
       "  <tbody>\n",
       "    <tr>\n",
       "      <th>0</th>\n",
       "      <td>612c1fcd560d8100069aa5ba</td>\n",
       "      <td>5f14aeabcad0d0afe5ea3898 60ac8e42992b7aadf9d019d8</td>\n",
       "    </tr>\n",
       "    <tr>\n",
       "      <th>1</th>\n",
       "      <td>558b954c6dec460f00111131</td>\n",
       "      <td>5fc5ed671be929537e5283bb 5fc5edae001c9102feab8...</td>\n",
       "    </tr>\n",
       "    <tr>\n",
       "      <th>2</th>\n",
       "      <td>591de47900f58c070078cd99</td>\n",
       "      <td>60aeac37bca91777bf5bb114</td>\n",
       "    </tr>\n",
       "    <tr>\n",
       "      <th>3</th>\n",
       "      <td>612e5ebd31e50c0006fc4611</td>\n",
       "      <td>5fc5ee1b08b74a6e3723abd2 60cb0a440dabda80019d5...</td>\n",
       "    </tr>\n",
       "    <tr>\n",
       "      <th>4</th>\n",
       "      <td>60c248c62757c16af6160429</td>\n",
       "      <td>60a49d7c62c6aea8d38e3903</td>\n",
       "    </tr>\n",
       "    <tr>\n",
       "      <th>...</th>\n",
       "      <td>...</td>\n",
       "      <td>...</td>\n",
       "    </tr>\n",
       "    <tr>\n",
       "      <th>11617</th>\n",
       "      <td>617eb7aff2c5f00006592046</td>\n",
       "      <td>6030c9cd99e14cc2401e66b9 5fc5ee1b08b74a6e3723a...</td>\n",
       "    </tr>\n",
       "    <tr>\n",
       "      <th>11618</th>\n",
       "      <td>613253cdd5d02a0007225fe4</td>\n",
       "      <td>5e8e9d3c5a140c3d1e1c5245</td>\n",
       "    </tr>\n",
       "    <tr>\n",
       "      <th>11619</th>\n",
       "      <td>617eb70db23194000781f7cf</td>\n",
       "      <td>61381a3f33a3960006df1eb3</td>\n",
       "    </tr>\n",
       "    <tr>\n",
       "      <th>11620</th>\n",
       "      <td>5c9f3af172a72f0021508a87</td>\n",
       "      <td>5ce3a183138a45002046859d</td>\n",
       "    </tr>\n",
       "    <tr>\n",
       "      <th>11621</th>\n",
       "      <td>614822bd2cdf770007533c19</td>\n",
       "      <td>6155cda6d425f500065f5c96</td>\n",
       "    </tr>\n",
       "  </tbody>\n",
       "</table>\n",
       "<p>11622 rows × 2 columns</p>\n",
       "</div>"
      ],
      "text/plain": [
       "                        user_id  \\\n",
       "0      612c1fcd560d8100069aa5ba   \n",
       "1      558b954c6dec460f00111131   \n",
       "2      591de47900f58c070078cd99   \n",
       "3      612e5ebd31e50c0006fc4611   \n",
       "4      60c248c62757c16af6160429   \n",
       "...                         ...   \n",
       "11617  617eb7aff2c5f00006592046   \n",
       "11618  613253cdd5d02a0007225fe4   \n",
       "11619  617eb70db23194000781f7cf   \n",
       "11620  5c9f3af172a72f0021508a87   \n",
       "11621  614822bd2cdf770007533c19   \n",
       "\n",
       "                                               course_id  \n",
       "0      5f14aeabcad0d0afe5ea3898 60ac8e42992b7aadf9d019d8  \n",
       "1      5fc5ed671be929537e5283bb 5fc5edae001c9102feab8...  \n",
       "2                               60aeac37bca91777bf5bb114  \n",
       "3      5fc5ee1b08b74a6e3723abd2 60cb0a440dabda80019d5...  \n",
       "4                               60a49d7c62c6aea8d38e3903  \n",
       "...                                                  ...  \n",
       "11617  6030c9cd99e14cc2401e66b9 5fc5ee1b08b74a6e3723a...  \n",
       "11618                           5e8e9d3c5a140c3d1e1c5245  \n",
       "11619                           61381a3f33a3960006df1eb3  \n",
       "11620                           5ce3a183138a45002046859d  \n",
       "11621                           6155cda6d425f500065f5c96  \n",
       "\n",
       "[11622 rows x 2 columns]"
      ]
     },
     "execution_count": 29,
     "metadata": {},
     "output_type": "execute_result"
    }
   ],
   "source": [
    "val_unseen"
   ]
  },
  {
   "cell_type": "code",
   "execution_count": 30,
   "id": "cec15f1d-20a8-4d64-b3eb-9f5aac5b3afc",
   "metadata": {},
   "outputs": [],
   "source": [
    "def get_bought_courses(df_list):\n",
    "    bought_courses = {}\n",
    "    for df in df_list:\n",
    "        for user, courses in zip(df.user_id, df.course_id):\n",
    "            try:\n",
    "                bought_courses[user] = courses.split(' ')\n",
    "            except:\n",
    "                bought_courses[user] += courses.split(' ')\n",
    "    return bought_courses\n",
    "bought_courses = get_bought_courses([train, val_seen, val_unseen])     "
   ]
  },
  {
   "cell_type": "code",
   "execution_count": 31,
   "id": "075fdf71-e761-4847-a41b-1eac5815a7d7",
   "metadata": {},
   "outputs": [],
   "source": [
    "with open('./submit_unseen_course.csv', 'w') as f:\n",
    "    f.write('user_id,course_id\\n')\n",
    "    for user in test_unseen.user_id:\n",
    "        self_interest = set(users_interests[user])\n",
    "        if(len(self_interest) == 0):\n",
    "            rec = popular_course_with_interest\n",
    "        else:\n",
    "            temp = [[] for x in range(len(self_interest) + 1)]\n",
    "            for c in popular_course_with_interest:\n",
    "                c_interest = set(c[1])\n",
    "                temp[len(self_interest.intersection(c_interest))].append(c[0])\n",
    "            rec = [item for sublist in temp[::-1] for item in sublist]\n",
    "        rec2 = []\n",
    "        if user in bought_courses.keys():\n",
    "            for c in rec:\n",
    "                if(c not in bought_courses[user]):\n",
    "                    rec2.append(c)\n",
    "        else:\n",
    "            rec2 = rec\n",
    "\n",
    "        f.write('{},{}\\n'.format(user, ' '.join(rec2[:50])))"
   ]
  }
 ],
 "metadata": {
  "kernelspec": {
   "display_name": "Python 3 (ipykernel)",
   "language": "python",
   "name": "python3"
  },
  "language_info": {
   "codemirror_mode": {
    "name": "ipython",
    "version": 3
   },
   "file_extension": ".py",
   "mimetype": "text/x-python",
   "name": "python",
   "nbconvert_exporter": "python",
   "pygments_lexer": "ipython3",
   "version": "3.10.7"
  }
 },
 "nbformat": 4,
 "nbformat_minor": 5
}
