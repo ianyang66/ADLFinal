{
 "cells": [
  {
   "cell_type": "code",
   "execution_count": 7,
   "id": "b49b0bdd-cf0c-4f9c-b692-8fe68de58bcf",
   "metadata": {},
   "outputs": [],
   "source": [
    "import pandas as pd"
   ]
  },
  {
   "cell_type": "code",
   "execution_count": 8,
   "id": "06afd206-8faf-42e6-a52f-26df818a077b",
   "metadata": {},
   "outputs": [],
   "source": [
    "test_unseen_group = pd.read_csv('../data/test_unseen.csv')\n",
    "train_group = pd.read_csv('../data/train_group.csv').fillna('')\n",
    "val_seen_group = pd.read_csv('../data/val_seen_group.csv').fillna('')\n",
    "val_unseen_group = pd.read_csv('../data/val_unseen_group.csv').fillna('')\n",
    "subgroups = pd.read_csv('../data/subgroups.csv').fillna('')\n",
    "users = pd.read_csv('../data/users.csv').fillna('')"
   ]
  },
  {
   "cell_type": "code",
   "execution_count": 9,
   "id": "65b4085a-fbbe-42d2-9d3c-5cbbab4f21de",
   "metadata": {},
   "outputs": [],
   "source": [
    "popular_subgroup = {}\n",
    "for sub in train_group.subgroup:\n",
    "    for s in sub.split(' '):\n",
    "        if(s == ''):\n",
    "            continue\n",
    "        try:\n",
    "            popular_subgroup[s] += 1\n",
    "        except:\n",
    "            popular_subgroup[s] = 1\n",
    "for sub in val_seen_group.subgroup:\n",
    "    for s in sub.split(' '):\n",
    "        if(s == ''):\n",
    "            continue\n",
    "        try:\n",
    "            popular_subgroup[s] += 128\n",
    "        except:\n",
    "            popular_subgroup[s] = 128\n",
    "for sub in val_unseen_group.subgroup:\n",
    "    for s in sub.split(' '):\n",
    "        if(s == ''):\n",
    "            continue\n",
    "        try:\n",
    "            popular_subgroup[s] += 128\n",
    "        except:\n",
    "            popular_subgroup[s] = 128\n",
    "popular_subgroup_list = sorted(list(popular_subgroup.items()), key=lambda x:x[1], reverse=True)\n",
    "popular_subgroup_index = [x[0] for x in popular_subgroup_list]"
   ]
  },
  {
   "cell_type": "code",
   "execution_count": 10,
   "id": "93b817cf-85fd-46d2-a15b-96de3baaa32a",
   "metadata": {},
   "outputs": [],
   "source": [
    "subgroups = subgroups.set_index('subgroup_name').to_dict()['subgroup_id']"
   ]
  },
  {
   "cell_type": "code",
   "execution_count": 11,
   "id": "e092a724-3ea5-4331-ae21-def15f187d5e",
   "metadata": {},
   "outputs": [],
   "source": [
    "user_interest_group = {}\n",
    "for user,interest in zip(users.user_id, users.interests):\n",
    "    temp = []\n",
    "    if(interest == ''):\n",
    "        user_interest_group[user] = []\n",
    "        continue\n",
    "    for i in interest.split(','):\n",
    "        _, x = i.split('_')\n",
    "        try:\n",
    "            temp.append(str(subgroups[x]))\n",
    "        except:\n",
    "            continue\n",
    "    user_interest_group[user] = temp"
   ]
  },
  {
   "cell_type": "code",
   "execution_count": 12,
   "id": "058d047e-c9e6-4463-ae66-6595e4708312",
   "metadata": {},
   "outputs": [],
   "source": [
    "with open('./submit_unseen.csv', 'w') as f:\n",
    "    f.write('user_id,subgroup\\n')\n",
    "    for user in test_unseen_group.user_id:\n",
    "        temp = sorted(user_interest_group[user], key=popular_subgroup_index.index)\n",
    "        temp = temp[:min(12, len(temp))]\n",
    "        for i in popular_subgroup_index:\n",
    "            if(i in temp):\n",
    "                continue\n",
    "            temp.append(i)\n",
    "        rec = temp[:50]\n",
    "        f.write('{},{}\\n'.format(user, ' '.join(rec)))"
   ]
  }
 ],
 "metadata": {
  "kernelspec": {
   "display_name": "Python 3 (ipykernel)",
   "language": "python",
   "name": "python3"
  },
  "language_info": {
   "codemirror_mode": {
    "name": "ipython",
    "version": 3
   },
   "file_extension": ".py",
   "mimetype": "text/x-python",
   "name": "python",
   "nbconvert_exporter": "python",
   "pygments_lexer": "ipython3",
   "version": "3.10.7"
  }
 },
 "nbformat": 4,
 "nbformat_minor": 5
}
