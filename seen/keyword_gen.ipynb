{
 "cells": [
  {
   "cell_type": "code",
   "execution_count": 1,
   "metadata": {},
   "outputs": [],
   "source": [
    "import re\n",
    "import pandas as pd\n",
    "import numpy as np\n",
    "from bs4 import BeautifulSoup"
   ]
  },
  {
   "cell_type": "code",
   "execution_count": 2,
   "metadata": {},
   "outputs": [],
   "source": [
    "course_df_ori = pd.read_csv('./data/courses.csv').fillna('')"
   ]
  },
  {
   "cell_type": "code",
   "execution_count": 3,
   "metadata": {},
   "outputs": [
    {
     "data": {
      "text/plain": [
       "728"
      ]
     },
     "execution_count": 3,
     "metadata": {},
     "output_type": "execute_result"
    }
   ],
   "source": [
    "id2course_mapping = course_df_ori[\"course_id\"].to_dict()\n",
    "course2id_mapping = {v : k for k, v in id2course_mapping.items()}\n",
    "len(course2id_mapping)"
   ]
  },
  {
   "cell_type": "code",
   "execution_count": 4,
   "metadata": {},
   "outputs": [],
   "source": [
    "course_df = course_df_ori.drop(['teacher_id', 'course_published_at_local', 'course_published_at_local', 'course_price'], axis=1)\n",
    "course_df = course_df.replace('\\n', '',regex=True).replace('&.;', '',regex=True).replace(\"--&?\", \"\",regex=True).replace(\"\\t\", \"\",regex=True)\n"
   ]
  },
  {
   "cell_type": "code",
   "execution_count": 7,
   "metadata": {},
   "outputs": [
    {
     "data": {
      "text/html": [
       "<div>\n",
       "<style scoped>\n",
       "    .dataframe tbody tr th:only-of-type {\n",
       "        vertical-align: middle;\n",
       "    }\n",
       "\n",
       "    .dataframe tbody tr th {\n",
       "        vertical-align: top;\n",
       "    }\n",
       "\n",
       "    .dataframe thead th {\n",
       "        text-align: right;\n",
       "    }\n",
       "</style>\n",
       "<table border=\"1\" class=\"dataframe\">\n",
       "  <thead>\n",
       "    <tr style=\"text-align: right;\">\n",
       "      <th></th>\n",
       "      <th>course_name</th>\n",
       "      <th>teacher_intro</th>\n",
       "      <th>groups</th>\n",
       "      <th>sub_groups</th>\n",
       "      <th>groups+subgroups</th>\n",
       "      <th>topics</th>\n",
       "      <th>will_learn</th>\n",
       "      <th>target_group</th>\n",
       "      <th>description</th>\n",
       "      <th>recommended_background</th>\n",
       "      <th>required_tools</th>\n",
       "    </tr>\n",
       "  </thead>\n",
       "  <tbody>\n",
       "    <tr>\n",
       "      <th>0</th>\n",
       "      <td>少女人妻華麗變身：七大妝容七彩的夢幻樂園</td>\n",
       "      <td>在美妝KOL圈裡屬個人風格強烈的Alice，在清新與叛逆風格間遊刃有餘，其幽默的美妝影片手法...</td>\n",
       "      <td>生活品味</td>\n",
       "      <td>更多生活品味,護膚保養與化妝</td>\n",
       "      <td>生活品味_更多生活品味,生活品味_護膚保養與化妝</td>\n",
       "      <td>更多生活品味,護膚保養與化妝</td>\n",
       "      <td>不再害怕各種顏色的彩妝，可以更隨心搭配各種繽紛的顏色。</td>\n",
       "      <td>熱愛彩妝的人</td>\n",
       "      <td>&lt;imgsrc=\"https://images.api.hahow.in/images/61...</td>\n",
       "      <td>只要你有一顆愛化妝、想變漂亮的心皆可以參加。⚠️雖然課程當中會帶到相關彩妝技巧，不過內容偏向...</td>\n",
       "      <td>所需工具為：視課程實際會用到的彩妝用品</td>\n",
       "    </tr>\n",
       "    <tr>\n",
       "      <th>1</th>\n",
       "      <td>幾何圖形分割X色塊組合</td>\n",
       "      <td>從學生時代開始摸索photoshop等軟體，自以為有些天賦但後來發現其實沒有。出社會後從事美...</td>\n",
       "      <td>藝術,設計</td>\n",
       "      <td>平面設計,繪畫與插畫</td>\n",
       "      <td>設計_平面設計,藝術_繪畫與插畫</td>\n",
       "      <td>Illustrator/以拉,配色技巧</td>\n",
       "      <td>可以將任何區塊分割成自己想要的幾何圖形、快速的上色，並且能夠應用在許多地方</td>\n",
       "      <td>每一位興趣的人都能學得來，非常容易的小技巧</td>\n",
       "      <td>&lt;imgsrc=\"https://storage.googleapis.com/hahow-...</td>\n",
       "      <td>知道如何使用Illustrator的基本工具列</td>\n",
       "      <td>AdobeIllustrator（必備）,camera</td>\n",
       "    </tr>\n",
       "  </tbody>\n",
       "</table>\n",
       "</div>"
      ],
      "text/plain": [
       "            course_name                                      teacher_intro  \\\n",
       "0  少女人妻華麗變身：七大妝容七彩的夢幻樂園  在美妝KOL圈裡屬個人風格強烈的Alice，在清新與叛逆風格間遊刃有餘，其幽默的美妝影片手法...   \n",
       "1           幾何圖形分割X色塊組合  從學生時代開始摸索photoshop等軟體，自以為有些天賦但後來發現其實沒有。出社會後從事美...   \n",
       "\n",
       "  groups      sub_groups          groups+subgroups               topics  \\\n",
       "0   生活品味  更多生活品味,護膚保養與化妝  生活品味_更多生活品味,生活品味_護膚保養與化妝       更多生活品味,護膚保養與化妝   \n",
       "1  藝術,設計      平面設計,繪畫與插畫          設計_平面設計,藝術_繪畫與插畫  Illustrator/以拉,配色技巧   \n",
       "\n",
       "                              will_learn           target_group  \\\n",
       "0            不再害怕各種顏色的彩妝，可以更隨心搭配各種繽紛的顏色。                 熱愛彩妝的人   \n",
       "1  可以將任何區塊分割成自己想要的幾何圖形、快速的上色，並且能夠應用在許多地方  每一位興趣的人都能學得來，非常容易的小技巧   \n",
       "\n",
       "                                         description  \\\n",
       "0  <imgsrc=\"https://images.api.hahow.in/images/61...   \n",
       "1  <imgsrc=\"https://storage.googleapis.com/hahow-...   \n",
       "\n",
       "                              recommended_background  \\\n",
       "0  只要你有一顆愛化妝、想變漂亮的心皆可以參加。⚠️雖然課程當中會帶到相關彩妝技巧，不過內容偏向...   \n",
       "1                            知道如何使用Illustrator的基本工具列   \n",
       "\n",
       "                required_tools  \n",
       "0          所需工具為：視課程實際會用到的彩妝用品  \n",
       "1  AdobeIllustrator（必備）,camera  "
      ]
     },
     "execution_count": 7,
     "metadata": {},
     "output_type": "execute_result"
    }
   ],
   "source": [
    "def clean_data(x):\n",
    "        return x.replace(\" \", \"\")\n",
    "\n",
    "fillna=course_df.fillna('')\n",
    "features= ['course_name', 'teacher_intro', 'groups', 'sub_groups', 'groups+subgroups', 'topics', 'will_learn', 'target_group', 'description', 'recommended_background', 'required_tools']\n",
    "fillna=fillna[features]\n",
    "for feature in features:\n",
    "    fillna[feature] = fillna[feature].apply(clean_data)"
   ]
  },
  {
   "cell_type": "code",
   "execution_count": 9,
   "metadata": {},
   "outputs": [
    {
     "name": "stderr",
     "output_type": "stream",
     "text": [
      "/home/ian/miniconda3/envs/adlhw3/lib/python3.8/site-packages/tqdm/auto.py:22: TqdmWarning: IProgress not found. Please update jupyter and ipywidgets. See https://ipywidgets.readthedocs.io/en/stable/user_install.html\n",
      "  from .autonotebook import tqdm as notebook_tqdm\n",
      "2022-12-31 14:24:47.533244: I tensorflow/core/platform/cpu_feature_guard.cc:193] This TensorFlow binary is optimized with oneAPI Deep Neural Network Library (oneDNN) to use the following CPU instructions in performance-critical operations:  AVX2 AVX_VNNI FMA\n",
      "To enable them in other operations, rebuild TensorFlow with the appropriate compiler flags.\n",
      "2022-12-31 14:24:47.853822: I tensorflow/core/util/util.cc:169] oneDNN custom operations are on. You may see slightly different numerical results due to floating-point round-off errors from different computation orders. To turn them off, set the environment variable `TF_ENABLE_ONEDNN_OPTS=0`.\n",
      "2022-12-31 14:24:47.963437: E tensorflow/stream_executor/cuda/cuda_blas.cc:2981] Unable to register cuBLAS factory: Attempting to register factory for plugin cuBLAS when one has already been registered\n",
      "2022-12-31 14:24:48.780052: W tensorflow/stream_executor/platform/default/dso_loader.cc:64] Could not load dynamic library 'libnvinfer.so.7'; dlerror: libnvinfer.so.7: cannot open shared object file: No such file or directory; LD_LIBRARY_PATH: /usr/local/cuda-11.8/lib64\n",
      "2022-12-31 14:24:48.780115: W tensorflow/stream_executor/platform/default/dso_loader.cc:64] Could not load dynamic library 'libnvinfer_plugin.so.7'; dlerror: libnvinfer_plugin.so.7: cannot open shared object file: No such file or directory; LD_LIBRARY_PATH: /usr/local/cuda-11.8/lib64\n",
      "2022-12-31 14:24:48.780121: W tensorflow/compiler/tf2tensorrt/utils/py_utils.cc:38] TF-TRT Warning: Cannot dlopen some TensorRT libraries. If you would like to use Nvidia GPU with TensorRT, please make sure the missing libraries mentioned above are installed properly.\n"
     ]
    }
   ],
   "source": [
    "from chinese_keybert import Chinese_Extractor\n",
    "kw_extractor = Chinese_Extractor()"
   ]
  },
  {
   "cell_type": "code",
   "execution_count": 10,
   "metadata": {},
   "outputs": [],
   "source": [
    "fillna['kw_name'] = ''\n",
    "fillna['kw_intro'] = ''\n",
    "fillna['kw_topics'] = ''\n",
    "fillna['kw_will'] = ''\n",
    "fillna['kw_target'] = ''\n",
    "fillna['kw_desc'] = ''\n",
    "fillna['kw_recommend'] = ''\n",
    "fillna['kw_tool'] = ''\n",
    "fillna['kw_group'] = ''\n",
    "fillna['kw_sub'] = ''\n",
    "fillna['kw_gs'] = ''"
   ]
  },
  {
   "cell_type": "code",
   "execution_count": null,
   "metadata": {},
   "outputs": [],
   "source": [
    "for i in range(len(fillna)):\n",
    "    s1_name = ''\n",
    "    s1_intro = ''\n",
    "    s1_topics = ''\n",
    "    s1_will = ''\n",
    "    s1_target = ''\n",
    "    s1_desc = ''\n",
    "    s1_recommend = ''\n",
    "    s1_tool = ''\n",
    "    s1_group = ''\n",
    "    s1_sub = ''\n",
    "    s1_gs = ''\n",
    "    s_name = fillna['course_name'][i]\n",
    "    s_intro = fillna['teacher_intro'][i]\n",
    "    s_topics = fillna['topics'][i]\n",
    "    s_group = fillna['groups'][i]\n",
    "    s_sub = fillna['sub_groups'][i]\n",
    "    s_gs = fillna['groups+subgroups'][i]\n",
    "    s_will = fillna['will_learn'][i]\n",
    "    s_target = fillna['target_group'][i]\n",
    "    s_desc = fillna['description'][i]\n",
    "    s_recommend = fillna['recommended_background'][i]\n",
    "    s_tool = fillna['required_tools'][i]\n",
    "    print(i)\n",
    "    try:\n",
    "        kw_name = kw_extractor.generate_keywords(s_name,top_k=3,rank_methods=\"mmr\",diversity=0.2)\n",
    "        for j in range(2):\n",
    "            s1_name = s1_name + kw_name[0][j] + ','\n",
    "        s1_name = s1_name + kw_name[0][2]\n",
    "        fillna['kw_name'][i] = s1_name\n",
    "    except:\n",
    "        print('f')\n",
    "    try:\n",
    "        kw_intro = kw_extractor.generate_keywords(s_intro,top_k=5,rank_methods=\"mmr\",diversity=0.15)\n",
    "        for k in range(4):\n",
    "            s1_intro = s1_intro + kw_intro[0][k] + ','\n",
    "            s1_intro = s1_intro + kw_intro[0][4]\n",
    "        fillna['kw_intro'][i] = s1_intro\n",
    "    except:\n",
    "        print('f')\n",
    "    try:\n",
    "        kw_group = kw_extractor.generate_keywords(s_group,top_k=3,rank_methods=\"mmr\",diversity=0.2)\n",
    "        for j in range(2):\n",
    "            s1_group= s1_group + kw_group[0][j] + ','\n",
    "        s1_group = s1_group + kw_group[0][2]\n",
    "        fillna['kw_group'][i] = s1_topics\n",
    "    except:\n",
    "        print('f')\n",
    "    try:\n",
    "        kw_sub = kw_extractor.generate_keywords(s_sub,top_k=3,rank_methods=\"mmr\",diversity=0.2)\n",
    "        for j in range(2):\n",
    "            s1_sub = s1_sub + kw_sub[0][j] + ','\n",
    "        s1_sub = s1_sub + kw_sub[0][2]\n",
    "        fillna['kw_sub'][i] = s1_sub\n",
    "    except:\n",
    "        print('f')\n",
    "    try:\n",
    "        kw_gs = kw_extractor.generate_keywords(s_gs,top_k=5,rank_methods=\"mmr\",diversity=0.3)\n",
    "        for j in range(4):\n",
    "            s1_gs = s1_gs + kw_gs[0][j] + ','\n",
    "        s1_gs = s1_gs + kw_gs[0][4]\n",
    "        fillna['kw_gs'][i] = s1_gs\n",
    "    except:\n",
    "        print('f')\n",
    "    try:\n",
    "        kw_topics = kw_extractor.generate_keywords(s_topics,top_k=3,rank_methods=\"mmr\",diversity=0.15)\n",
    "        for j in range(2):\n",
    "            s1_topics = s1_topics + kw_topics[0][j] + ','\n",
    "        s1_topics = s1_topics + kw_topics[0][2]\n",
    "        fillna['kw_topics'][i] = s1_topics\n",
    "    except:\n",
    "        print('f')\n",
    "    try:\n",
    "        kw_will = kw_extractor.generate_keywords(s_will,top_k=3,rank_methods=\"mmr\",diversity=0.15)\n",
    "        for j in range(2):\n",
    "            s1_will = s1_will + kw_will[0][j] + ','\n",
    "        s1_will = s1_will + kw_will[0][2]\n",
    "        fillna['kw_will'][i] = s1_will\n",
    "    except:\n",
    "        print('f')\n",
    "    try:\n",
    "        kw_target = kw_extractor.generate_keywords(s_target,top_k=1,rank_methods=\"mmr\",diversity=0.1)\n",
    "        s1_target = s1_target + kw_target[0][0]\n",
    "        fillna['kw_target'][i] = s1_target\n",
    "    except:\n",
    "        print('f')\n",
    "    try:\n",
    "        kw_desc = kw_extractor.generate_keywords(s_desc,top_k=5,rank_methods=\"mmr\",diversity=0.3)\n",
    "        for k in range(4):\n",
    "            s1_desc = s1_desc + kw_desc[0][k] + ','\n",
    "        s1_desc = s1_desc + kw_desc[0][4]\n",
    "        fillna['kw_desc'][i] = s1_desc\n",
    "    except:\n",
    "        print('f')\n",
    "    try:\n",
    "        kw_recommend = kw_extractor.generate_keywords(s_recommend,top_k=3,rank_methods=\"mmr\",diversity=0.3)\n",
    "        for l in range(2):\n",
    "            s1_recommend = s1_recommend + kw_recommend[0][l] + ','\n",
    "        s1_recommend = s1_recommend + kw_recommend[0][2]\n",
    "        fillna['kw_recommend'][i] = s1_recommend\n",
    "    except:\n",
    "        print('f')\n",
    "    try:\n",
    "        kw_tool = kw_extractor.generate_keywords(s_tool,top_k=3,rank_methods=\"mmr\",diversity=0.15)\n",
    "        for l in range(2):\n",
    "            s1_tool = s1_tool + kw_tool[0][l] + ','\n",
    "        s1_tool = s1_tool + kw_tool[0][2] + ','\n",
    "        fillna['kw_tool'][i] = s1_tool\n",
    "    except:\n",
    "        print('f')"
   ]
  },
  {
   "cell_type": "code",
   "execution_count": 13,
   "metadata": {},
   "outputs": [],
   "source": [
    "fillna.to_csv('combination1231.csv')\n"
   ]
  },
  {
   "cell_type": "code",
   "execution_count": null,
   "metadata": {},
   "outputs": [],
   "source": []
  }
 ],
 "metadata": {
  "kernelspec": {
   "display_name": "adlhw3",
   "language": "python",
   "name": "python3"
  },
  "language_info": {
   "codemirror_mode": {
    "name": "ipython",
    "version": 3
   },
   "file_extension": ".py",
   "mimetype": "text/x-python",
   "name": "python",
   "nbconvert_exporter": "python",
   "pygments_lexer": "ipython3",
   "version": "3.8.13 (default, Oct 21 2022, 23:50:54) \n[GCC 11.2.0]"
  },
  "orig_nbformat": 4,
  "vscode": {
   "interpreter": {
    "hash": "9dedd2b11c6d65023ba78f004c00adcb97ea7737d51ff1d03c402b08b92e7cef"
   }
  }
 },
 "nbformat": 4,
 "nbformat_minor": 2
}
