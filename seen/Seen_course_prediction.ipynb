{
 "cells": [
  {
   "cell_type": "code",
   "execution_count": 1,
   "metadata": {},
   "outputs": [],
   "source": [
    "import re\n",
    "import pandas as pd\n",
    "import numpy as np\n",
    "from bs4 import BeautifulSoup\n",
    "from sklearn.feature_extraction.text import TfidfVectorizer\n",
    "from sklearn.metrics.pairwise import cosine_similarity\n",
    "from sklearn.metrics.pairwise import linear_kernel\n",
    "from scipy.sparse import csr_matrix\n",
    "import csv\n",
    "import ml_metrics"
   ]
  },
  {
   "cell_type": "code",
   "execution_count": 2,
   "metadata": {},
   "outputs": [],
   "source": [
    "users_df = pd.read_csv('./data/users.csv')\n",
    "subgroups_df = pd.read_csv('./data/subgroups.csv')\n",
    "course_df_original = pd.read_csv('./data/courses.csv').fillna('')\n",
    "\n",
    "train_df = pd.read_csv('./data/train.csv')\n",
    "test_seen_df = pd.read_csv('./data/test_seen.csv')\n",
    "val_seen_df = pd.read_csv('./data/val_seen.csv')"
   ]
  },
  {
   "cell_type": "code",
   "execution_count": 3,
   "metadata": {},
   "outputs": [],
   "source": [
    "id2course_mapping = course_df_original[\"course_id\"].to_dict()\n",
    "course2id_mapping = {v : k for k, v in id2course_mapping.items()}"
   ]
  },
  {
   "cell_type": "code",
   "execution_count": 4,
   "metadata": {},
   "outputs": [],
   "source": [
    "course_df = pd.read_csv('./combination1231.csv').fillna('')\n",
    "course_df.insert(0, 'course_id', course_df_original['course_id'])"
   ]
  },
  {
   "cell_type": "code",
   "execution_count": 5,
   "metadata": {},
   "outputs": [
    {
     "name": "stderr",
     "output_type": "stream",
     "text": [
      "/tmp/ipykernel_2119/3750088368.py:5: SettingWithCopyWarning: \n",
      "A value is trying to be set on a copy of a slice from a DataFrame\n",
      "\n",
      "See the caveats in the documentation: https://pandas.pydata.org/pandas-docs/stable/user_guide/indexing.html#returning-a-view-versus-a-copy\n",
      "  course_df['description'][i] = s1\n"
     ]
    }
   ],
   "source": [
    "for i in range(len(course_df)):\n",
    "    s = ''\n",
    "    s = course_df['description'][i]\n",
    "    s1 = BeautifulSoup(s ,'html').text\n",
    "    course_df['description'][i] = s1\n",
    "course_df = course_df.replace('\\n', '',regex=True).replace('&.;', '',regex=True).replace(\"--&?\", \"\",regex=True).replace(\"\\t\", \"\",regex=True)\n",
    "fillna=course_df.fillna('')"
   ]
  },
  {
   "cell_type": "code",
   "execution_count": 6,
   "metadata": {},
   "outputs": [],
   "source": [
    "def combination(name, n):\n",
    "    text=''\n",
    "    if n-1 > 0:\n",
    "        for i in range(n):\n",
    "            text = text + name + ' '\n",
    "    elif n-1 == 0:\n",
    "        text = text + name + ' '\n",
    "    return text\n",
    "def combination_count(x, cn,ti,g,sg,gsg,t,d,wl,rt,rbg,tg, kcn,kti,kg,ksg,kgsg,kt,kd,kwl,krt,krbg,ktg):\n",
    "    course_name = x['course_name']\n",
    "    teacher_intro = x['teacher_intro']\n",
    "    will_learn = x['will_learn']\n",
    "    recommended_background = x['recommended_background']\n",
    "    target_group = x['target_group']\n",
    "    required_tools = x['required_tools']\n",
    "    text = ''\n",
    "    text += combination(course_name, cn)\n",
    "    text += combination(teacher_intro, ti)\n",
    "    text += combination(x['groups'], g)\n",
    "    text += combination(x['sub_groups'], sg)\n",
    "    text += combination(x['groups+subgroups'], gsg)\n",
    "    text += combination(x['topics'], t)\n",
    "    text += combination(x['description'], d)\n",
    "    text += combination(x['will_learn'], wl)\n",
    "    text += combination(x['required_tools'], rt)\n",
    "    text += combination(x['recommended_background'], rbg)\n",
    "    text += combination(x['target_group'], tg)\n",
    "    text += combination(x['kw_name'], kcn)\n",
    "    text += combination(x['kw_intro'], kti)\n",
    "    text += combination(x['kw_group'], kg)\n",
    "    text += combination(x['kw_sub'], ksg)\n",
    "    text += combination(x['kw_gs'], kgsg)\n",
    "    text += combination(x['kw_topics'], kt)\n",
    "    text += combination(x['kw_desc'], kd)\n",
    "    text += combination(x['kw_will'], kwl)\n",
    "    text += combination(x['kw_tool'], krt)\n",
    "    text += combination(x['kw_recommend'], krbg)\n",
    "    text += combination(x['kw_target'], ktg)\n",
    "    return text\n",
    "\n",
    "def create_combination(x):\n",
    "    text=''\n",
    "    # Adjust weights\n",
    "    text = combination_count(x, 1,2,1,2,1,0,0,1,1,1,1 ,1,1,0,0,0,0,0,1,1,2,1)\n",
    "    return text\n",
    "\n",
    "fillna['combination'] = fillna.apply(create_combination, axis=1)"
   ]
  },
  {
   "cell_type": "code",
   "execution_count": 7,
   "metadata": {},
   "outputs": [],
   "source": [
    "stopwords = [k.strip() for k in open('baidu_stopwords_plus.txt', encoding='utf8').readlines() if k.strip() != '']"
   ]
  },
  {
   "cell_type": "code",
   "execution_count": 8,
   "metadata": {},
   "outputs": [
    {
     "name": "stderr",
     "output_type": "stream",
     "text": [
      "/home/ian/miniconda3/envs/adlhw3/lib/python3.8/site-packages/sklearn/feature_extraction/text.py:404: UserWarning: Your stop_words may be inconsistent with your preprocessing. Tokenizing the stop words generated tokens ['don'] not in stop_words.\n",
      "  warnings.warn(\n"
     ]
    }
   ],
   "source": [
    "tfidf = TfidfVectorizer(tokenizer=None, stop_words=stopwords)\n",
    "# Construct the required TF-IDF matrix by fitting and transforming the data\n",
    "tfidf_matrix = tfidf.fit_transform(fillna['combination'])\n",
    "tfidf_matrix_nd = tfidf_matrix.toarray()\n",
    "np.save('item_embeddings_course.npy', tfidf_matrix_nd)"
   ]
  },
  {
   "cell_type": "code",
   "execution_count": 9,
   "metadata": {},
   "outputs": [],
   "source": [
    "item_embed_FM = np.load('item_embeddings_course.npy')\n",
    "item_embed_FM = item_embed_FM[:728]"
   ]
  },
  {
   "cell_type": "code",
   "execution_count": 10,
   "metadata": {},
   "outputs": [],
   "source": [
    "concatenate_item_embed_nd = np.concatenate([tfidf_matrix_nd, item_embed_FM/2], axis = 1)\n",
    "concatenate_item_embed = csr_matrix(concatenate_item_embed_nd)\n",
    "# Compute the cosine similarity matrix\n",
    "cosine_sim2 = linear_kernel(concatenate_item_embed, concatenate_item_embed)"
   ]
  },
  {
   "cell_type": "code",
   "execution_count": 11,
   "metadata": {},
   "outputs": [],
   "source": [
    "def get_new_recommend(haved_courses_list, cosine_sim, top = 50):\n",
    "    cosine_sim_sum = [ [i, 0] for i in range(len(course2id_mapping))]\n",
    "    haved_courses_index_list = [ course2id_mapping[course_id] for course_id in haved_courses_list]\n",
    "    for idx in haved_courses_index_list:\n",
    "        # Get the pairwsie similarity scores of all courses with that course\n",
    "        sim_scores = list(enumerate(cosine_sim[idx]))\n",
    "        for i in range(len(sim_scores)):\n",
    "            cosine_sim_sum[i][1] += sim_scores[i][1]\n",
    "\n",
    "    # Sort the courses based on the similarity scores\n",
    "    sim_scores = sorted(cosine_sim_sum, key=lambda x: x[1], reverse=True)\n",
    "\n",
    "    recommend_indices = []\n",
    "    # Get the scores of the 50 most course not buy\n",
    "    for i in range(len(sim_scores)):\n",
    "        if len(recommend_indices) < top:\n",
    "            if sim_scores[i][0] not in haved_courses_index_list:\n",
    "                recommend_indices.append(sim_scores[i][0])\n",
    "\n",
    "    # Return the top 50 most similar course\n",
    "    return course_df['course_id'].iloc[recommend_indices].tolist()"
   ]
  },
  {
   "attachments": {},
   "cell_type": "markdown",
   "metadata": {},
   "source": [
    "# Validate Accuracy of our approach"
   ]
  },
  {
   "cell_type": "code",
   "execution_count": 12,
   "metadata": {},
   "outputs": [],
   "source": [
    "train_haved_purchased_course = {}\n",
    "for seen_user_id, course_ids in zip(train_df[\"user_id\"], train_df[\"course_id\"]):\n",
    "    course_id_list = course_ids.split(' ')\n",
    "    train_haved_purchased_course[seen_user_id] = train_haved_purchased_course.setdefault(seen_user_id, []) + course_id_list\n",
    "\n",
    "val_course = {}\n",
    "val_seen_df_fillna = val_seen_df.fillna(\"\")\n",
    "for seen_user_id, course_ids in zip(val_seen_df_fillna[\"user_id\"], val_seen_df_fillna[\"course_id\"]):\n",
    "    if len(course_ids) > 0:\n",
    "        course_id_list = [ str(x) for x in course_ids.split(' ')]\n",
    "        val_course[seen_user_id] = val_course.setdefault(seen_user_id, []) + course_id_list"
   ]
  },
  {
   "cell_type": "code",
   "execution_count": 13,
   "metadata": {},
   "outputs": [
    {
     "name": "stdout",
     "output_type": "stream",
     "text": [
      "0.07197245330068001\n"
     ]
    }
   ],
   "source": [
    "answers, predictions, map50s = [], [], []\n",
    "for user_id in val_seen_df[\"user_id\"]:\n",
    "    prediction = get_new_recommend(train_haved_purchased_course[user_id], cosine_sim2, top = 50)\n",
    "    #print(prediction)\n",
    "    prediction_idxs = prediction\n",
    "    if user_id in val_course.keys():\n",
    "        answer_idxs = val_course[user_id]\n",
    "    else:\n",
    "        answer_idxs = []\n",
    "    predictions.append(prediction_idxs)\n",
    "    answers.append(answer_idxs)\n",
    "    map50s.append(ml_metrics.mapk(predicted= [prediction_idxs], actual= [answer_idxs], k = 50))\n",
    "    \n",
    "print(np.mean(map50s))\n",
    "map50 = ml_metrics.mapk(predicted= predictions, actual= answers, k = 50)"
   ]
  },
  {
   "attachments": {},
   "cell_type": "markdown",
   "metadata": {},
   "source": [
    "# Predict and Save"
   ]
  },
  {
   "cell_type": "code",
   "execution_count": 14,
   "metadata": {},
   "outputs": [],
   "source": [
    "predict_user = test_seen_df[\"user_id\"].to_list()\n",
    "\n",
    "seen_user_haved_purchased_course = {}\n",
    "for seen_user_id, course_ids in zip(train_df[\"user_id\"], train_df[\"course_id\"]):\n",
    "    course_id_list = course_ids.split(' ')\n",
    "    seen_user_haved_purchased_course[seen_user_id] = seen_user_haved_purchased_course.setdefault(seen_user_id, []) + course_id_list\n",
    "for seen_user_id, course_ids in zip(val_seen_df[\"user_id\"], val_seen_df[\"course_id\"]):\n",
    "    course_id_list = course_ids.split(' ')\n",
    "    seen_user_haved_purchased_course[seen_user_id] = seen_user_haved_purchased_course.setdefault(seen_user_id, []) + course_id_list"
   ]
  },
  {
   "cell_type": "code",
   "execution_count": 15,
   "metadata": {},
   "outputs": [],
   "source": [
    "predict_users = test_seen_df[\"user_id\"].to_list()\n",
    "with open(\"course_predict50.csv\", \"w\") as f:\n",
    "    writer = csv.writer(f)\n",
    "    writer.writerow([\"user_id\", \"course_id\"])\n",
    "    for user_id in predict_users:\n",
    "        recommend = \" \".join(get_new_recommend(seen_user_haved_purchased_course[user_id], cosine_sim2, top = 50))\n",
    "        writer.writerow([user_id, recommend])"
   ]
  },
  {
   "cell_type": "code",
   "execution_count": null,
   "metadata": {},
   "outputs": [],
   "source": []
  }
 ],
 "metadata": {
  "kernelspec": {
   "display_name": "adlhw3",
   "language": "python",
   "name": "python3"
  },
  "language_info": {
   "codemirror_mode": {
    "name": "ipython",
    "version": 3
   },
   "file_extension": ".py",
   "mimetype": "text/x-python",
   "name": "python",
   "nbconvert_exporter": "python",
   "pygments_lexer": "ipython3",
   "version": "3.8.13"
  },
  "orig_nbformat": 4,
  "vscode": {
   "interpreter": {
    "hash": "9dedd2b11c6d65023ba78f004c00adcb97ea7737d51ff1d03c402b08b92e7cef"
   }
  }
 },
 "nbformat": 4,
 "nbformat_minor": 2
}
