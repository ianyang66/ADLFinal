{
 "cells": [
  {
   "cell_type": "code",
   "execution_count": 1,
   "metadata": {},
   "outputs": [],
   "source": [
    "import matplotlib.pyplot as plt\n",
    "%matplotlib inline\n",
    "import pandas as pd\n",
    "import numpy as np"
   ]
  },
  {
   "cell_type": "code",
   "execution_count": 2,
   "metadata": {},
   "outputs": [],
   "source": [
    "course_chapter_items_df = pd.read_csv('./data/course_chapter_items.csv')\n",
    "course_df = pd.read_csv('./data/courses.csv')\n",
    "users_df = pd.read_csv('./data/users.csv')\n",
    "subgroups_df = pd.read_csv('./data/subgroups.csv')\n",
    "\n",
    "train_group_df = pd.read_csv('./data/train_group.csv')\n",
    "test_seen_group_df = pd.read_csv('./data/test_seen_group.csv')\n",
    "val_seen_group_df = pd.read_csv('./data/val_seen_group.csv')\n",
    "test_unseen_group_df = pd.read_csv('./data/test_unseen_group.csv')\n",
    "val_unseen_group_df = pd.read_csv('./data/val_unseen_group.csv')\n",
    "\n",
    "train_df = pd.read_csv('./data/train.csv')\n",
    "test_seen_df = pd.read_csv('./data/test_seen.csv')\n",
    "val_seen_df = pd.read_csv('./data/val_seen.csv')\n",
    "test_unseen_df = pd.read_csv('./data/test_unseen.csv')\n",
    "val_unseen_df = pd.read_csv('./data/val_unseen.csv')"
   ]
  },
  {
   "cell_type": "markdown",
<<<<<<< HEAD
   "metadata": {},
=======
   "metadata": {
    "tags": []
   },
>>>>>>> main
   "source": [
    "## Tool"
   ]
  },
  {
   "cell_type": "code",
   "execution_count": 3,
   "metadata": {},
   "outputs": [],
   "source": [
    "def check_row_number_with_unique_amount(df, df_name, column):\n",
    "    nrow = df.shape[0]\n",
    "    nunique = pd.unique(df.loc[:,column]).shape[0]\n",
    "    msg = f'dataframe {df_name} row number != unique {column} amount'\n",
    "    assert nrow == nunique, msg\n",
    "    print(f'dataframe {df_name} row number == unique {column} amount ({nrow} == {nunique})')\n",
    "\n",
    "def check_unique_items_are_same_set(df1, df1_name, df1_column, df2, df2_name, df2_column):\n",
    "    df1_set = set(df1.loc[:,df1_column].to_list())\n",
    "    df2_set = set(df2.loc[:,df2_column].to_list())\n",
    "    diff = df1_set.symmetric_difference(df2_set)\n",
    "    msg = f'unique {df1_name}.{df1_column} & unique {df2_name}.{df2_column} are different'\n",
    "    assert len(diff) == 0, msg\n",
    "    print(f'unique {df1_name}.{df1_column} & unique {df2_name}.{df2_column} are the same')"
   ]
  },
  {
   "cell_type": "markdown",
   "metadata": {},
   "source": [
    "## NaN 檢查"
   ]
  },
  {
   "cell_type": "code",
   "execution_count": 4,
   "metadata": {},
   "outputs": [
    {
     "data": {
      "text/html": [
       "<div>\n",
       "<style scoped>\n",
       "    .dataframe tbody tr th:only-of-type {\n",
       "        vertical-align: middle;\n",
       "    }\n",
       "\n",
       "    .dataframe tbody tr th {\n",
       "        vertical-align: top;\n",
       "    }\n",
       "\n",
       "    .dataframe thead th {\n",
       "        text-align: right;\n",
       "    }\n",
       "</style>\n",
       "<table border=\"1\" class=\"dataframe\">\n",
       "  <thead>\n",
       "    <tr style=\"text-align: right;\">\n",
       "      <th></th>\n",
       "      <th>df_name</th>\n",
       "      <th>nans</th>\n",
       "    </tr>\n",
       "  </thead>\n",
       "  <tbody>\n",
       "    <tr>\n",
       "      <th>0</th>\n",
       "      <td>course_chapter_items</td>\n",
       "      <td>2029</td>\n",
       "    </tr>\n",
       "    <tr>\n",
       "      <th>1</th>\n",
       "      <td>course</td>\n",
       "      <td>79</td>\n",
       "    </tr>\n",
       "    <tr>\n",
       "      <th>2</th>\n",
       "      <td>users</td>\n",
       "      <td>293146</td>\n",
       "    </tr>\n",
       "    <tr>\n",
       "      <th>3</th>\n",
       "      <td>subgroups</td>\n",
       "      <td>0</td>\n",
       "    </tr>\n",
       "    <tr>\n",
       "      <th>4</th>\n",
       "      <td>train_group</td>\n",
       "      <td>705</td>\n",
       "    </tr>\n",
       "    <tr>\n",
       "      <th>5</th>\n",
       "      <td>test_seen_group</td>\n",
       "      <td>0</td>\n",
       "    </tr>\n",
       "    <tr>\n",
       "      <th>6</th>\n",
       "      <td>val_seen_group</td>\n",
       "      <td>33</td>\n",
       "    </tr>\n",
       "    <tr>\n",
       "      <th>7</th>\n",
       "      <td>test_unseen_group</td>\n",
       "      <td>0</td>\n",
       "    </tr>\n",
       "    <tr>\n",
       "      <th>8</th>\n",
       "      <td>val_unseen_group</td>\n",
       "      <td>96</td>\n",
       "    </tr>\n",
       "    <tr>\n",
       "      <th>9</th>\n",
       "      <td>train</td>\n",
       "      <td>0</td>\n",
       "    </tr>\n",
       "    <tr>\n",
       "      <th>10</th>\n",
       "      <td>test_seen</td>\n",
       "      <td>0</td>\n",
       "    </tr>\n",
       "    <tr>\n",
       "      <th>11</th>\n",
       "      <td>val_seen</td>\n",
       "      <td>0</td>\n",
       "    </tr>\n",
       "    <tr>\n",
       "      <th>12</th>\n",
       "      <td>test_unseen</td>\n",
       "      <td>0</td>\n",
       "    </tr>\n",
       "    <tr>\n",
       "      <th>13</th>\n",
       "      <td>val_unseen</td>\n",
       "      <td>0</td>\n",
       "    </tr>\n",
       "  </tbody>\n",
       "</table>\n",
       "</div>"
      ],
      "text/plain": [
       "                 df_name    nans\n",
       "0   course_chapter_items    2029\n",
       "1                 course      79\n",
       "2                  users  293146\n",
       "3              subgroups       0\n",
       "4            train_group     705\n",
       "5        test_seen_group       0\n",
       "6         val_seen_group      33\n",
       "7      test_unseen_group       0\n",
       "8       val_unseen_group      96\n",
       "9                  train       0\n",
       "10             test_seen       0\n",
       "11              val_seen       0\n",
       "12           test_unseen       0\n",
       "13            val_unseen       0"
      ]
     },
     "execution_count": 4,
     "metadata": {},
     "output_type": "execute_result"
    }
   ],
   "source": [
    "course_chapter_items_df_nans = course_chapter_items_df.isnull().sum().sum()\n",
    "course_df_nans = course_df.isnull().sum().sum()\n",
    "users_df_nans = users_df.isnull().sum().sum()\n",
    "subgroups_df_nans = subgroups_df.isnull().sum().sum()\n",
    "\n",
    "train_group_df_nans = train_group_df.isnull().sum().sum()\n",
    "test_seen_group_df_nans = test_seen_group_df.isnull().sum().sum()\n",
    "val_seen_group_df_nans = val_seen_group_df.isnull().sum().sum()\n",
    "test_unseen_group_df_nans = test_unseen_group_df.isnull().sum().sum()\n",
    "val_unseen_group_df_nans = val_unseen_group_df.isnull().sum().sum()\n",
    "\n",
    "train_df_nans = train_df.isnull().sum().sum()\n",
    "test_seen_df_nans = test_seen_df.isnull().sum().sum()\n",
    "val_seen_df_nans = val_seen_df.isnull().sum().sum()\n",
    "test_unseen_df_nans = test_unseen_df.isnull().sum().sum()\n",
    "val_unseen_df_nans = val_unseen_df.isnull().sum().sum()\n",
    "\n",
    "pd.DataFrame({'df_name':[    \n",
    "    \"course_chapter_items\", \n",
    "    \"course\", \n",
    "    \"users\", \n",
    "    \"subgroups\", \n",
    "    \"train_group\",\n",
    "    \"test_seen_group\", \n",
    "    \"val_seen_group\", \n",
    "    \"test_unseen_group\", \n",
    "    \"val_unseen_group\", \n",
    "    \"train\", \n",
    "    \"test_seen\", \n",
    "    \"val_seen\", \n",
    "    \"test_unseen\", \n",
    "    \"val_unseen\"], 'nans':[\n",
    "    course_chapter_items_df_nans, \n",
    "    course_df_nans, \n",
    "    users_df_nans, \n",
    "    subgroups_df_nans, \n",
    "    train_group_df_nans,\n",
    "    test_seen_group_df_nans, \n",
    "    val_seen_group_df_nans, \n",
    "    test_unseen_group_df_nans, \n",
    "    val_unseen_group_df_nans, \n",
    "    train_df_nans, \n",
    "    test_seen_df_nans, \n",
    "    val_seen_df_nans, \n",
    "    test_unseen_df_nans, \n",
    "    val_unseen_df_nans]})"
   ]
  },
  {
   "cell_type": "code",
   "execution_count": 5,
   "metadata": {},
   "outputs": [
    {
     "data": {
      "text/plain": [
       "course_id                     0\n",
       "chapter_no                    0\n",
       "chapter_id                    0\n",
       "chapter_name                103\n",
       "chapter_item_id               0\n",
       "chapter_item_no               0\n",
       "chapter_item_name             7\n",
       "chapter_item_type             0\n",
       "video_length_in_seconds    1919\n",
       "dtype: int64"
      ]
     },
     "execution_count": 5,
     "metadata": {},
     "output_type": "execute_result"
    }
   ],
   "source": [
    "course_chapter_items_df.isnull().sum()"
   ]
  },
  {
   "cell_type": "code",
   "execution_count": 6,
   "metadata": {},
   "outputs": [
    {
     "data": {
      "text/plain": [
       "user_id                   0\n",
       "gender                45195\n",
       "occupation_titles    101510\n",
       "interests             47810\n",
       "recreation_names      98631\n",
       "dtype: int64"
      ]
     },
     "execution_count": 6,
     "metadata": {},
     "output_type": "execute_result"
    }
   ],
   "source": [
    "users_df.isnull().sum()"
   ]
  },
  {
   "cell_type": "code",
   "execution_count": 7,
   "metadata": {},
   "outputs": [
    {
     "data": {
      "text/plain": [
       "user_id       0\n",
       "subgroup    705\n",
       "dtype: int64"
      ]
     },
     "execution_count": 7,
     "metadata": {},
     "output_type": "execute_result"
    }
   ],
   "source": [
    "\n",
    "train_group_df.isnull().sum()"
   ]
  },
  {
   "cell_type": "code",
   "execution_count": 8,
   "metadata": {},
   "outputs": [
    {
     "data": {
      "text/plain": [
       "user_id      0\n",
       "subgroup    33\n",
       "dtype: int64"
      ]
     },
     "execution_count": 8,
     "metadata": {},
     "output_type": "execute_result"
    }
   ],
   "source": [
    "val_seen_group_df.isnull().sum()"
   ]
  },
  {
   "cell_type": "code",
   "execution_count": 9,
   "metadata": {},
   "outputs": [
    {
     "data": {
      "text/plain": [
       "user_id      0\n",
       "subgroup    96\n",
       "dtype: int64"
      ]
     },
     "execution_count": 9,
     "metadata": {},
     "output_type": "execute_result"
    }
   ],
   "source": [
    "val_unseen_group_df.isnull().sum()"
   ]
  },
  {
   "cell_type": "markdown",
   "metadata": {
    "tags": []
   },
   "source": [
    "## 基本資料檢查"
   ]
  },
  {
   "cell_type": "code",
   "execution_count": 10,
   "metadata": {},
   "outputs": [
    {
     "ename": "AssertionError",
     "evalue": "amount of unique coursd_id unmatch in course_df, course_chapter_items_df (728 != 727)",
     "output_type": "error",
     "traceback": [
      "\u001b[1;31m---------------------------------------------------------------------------\u001b[0m",
      "\u001b[1;31mAssertionError\u001b[0m                            Traceback (most recent call last)",
      "Input \u001b[1;32mIn [10]\u001b[0m, in \u001b[0;36m<cell line: 4>\u001b[1;34m()\u001b[0m\n\u001b[0;32m      2\u001b[0m course_chapter_items_df_cid \u001b[38;5;241m=\u001b[39m pd\u001b[38;5;241m.\u001b[39munique(course_chapter_items_df\u001b[38;5;241m.\u001b[39mcourse_id)\u001b[38;5;241m.\u001b[39mshape[\u001b[38;5;241m0\u001b[39m]\n\u001b[0;32m      3\u001b[0m msg \u001b[38;5;241m=\u001b[39m \u001b[38;5;124mf\u001b[39m\u001b[38;5;124m'\u001b[39m\u001b[38;5;124mamount of unique coursd_id unmatch in course_df, course_chapter_items_df (\u001b[39m\u001b[38;5;132;01m{\u001b[39;00mcourse_df_cid\u001b[38;5;132;01m}\u001b[39;00m\u001b[38;5;124m != \u001b[39m\u001b[38;5;132;01m{\u001b[39;00mcourse_chapter_items_df_cid\u001b[38;5;132;01m}\u001b[39;00m\u001b[38;5;124m)\u001b[39m\u001b[38;5;124m'\u001b[39m\n\u001b[1;32m----> 4\u001b[0m \u001b[38;5;28;01massert\u001b[39;00m course_df_cid \u001b[38;5;241m==\u001b[39m course_chapter_items_df_cid, msg\n",
      "\u001b[1;31mAssertionError\u001b[0m: amount of unique coursd_id unmatch in course_df, course_chapter_items_df (728 != 727)"
     ]
    }
   ],
   "source": [
    "course_df_cid = pd.unique(course_df.course_id).shape[0]\n",
    "course_chapter_items_df_cid = pd.unique(course_chapter_items_df.course_id).shape[0]\n",
    "msg = f'amount of unique coursd_id unmatch in course_df, course_chapter_items_df ({course_df_cid} != {course_chapter_items_df_cid})'\n",
    "assert course_df_cid == course_chapter_items_df_cid, msg"
   ]
  },
  {
   "cell_type": "markdown",
   "metadata": {
    "tags": []
   },
   "source": [
    "## 檢驗相同的users在train中購買的subgroups有多少比例 valid的時候也有購買(course的為0，不會重複購買)"
   ]
  },
  {
   "cell_type": "code",
   "execution_count": 11,
   "metadata": {},
   "outputs": [
    {
     "name": "stdout",
     "output_type": "stream",
     "text": [
      "unique subgroup id:91\n",
      "unique user id: 130566\n",
      "train_df, train_group_df have the same unique user_id set\n",
      "unique train_df.user_id & unique train_group_df.user_id are the same\n",
      "dataframe train_df row number == unique user_id amount (59737 == 59737)\n",
      "dataframe train_group_df row number == unique user_id amount (59737 == 59737)\n"
     ]
    }
   ],
   "source": [
    "subgroups_df_sid = pd.unique(subgroups_df.subgroup_id).shape[0]\n",
    "users_df_uid = pd.unique(users_df.user_id).shape[0]\n",
    "print(f'unique subgroup id:{subgroups_df_sid}')\n",
    "print(f'unique user id: {users_df_uid}')\n",
    "\n",
    "\n",
    "train_df_uid_set = set(train_df.user_id.to_list())\n",
    "train_group_df_uid_set = set(train_group_df.user_id.to_list())\n",
    "identical_set = train_df_uid_set.symmetric_difference(train_group_df_uid_set)\n",
    "msg = f'unique user_id not the same set in train_df, train_group_df'\n",
    "assert len(identical_set) == 0, msg\n",
    "print(f'train_df, train_group_df have the same unique user_id set')\n",
    "\n",
    "check_unique_items_are_same_set(train_df, 'train_df', 'user_id', train_group_df, 'train_group_df', 'user_id')\n",
    "check_row_number_with_unique_amount(train_df, 'train_df', 'user_id')\n",
    "check_row_number_with_unique_amount(train_group_df, 'train_group_df', 'user_id')"
   ]
  },
  {
   "cell_type": "markdown",
   "metadata": {},
   "source": [
    "# 敘述統計"
   ]
  },
  {
   "cell_type": "markdown",
   "metadata": {},
   "source": [
    "## course_chapter_items"
   ]
  },
  {
   "cell_type": "code",
   "execution_count": 12,
   "metadata": {},
   "outputs": [
    {
     "data": {
      "image/png": "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\n",
      "text/plain": [
       "<Figure size 2000x500 with 1 Axes>"
      ]
     },
     "metadata": {},
     "output_type": "display_data"
    }
   ],
   "source": [
    "course_chapter_items_df[['video_length_in_seconds']].describe()\n",
    "\n",
    "ax = course_chapter_items_df.plot.hist(column=['video_length_in_seconds'], bins=100, xticks=range(0,8000,100), figsize=(20,5), title='video_length_in_seconds')\n",
    "ax.tick_params(axis='x', rotation=45)"
   ]
  },
  {
   "cell_type": "code",
   "execution_count": null,
   "metadata": {},
   "outputs": [],
   "source": []
  }
 ],
 "metadata": {
  "kernelspec": {
   "display_name": "adl",
   "language": "python",
   "name": "adl"
  },
  "language_info": {
   "codemirror_mode": {
    "name": "ipython",
    "version": 3
   },
   "file_extension": ".py",
   "mimetype": "text/x-python",
   "name": "python",
   "nbconvert_exporter": "python",
   "pygments_lexer": "ipython3",
   "version": "3.9.13"
  },
  "vscode": {
   "interpreter": {
    "hash": "1f07a293804b885d03dc90a1aa5b9f14c1f9143b210f0732d9797776510e4628"
   }
  }
 },
 "nbformat": 4,
 "nbformat_minor": 4
}
