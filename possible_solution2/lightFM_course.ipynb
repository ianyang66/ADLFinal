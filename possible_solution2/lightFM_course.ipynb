{
 "cells": [
  {
   "cell_type": "code",
   "execution_count": 1,
   "metadata": {},
   "outputs": [
    {
     "name": "stderr",
     "output_type": "stream",
     "text": [
      "Duplicate key in file WindowsPath('c:/Users/USER/anaconda3/envs/python3.9.15/lib/site-packages/matplotlib/mpl-data/matplotlibrc'), line 273 ('font.monospace:  DejaVu Sans Mono, Bitstream Vera Sans Mono, Computer Modern Typewriter, Andale Mono, Nimbus Mono L, Courier New, Courier, Fixed, Terminal, monospace')\n"
     ]
    }
   ],
   "source": [
    "import matplotlib.pyplot as plt\n",
    "%matplotlib inline\n",
    "import pandas as pd\n",
    "import numpy as np\n",
    "from collections import Counter\n",
    "import seaborn as sns"
   ]
  },
  {
   "cell_type": "code",
   "execution_count": 2,
   "metadata": {},
   "outputs": [],
   "source": [
    "course_chapter_items_df = pd.read_csv('./data/course_chapter_items.csv')\n",
    "course_df = pd.read_csv('./data/courses.csv')\n",
    "users_df = pd.read_csv('./data/users.csv')\n",
    "subgroups_df = pd.read_csv('./data/subgroups.csv')\n",
    "\n",
    "train_group_df = pd.read_csv('./data/train_group.csv')\n",
    "test_seen_group_df = pd.read_csv('./data/test_seen_group.csv')\n",
    "val_seen_group_df = pd.read_csv('./data/val_seen_group.csv')\n",
    "test_unseen_group_df = pd.read_csv('./data/test_unseen_group.csv')\n",
    "val_unseen_group_df = pd.read_csv('./data/val_unseen_group.csv')\n",
    "\n",
    "train_df = pd.read_csv('./data/train.csv')\n",
    "test_seen_df = pd.read_csv('./data/test_seen.csv')\n",
    "val_seen_df = pd.read_csv('./data/val_seen.csv')\n",
    "test_unseen_df = pd.read_csv('./data/test_unseen.csv')\n",
    "val_unseen_df = pd.read_csv('./data/val_unseen.csv')"
   ]
  },
  {
   "cell_type": "code",
   "execution_count": 3,
   "metadata": {},
   "outputs": [],
   "source": [
    "def check_row_number_with_unique_amount(df, df_name, column):\n",
    "    nrow = df.shape[0]\n",
    "    nunique = pd.unique(df.loc[:,column]).shape[0]\n",
    "    msg = f'dataframe {df_name} row number != unique {column} amount'\n",
    "    assert nrow == nunique, msg\n",
    "    print(f'dataframe {df_name} row number == unique {column} amount ({nrow} == {nunique})')\n",
    "\n",
    "def check_unique_items_are_same_set(df1, df1_name, df1_column, df2, df2_name, df2_column):\n",
    "    df1_set = set(df1.loc[:,df1_column].to_list())\n",
    "    df2_set = set(df2.loc[:,df2_column].to_list())\n",
    "    diff = df1_set.symmetric_difference(df2_set)\n",
    "    msg = f'unique {df1_name}.{df1_column} & unique {df2_name}.{df2_column} are different'\n",
    "    assert len(diff) == 0, msg\n",
    "    print(f'unique {df1_name}.{df1_column} & unique {df2_name}.{df2_column} are the same')\n"
   ]
  },
  {
   "attachments": {},
   "cell_type": "markdown",
   "metadata": {},
   "source": [
    "# Use LightFM model dataset"
   ]
  },
  {
   "attachments": {},
   "cell_type": "markdown",
   "metadata": {},
   "source": [
    "## Build json file in format(\"user_id\", \"course_id\")"
   ]
  },
  {
   "cell_type": "code",
   "execution_count": 4,
   "metadata": {},
   "outputs": [
    {
     "name": "stdout",
     "output_type": "stream",
     "text": [
      "<class 'pandas.core.frame.DataFrame'>\n",
      "RangeIndex: 130566 entries, 0 to 130565\n",
      "Data columns (total 5 columns):\n",
      " #   Column             Non-Null Count   Dtype \n",
      "---  ------             --------------   ----- \n",
      " 0   user_id            130566 non-null  object\n",
      " 1   gender             85371 non-null   object\n",
      " 2   occupation_titles  29056 non-null   object\n",
      " 3   interests          82756 non-null   object\n",
      " 4   recreation_names   31935 non-null   object\n",
      "dtypes: object(5)\n",
      "memory usage: 5.0+ MB\n",
      "<class 'pandas.core.frame.DataFrame'>\n",
      "RangeIndex: 59737 entries, 0 to 59736\n",
      "Data columns (total 2 columns):\n",
      " #   Column     Non-Null Count  Dtype \n",
      "---  ------     --------------  ----- \n",
      " 0   user_id    59737 non-null  object\n",
      " 1   course_id  59737 non-null  object\n",
      "dtypes: object(2)\n",
      "memory usage: 933.5+ KB\n",
      "<class 'pandas.core.frame.DataFrame'>\n",
      "RangeIndex: 7748 entries, 0 to 7747\n",
      "Data columns (total 2 columns):\n",
      " #   Column     Non-Null Count  Dtype \n",
      "---  ------     --------------  ----- \n",
      " 0   user_id    7748 non-null   object\n",
      " 1   course_id  7748 non-null   object\n",
      "dtypes: object(2)\n",
      "memory usage: 121.2+ KB\n"
     ]
    }
   ],
   "source": [
    "users_df.info()\n",
    "train_df.info()\n",
    "val_seen_df.info()"
   ]
  },
  {
   "attachments": {},
   "cell_type": "markdown",
   "metadata": {},
   "source": [
    "### Build Train Data"
   ]
  },
  {
   "cell_type": "code",
   "execution_count": 5,
   "metadata": {},
   "outputs": [
    {
     "data": {
      "text/html": [
       "<div>\n",
       "<style scoped>\n",
       "    .dataframe tbody tr th:only-of-type {\n",
       "        vertical-align: middle;\n",
       "    }\n",
       "\n",
       "    .dataframe tbody tr th {\n",
       "        vertical-align: top;\n",
       "    }\n",
       "\n",
       "    .dataframe thead th {\n",
       "        text-align: right;\n",
       "    }\n",
       "</style>\n",
       "<table border=\"1\" class=\"dataframe\">\n",
       "  <thead>\n",
       "    <tr style=\"text-align: right;\">\n",
       "      <th></th>\n",
       "      <th>user_id</th>\n",
       "      <th>course_id</th>\n",
       "      <th>have_purchased</th>\n",
       "    </tr>\n",
       "  </thead>\n",
       "  <tbody>\n",
       "    <tr>\n",
       "      <th>0</th>\n",
       "      <td>54dca4456d7d350900e86bae</td>\n",
       "      <td>56f521864e3ef90900b82c12</td>\n",
       "      <td>1</td>\n",
       "    </tr>\n",
       "    <tr>\n",
       "      <th>1</th>\n",
       "      <td>54dca4456d7d350900e86bae</td>\n",
       "      <td>601d03e07e6747ef11bba066</td>\n",
       "      <td>1</td>\n",
       "    </tr>\n",
       "    <tr>\n",
       "      <th>2</th>\n",
       "      <td>54e421bac5c9c00900cd8d47</td>\n",
       "      <td>6030c9cd99e14cc2401e66b9</td>\n",
       "      <td>1</td>\n",
       "    </tr>\n",
       "    <tr>\n",
       "      <th>3</th>\n",
       "      <td>54e961d4c5c9c00900cd8d84</td>\n",
       "      <td>575045e7206cd60900c53085</td>\n",
       "      <td>1</td>\n",
       "    </tr>\n",
       "    <tr>\n",
       "      <th>4</th>\n",
       "      <td>54e961d4c5c9c00900cd8d84</td>\n",
       "      <td>6014e3a6910e49742061f87e</td>\n",
       "      <td>1</td>\n",
       "    </tr>\n",
       "    <tr>\n",
       "      <th>...</th>\n",
       "      <td>...</td>\n",
       "      <td>...</td>\n",
       "      <td>...</td>\n",
       "    </tr>\n",
       "    <tr>\n",
       "      <th>139603</th>\n",
       "      <td>62bd5edfc2d8b50006215c3c</td>\n",
       "      <td>60f83c44b355920006abbd3f</td>\n",
       "      <td>1</td>\n",
       "    </tr>\n",
       "    <tr>\n",
       "      <th>139604</th>\n",
       "      <td>62e09de8fc3d3500060d4211</td>\n",
       "      <td>5f7c209762ad22756c7a1c74</td>\n",
       "      <td>1</td>\n",
       "    </tr>\n",
       "    <tr>\n",
       "      <th>139605</th>\n",
       "      <td>62e09de8fc3d3500060d4211</td>\n",
       "      <td>5f7c210b1de7982fb413a3e9</td>\n",
       "      <td>1</td>\n",
       "    </tr>\n",
       "    <tr>\n",
       "      <th>139606</th>\n",
       "      <td>62e09de8fc3d3500060d4211</td>\n",
       "      <td>5f7c212262ad2203e77a1cc9</td>\n",
       "      <td>1</td>\n",
       "    </tr>\n",
       "    <tr>\n",
       "      <th>139607</th>\n",
       "      <td>6331648104ed0f000610dfd2</td>\n",
       "      <td>6014e3a6910e49742061f87e</td>\n",
       "      <td>1</td>\n",
       "    </tr>\n",
       "  </tbody>\n",
       "</table>\n",
       "<p>139608 rows × 3 columns</p>\n",
       "</div>"
      ],
      "text/plain": [
       "                         user_id                 course_id  have_purchased\n",
       "0       54dca4456d7d350900e86bae  56f521864e3ef90900b82c12               1\n",
       "1       54dca4456d7d350900e86bae  601d03e07e6747ef11bba066               1\n",
       "2       54e421bac5c9c00900cd8d47  6030c9cd99e14cc2401e66b9               1\n",
       "3       54e961d4c5c9c00900cd8d84  575045e7206cd60900c53085               1\n",
       "4       54e961d4c5c9c00900cd8d84  6014e3a6910e49742061f87e               1\n",
       "...                          ...                       ...             ...\n",
       "139603  62bd5edfc2d8b50006215c3c  60f83c44b355920006abbd3f               1\n",
       "139604  62e09de8fc3d3500060d4211  5f7c209762ad22756c7a1c74               1\n",
       "139605  62e09de8fc3d3500060d4211  5f7c210b1de7982fb413a3e9               1\n",
       "139606  62e09de8fc3d3500060d4211  5f7c212262ad2203e77a1cc9               1\n",
       "139607  6331648104ed0f000610dfd2  6014e3a6910e49742061f87e               1\n",
       "\n",
       "[139608 rows x 3 columns]"
      ]
     },
     "execution_count": 5,
     "metadata": {},
     "output_type": "execute_result"
    }
   ],
   "source": [
    "train_data_df = train_df\n",
    "train_data_df['course_id'] = train_df['course_id'].apply(lambda x: [i for i in x.split(' ')])\n",
    "train_data_df.set_index('user_id')['course_id'].apply(pd.Series).reset_index()\n",
    "\n",
    "data_train_split = pd.melt(train_data_df.set_index('user_id')['course_id'].apply(pd.Series).reset_index(), \n",
    "             id_vars=['user_id'],\n",
    "             value_name='course_id') \\\n",
    "    .dropna().drop(['variable'], axis=1) \\\n",
    "    .groupby(['user_id', 'course_id']) \\\n",
    "    .agg({'course_id': 'count'}) \\\n",
    "    .rename(columns={'course_id': 'have_purchased'}) \\\n",
    "    .reset_index() \\\n",
    "    .rename(columns={'course_id': 'course_id'})\n",
    "\n",
    "data_train_split"
   ]
  },
  {
   "attachments": {},
   "cell_type": "markdown",
   "metadata": {},
   "source": [
    "### Build Valid Data"
   ]
  },
  {
   "cell_type": "code",
   "execution_count": 6,
   "metadata": {},
   "outputs": [
    {
     "data": {
      "text/html": [
       "<div>\n",
       "<style scoped>\n",
       "    .dataframe tbody tr th:only-of-type {\n",
       "        vertical-align: middle;\n",
       "    }\n",
       "\n",
       "    .dataframe tbody tr th {\n",
       "        vertical-align: top;\n",
       "    }\n",
       "\n",
       "    .dataframe thead th {\n",
       "        text-align: right;\n",
       "    }\n",
       "</style>\n",
       "<table border=\"1\" class=\"dataframe\">\n",
       "  <thead>\n",
       "    <tr style=\"text-align: right;\">\n",
       "      <th></th>\n",
       "      <th>user_id</th>\n",
       "      <th>course_id</th>\n",
       "      <th>have_purchased</th>\n",
       "    </tr>\n",
       "  </thead>\n",
       "  <tbody>\n",
       "    <tr>\n",
       "      <th>0</th>\n",
       "      <td>54e961d4c5c9c00900cd8d84</td>\n",
       "      <td>5b3b080baa5ff8001e22316e</td>\n",
       "      <td>1</td>\n",
       "    </tr>\n",
       "    <tr>\n",
       "      <th>1</th>\n",
       "      <td>54e961d4c5c9c00900cd8d84</td>\n",
       "      <td>5e2a980ee3832b00247239d0</td>\n",
       "      <td>1</td>\n",
       "    </tr>\n",
       "    <tr>\n",
       "      <th>2</th>\n",
       "      <td>54e961d4c5c9c00900cd8d84</td>\n",
       "      <td>60dd6d80638ed00aa99b5556</td>\n",
       "      <td>1</td>\n",
       "    </tr>\n",
       "    <tr>\n",
       "      <th>3</th>\n",
       "      <td>54ef34e2b839040f00016086</td>\n",
       "      <td>6156a77fdf426a0007cc5fe1</td>\n",
       "      <td>1</td>\n",
       "    </tr>\n",
       "    <tr>\n",
       "      <th>4</th>\n",
       "      <td>54ef3574b839040f00016090</td>\n",
       "      <td>5d42554a2fb5020020621025</td>\n",
       "      <td>1</td>\n",
       "    </tr>\n",
       "    <tr>\n",
       "      <th>...</th>\n",
       "      <td>...</td>\n",
       "      <td>...</td>\n",
       "      <td>...</td>\n",
       "    </tr>\n",
       "    <tr>\n",
       "      <th>17812</th>\n",
       "      <td>614d65d5e7a5df000756b5a4</td>\n",
       "      <td>5a0be0f7a15b3f001e9842ec</td>\n",
       "      <td>1</td>\n",
       "    </tr>\n",
       "    <tr>\n",
       "      <th>17813</th>\n",
       "      <td>614d65d5e7a5df000756b5a4</td>\n",
       "      <td>5ff2a7d52a0eb0da5d2c898d</td>\n",
       "      <td>1</td>\n",
       "    </tr>\n",
       "    <tr>\n",
       "      <th>17814</th>\n",
       "      <td>615982c5a40fbc0006377d7a</td>\n",
       "      <td>5e46b7f85b02f600245ade9b</td>\n",
       "      <td>1</td>\n",
       "    </tr>\n",
       "    <tr>\n",
       "      <th>17815</th>\n",
       "      <td>618b59cd152ad900060f4441</td>\n",
       "      <td>60dd6d80638ed00aa99b5556</td>\n",
       "      <td>1</td>\n",
       "    </tr>\n",
       "    <tr>\n",
       "      <th>17816</th>\n",
       "      <td>618b59cd152ad900060f4441</td>\n",
       "      <td>60fa9c7d1917300007734fd3</td>\n",
       "      <td>1</td>\n",
       "    </tr>\n",
       "  </tbody>\n",
       "</table>\n",
       "<p>17817 rows × 3 columns</p>\n",
       "</div>"
      ],
      "text/plain": [
       "                        user_id                 course_id  have_purchased\n",
       "0      54e961d4c5c9c00900cd8d84  5b3b080baa5ff8001e22316e               1\n",
       "1      54e961d4c5c9c00900cd8d84  5e2a980ee3832b00247239d0               1\n",
       "2      54e961d4c5c9c00900cd8d84  60dd6d80638ed00aa99b5556               1\n",
       "3      54ef34e2b839040f00016086  6156a77fdf426a0007cc5fe1               1\n",
       "4      54ef3574b839040f00016090  5d42554a2fb5020020621025               1\n",
       "...                         ...                       ...             ...\n",
       "17812  614d65d5e7a5df000756b5a4  5a0be0f7a15b3f001e9842ec               1\n",
       "17813  614d65d5e7a5df000756b5a4  5ff2a7d52a0eb0da5d2c898d               1\n",
       "17814  615982c5a40fbc0006377d7a  5e46b7f85b02f600245ade9b               1\n",
       "17815  618b59cd152ad900060f4441  60dd6d80638ed00aa99b5556               1\n",
       "17816  618b59cd152ad900060f4441  60fa9c7d1917300007734fd3               1\n",
       "\n",
       "[17817 rows x 3 columns]"
      ]
     },
     "execution_count": 6,
     "metadata": {},
     "output_type": "execute_result"
    }
   ],
   "source": [
    "val_seen_data_df = pd.read_csv('./data/val_seen.csv')\n",
    "val_seen_data_df['course_id'] = val_seen_df['course_id'].apply(lambda x: [i for i in x.split(' ')])\n",
    "val_seen_data_df.set_index('user_id')['course_id'].apply(pd.Series).reset_index()\n",
    "\n",
    "data_val_seen_split = pd.melt(val_seen_data_df.set_index('user_id')['course_id'].apply(pd.Series).reset_index(), \n",
    "             id_vars=['user_id'],\n",
    "             value_name='course_id') \\\n",
    "    .dropna().drop(['variable'], axis=1) \\\n",
    "    .groupby(['user_id', 'course_id']) \\\n",
    "    .agg({'course_id': 'count'}) \\\n",
    "    .rename(columns={'course_id': 'have_purchased'}) \\\n",
    "    .reset_index() \\\n",
    "    .rename(columns={'course_id': 'course_id'})\n",
    "\n",
    "data_val_seen_split"
   ]
  },
  {
   "cell_type": "code",
   "execution_count": 7,
   "metadata": {},
   "outputs": [
    {
     "data": {
      "text/html": [
       "<div>\n",
       "<style scoped>\n",
       "    .dataframe tbody tr th:only-of-type {\n",
       "        vertical-align: middle;\n",
       "    }\n",
       "\n",
       "    .dataframe tbody tr th {\n",
       "        vertical-align: top;\n",
       "    }\n",
       "\n",
       "    .dataframe thead th {\n",
       "        text-align: right;\n",
       "    }\n",
       "</style>\n",
       "<table border=\"1\" class=\"dataframe\">\n",
       "  <thead>\n",
       "    <tr style=\"text-align: right;\">\n",
       "      <th></th>\n",
       "      <th>user_id</th>\n",
       "      <th>course_id</th>\n",
       "      <th>have_purchased</th>\n",
       "    </tr>\n",
       "  </thead>\n",
       "  <tbody>\n",
       "    <tr>\n",
       "      <th>0</th>\n",
       "      <td>54dca4456d7d350900e86bae</td>\n",
       "      <td>56f521864e3ef90900b82c12</td>\n",
       "      <td>1</td>\n",
       "    </tr>\n",
       "    <tr>\n",
       "      <th>1</th>\n",
       "      <td>54dca4456d7d350900e86bae</td>\n",
       "      <td>601d03e07e6747ef11bba066</td>\n",
       "      <td>1</td>\n",
       "    </tr>\n",
       "    <tr>\n",
       "      <th>2</th>\n",
       "      <td>54e421bac5c9c00900cd8d47</td>\n",
       "      <td>6030c9cd99e14cc2401e66b9</td>\n",
       "      <td>1</td>\n",
       "    </tr>\n",
       "    <tr>\n",
       "      <th>3</th>\n",
       "      <td>54e961d4c5c9c00900cd8d84</td>\n",
       "      <td>575045e7206cd60900c53085</td>\n",
       "      <td>1</td>\n",
       "    </tr>\n",
       "    <tr>\n",
       "      <th>4</th>\n",
       "      <td>54e961d4c5c9c00900cd8d84</td>\n",
       "      <td>6014e3a6910e49742061f87e</td>\n",
       "      <td>1</td>\n",
       "    </tr>\n",
       "    <tr>\n",
       "      <th>...</th>\n",
       "      <td>...</td>\n",
       "      <td>...</td>\n",
       "      <td>...</td>\n",
       "    </tr>\n",
       "    <tr>\n",
       "      <th>157420</th>\n",
       "      <td>614d65d5e7a5df000756b5a4</td>\n",
       "      <td>5a0be0f7a15b3f001e9842ec</td>\n",
       "      <td>1</td>\n",
       "    </tr>\n",
       "    <tr>\n",
       "      <th>157421</th>\n",
       "      <td>614d65d5e7a5df000756b5a4</td>\n",
       "      <td>5ff2a7d52a0eb0da5d2c898d</td>\n",
       "      <td>1</td>\n",
       "    </tr>\n",
       "    <tr>\n",
       "      <th>157422</th>\n",
       "      <td>615982c5a40fbc0006377d7a</td>\n",
       "      <td>5e46b7f85b02f600245ade9b</td>\n",
       "      <td>1</td>\n",
       "    </tr>\n",
       "    <tr>\n",
       "      <th>157423</th>\n",
       "      <td>618b59cd152ad900060f4441</td>\n",
       "      <td>60dd6d80638ed00aa99b5556</td>\n",
       "      <td>1</td>\n",
       "    </tr>\n",
       "    <tr>\n",
       "      <th>157424</th>\n",
       "      <td>618b59cd152ad900060f4441</td>\n",
       "      <td>60fa9c7d1917300007734fd3</td>\n",
       "      <td>1</td>\n",
       "    </tr>\n",
       "  </tbody>\n",
       "</table>\n",
       "<p>157425 rows × 3 columns</p>\n",
       "</div>"
      ],
      "text/plain": [
       "                         user_id                 course_id  have_purchased\n",
       "0       54dca4456d7d350900e86bae  56f521864e3ef90900b82c12               1\n",
       "1       54dca4456d7d350900e86bae  601d03e07e6747ef11bba066               1\n",
       "2       54e421bac5c9c00900cd8d47  6030c9cd99e14cc2401e66b9               1\n",
       "3       54e961d4c5c9c00900cd8d84  575045e7206cd60900c53085               1\n",
       "4       54e961d4c5c9c00900cd8d84  6014e3a6910e49742061f87e               1\n",
       "...                          ...                       ...             ...\n",
       "157420  614d65d5e7a5df000756b5a4  5a0be0f7a15b3f001e9842ec               1\n",
       "157421  614d65d5e7a5df000756b5a4  5ff2a7d52a0eb0da5d2c898d               1\n",
       "157422  615982c5a40fbc0006377d7a  5e46b7f85b02f600245ade9b               1\n",
       "157423  618b59cd152ad900060f4441  60dd6d80638ed00aa99b5556               1\n",
       "157424  618b59cd152ad900060f4441  60fa9c7d1917300007734fd3               1\n",
       "\n",
       "[157425 rows x 3 columns]"
      ]
     },
     "execution_count": 7,
     "metadata": {},
     "output_type": "execute_result"
    }
   ],
   "source": [
    "data_train_val_df = pd.concat([data_train_split, data_val_seen_split], ignore_index=True)\n",
    "data_train_val_df"
   ]
  },
  {
   "attachments": {},
   "cell_type": "markdown",
   "metadata": {},
   "source": [
    "## Build dataset and Mapping"
   ]
  },
  {
   "cell_type": "code",
   "execution_count": 8,
   "metadata": {},
   "outputs": [
    {
     "name": "stderr",
     "output_type": "stream",
     "text": [
      "c:\\Users\\USER\\anaconda3\\envs\\python3.9.15\\lib\\site-packages\\lightfm\\_lightfm_fast.py:9: UserWarning: LightFM was compiled without OpenMP support. Only a single thread will be used.\n",
      "  warnings.warn(\n"
     ]
    }
   ],
   "source": [
    "import json\n",
    "from lightfm.data import Dataset\n",
    "\n",
    "dataset = Dataset()\n",
    "# use train and valid item ids\n",
    "dataset.fit((x for x in data_train_val_df['user_id']),\n",
    "            (x for x in data_train_val_df['course_id']))\n"
   ]
  },
  {
   "cell_type": "code",
   "execution_count": 9,
   "metadata": {},
   "outputs": [],
   "source": [
    "user_id_mapping, user_feature_mapping, item_id_mapping, item_feature_mapping = dataset.mapping()\n",
    "id_user_mapping = {v : k for k, v in user_id_mapping.items()}\n",
    "id_item_mapping = {v : k for k, v in item_id_mapping.items()}"
   ]
  },
  {
   "cell_type": "code",
   "execution_count": 10,
   "metadata": {},
   "outputs": [
    {
     "name": "stdout",
     "output_type": "stream",
     "text": [
      "Num users: 59737, num_items 698.\n"
     ]
    }
   ],
   "source": [
    "num_users, num_items = dataset.interactions_shape()\n",
    "print('Num users: {}, num_items {}.'.format(num_users, num_items))"
   ]
  },
  {
   "cell_type": "code",
   "execution_count": 11,
   "metadata": {},
   "outputs": [
    {
     "name": "stdout",
     "output_type": "stream",
     "text": [
      "<59737x698 sparse matrix of type '<class 'numpy.int32'>'\n",
      "\twith 139608 stored elements in COOrdinate format>\n",
      "<59737x698 sparse matrix of type '<class 'numpy.int32'>'\n",
      "\twith 17817 stored elements in COOrdinate format>\n",
      "<59737x698 sparse matrix of type '<class 'numpy.int32'>'\n",
      "\twith 157425 stored elements in COOrdinate format>\n"
     ]
    }
   ],
   "source": [
    "(training_data, weights_train) = dataset.build_interactions(((x, y) for x, y in zip(data_train_split['user_id'], data_train_split['course_id'])))\n",
    "(valid_data, weights_valid) = dataset.build_interactions(((x, y) for x, y in zip(data_val_seen_split['user_id'], data_val_seen_split['course_id'])))\n",
    "(valid_data_data, weights_all) = dataset.build_interactions(((x, y) for x, y in zip(data_train_val_df['user_id'], data_train_val_df['course_id'])))\n",
    "print(repr(training_data))\n",
    "print(repr(valid_data))\n",
    "print(repr(valid_data_data))"
   ]
  },
  {
   "cell_type": "code",
   "execution_count": 12,
   "metadata": {},
   "outputs": [],
   "source": [
    "user_item_matrix = weights_train.toarray()\n",
    "valid_user_item_matrix = weights_valid.toarray()\n",
    "all_user_item_matrix = weights_all.toarray()\n",
    "# for i in range(user_item_matrix.shape[0]):\n",
    "#     for j in range(user_item_matrix.shape[1]):\n",
    "#         if user_item_matrix[i][j]:\n",
    "#             print(f\"{id_user_mapping[i]}, {id_item_mapping[j]}\")"
   ]
  },
  {
   "attachments": {},
   "cell_type": "markdown",
   "metadata": {},
   "source": [
    "## Train"
   ]
  },
  {
   "cell_type": "code",
   "execution_count": 51,
   "metadata": {},
   "outputs": [
    {
     "name": "stderr",
     "output_type": "stream",
     "text": [
      "Epoch: 100%|██████████| 10/10 [00:02<00:00,  3.74it/s]\n"
     ]
    },
    {
     "data": {
      "text/plain": [
       "<lightfm.lightfm.LightFM at 0x27470356760>"
      ]
     },
     "execution_count": 51,
     "metadata": {},
     "output_type": "execute_result"
    }
   ],
   "source": [
    "from lightfm import LightFM\n",
    "\n",
    "model = LightFM(loss='warp', learning_rate=0.01)\n",
    "model.fit(training_data, epochs=100, num_threads=4, verbose=True)"
   ]
  },
  {
   "attachments": {},
   "cell_type": "markdown",
   "metadata": {},
   "source": [
    "## Evaluate"
   ]
  },
  {
   "cell_type": "code",
   "execution_count": 52,
   "metadata": {},
   "outputs": [
    {
     "name": "stdout",
     "output_type": "stream",
     "text": [
      "Precision: train 0.16198, test 0.02765.\n",
      "AUC: train 0.97910, test 0.53943.\n"
     ]
    }
   ],
   "source": [
    "from lightfm.evaluation import precision_at_k\n",
    "from lightfm.evaluation import auc_score\n",
    "\n",
    "\n",
    "train_precision = precision_at_k(model, training_data, k=10).mean()\n",
    "test_precision = precision_at_k(model, valid_data, k=10).mean()\n",
    "\n",
    "train_auc = auc_score(model, training_data).mean()\n",
    "test_auc = auc_score(model, valid_data).mean()\n",
    "\n",
    "print('Precision: train %.5f, test %.5f.' % (train_precision, test_precision))\n",
    "print('AUC: train %.5f, test %.5f.' % (train_auc, test_auc))"
   ]
  },
  {
   "attachments": {},
   "cell_type": "markdown",
   "metadata": {},
   "source": [
    "# Prediction"
   ]
  },
  {
   "cell_type": "code",
   "execution_count": 45,
   "metadata": {},
   "outputs": [
    {
     "name": "stdout",
     "output_type": "stream",
     "text": [
      "<class 'pandas.core.frame.DataFrame'>\n",
      "RangeIndex: 7205 entries, 0 to 7204\n",
      "Data columns (total 2 columns):\n",
      " #   Column     Non-Null Count  Dtype \n",
      "---  ------     --------------  ----- \n",
      " 0   user_id    7205 non-null   object\n",
      " 1   course_id  7205 non-null   object\n",
      "dtypes: object(2)\n",
      "memory usage: 112.7+ KB\n"
     ]
    }
   ],
   "source": [
    "#test_seen_df = pd.read_csv('./data/val_seen.csv')\n",
    "test_seen_df = pd.read_csv('./data/test_seen.csv')\n",
    "test_seen_df.info()"
   ]
  },
  {
   "cell_type": "code",
   "execution_count": 46,
   "metadata": {},
   "outputs": [],
   "source": [
    "test_id = test_seen_df[\"user_id\"].to_list()\n",
    "test_course = test_seen_df[\"course_id\"].to_list()\n",
    "test_seen_info = {}\n",
    "for id, course in zip(test_id, test_course):\n",
    "    test_seen_info[id] = course\n"
   ]
  },
  {
   "cell_type": "code",
   "execution_count": 47,
   "metadata": {},
   "outputs": [],
   "source": [
    "def sample_recommendation(model, user_ids, user_id, top = 5):\n",
    "     \n",
    "    recommend_list = []\n",
    "    recommend_list_items_id_list = []\n",
    "    for user_id in user_ids:\n",
    "        user_id_index = user_id_mapping[user_id]\n",
    "        scores = model.predict(user_id_index, np.arange(698))   # 698個subgroup\n",
    "    \n",
    "\n",
    "        top_items_index = np.argsort(-scores).tolist()\n",
    "        top_items = []\n",
    "        for item_index in top_items_index:\n",
    "            if len(top_items) < top:\n",
    "                if all_user_item_matrix[user_id_index][item_index] != 1:\n",
    "                    top_items.append(item_index)\n",
    "                    \n",
    "        recommend_list.append([id_item_mapping[x] for x in top_items])\n",
    "        recommend_list_items_id_list.append(top_items)\n",
    "    return recommend_list, recommend_list_items_id_list"
   ]
  },
  {
   "cell_type": "code",
   "execution_count": 48,
   "metadata": {},
   "outputs": [],
   "source": [
    "user_id = test_seen_df[\"user_id\"].to_dict()\n",
    "\n",
    "users_list =[]\n",
    "for i in range(len(user_id)):\n",
    "    users_list.append(user_id[i])"
   ]
  },
  {
   "cell_type": "code",
   "execution_count": 49,
   "metadata": {},
   "outputs": [],
   "source": [
    "recommend_list, recommend_list_items_id_list = sample_recommendation(model, users_list, user_id, top=50)  # test_seen_daf['user_id'].tolist()"
   ]
  },
  {
   "attachments": {},
   "cell_type": "markdown",
   "metadata": {},
   "source": [
    "## Save Prediction"
   ]
  },
  {
   "cell_type": "code",
   "execution_count": 50,
   "metadata": {},
   "outputs": [],
   "source": [
    "import csv\n",
    "with open(\"predict.csv\", \"w\") as f:\n",
    "    writer = csv.writer(f)\n",
    "    writer.writerow([\"user_id\", \"course_id\"])\n",
    "    for i in range(len(recommend_list)):\n",
    "        recommend = \" \".join(recommend_list[i])\n",
    "        writer.writerow([user_id[i], recommend])"
   ]
  },
  {
   "attachments": {},
   "cell_type": "markdown",
   "metadata": {},
   "source": [
    "## MAP 50 evaluate"
   ]
  },
  {
   "cell_type": "code",
   "execution_count": 30,
   "metadata": {},
   "outputs": [
    {
     "data": {
      "text/plain": [
       "0.013876812922004683"
      ]
     },
     "execution_count": 30,
     "metadata": {},
     "output_type": "execute_result"
    }
   ],
   "source": [
    "import ml_metrics\n",
    "predictions = recommend_list_items_id_list\n",
    "answers = []\n",
    "for user in users_list:\n",
    "    prediction = recommend_list_items_id_list\n",
    "    answer = []\n",
    "\n",
    "    user_index = user_id_mapping[user]\n",
    "    for item_index in range(valid_user_item_matrix.shape[1]):\n",
    "        if valid_user_item_matrix[user_index][item_index] == 1:\n",
    "            answer.append(item_index)\n",
    "    \n",
    "    answers.append(answer)\n",
    "        \n",
    "\n",
    "a = ml_metrics.mapk(predictions, answers, k = 50)\n",
    "a"
   ]
  },
  {
   "cell_type": "code",
   "execution_count": null,
   "metadata": {},
   "outputs": [],
   "source": [
    "predictions"
   ]
  },
  {
   "cell_type": "code",
   "execution_count": null,
   "metadata": {},
   "outputs": [],
   "source": [
    "print(predictions)"
   ]
  },
  {
   "cell_type": "code",
   "execution_count": null,
   "metadata": {},
   "outputs": [],
   "source": [
    "recommend_list_items_id_list"
   ]
  }
 ],
 "metadata": {
  "kernelspec": {
   "display_name": "Python 3",
   "language": "python",
   "name": "python3"
  },
  "language_info": {
   "codemirror_mode": {
    "name": "ipython",
    "version": 3
   },
   "file_extension": ".py",
   "mimetype": "text/x-python",
   "name": "python",
   "nbconvert_exporter": "python",
   "pygments_lexer": "ipython3",
   "version": "3.8.2 (default, Mar 13 2020, 10:14:16) \n[GCC 9.3.0]"
  },
  "orig_nbformat": 4,
  "vscode": {
   "interpreter": {
    "hash": "916dbcbb3f70747c44a77c7bcd40155683ae19c65e1c03b4aa3499c5328201f1"
   }
  }
 },
 "nbformat": 4,
 "nbformat_minor": 2
}
