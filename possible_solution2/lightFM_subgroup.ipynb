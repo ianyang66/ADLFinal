{
 "cells": [
  {
   "cell_type": "code",
   "execution_count": 1,
   "metadata": {},
   "outputs": [],
   "source": [
    "import matplotlib.pyplot as plt\n",
    "%matplotlib inline\n",
    "import pandas as pd\n",
    "import numpy as np\n",
    "from collections import Counter\n",
    "import seaborn as sns"
   ]
  },
  {
   "cell_type": "code",
   "execution_count": 2,
   "metadata": {},
   "outputs": [],
   "source": [
    "course_chapter_items_df = pd.read_csv('./data/course_chapter_items.csv')\n",
    "course_df = pd.read_csv('./data/courses.csv')\n",
    "users_df = pd.read_csv('./data/users.csv')\n",
    "subgroups_df = pd.read_csv('./data/subgroups.csv')\n",
    "\n",
    "train_group_df = pd.read_csv('./data/train_group.csv')\n",
    "test_seen_group_df = pd.read_csv('./data/test_seen_group.csv')\n",
    "val_seen_group_df = pd.read_csv('./data/val_seen_group.csv')\n",
    "test_unseen_group_df = pd.read_csv('./data/test_unseen_group.csv')\n",
    "val_unseen_group_df = pd.read_csv('./data/val_unseen_group.csv')\n",
    "\n",
    "train_df = pd.read_csv('./data/train.csv')\n",
    "test_seen_df = pd.read_csv('./data/test_seen.csv')\n",
    "val_seen_df = pd.read_csv('./data/val_seen.csv')\n",
    "test_unseen_df = pd.read_csv('./data/test_unseen.csv')\n",
    "val_unseen_df = pd.read_csv('./data/val_unseen.csv')"
   ]
  },
  {
   "cell_type": "code",
   "execution_count": 3,
   "metadata": {},
   "outputs": [],
   "source": [
    "def check_row_number_with_unique_amount(df, df_name, column):\n",
    "    nrow = df.shape[0]\n",
    "    nunique = pd.unique(df.loc[:,column]).shape[0]\n",
    "    msg = f'dataframe {df_name} row number != unique {column} amount'\n",
    "    assert nrow == nunique, msg\n",
    "    print(f'dataframe {df_name} row number == unique {column} amount ({nrow} == {nunique})')\n",
    "\n",
    "def check_unique_items_are_same_set(df1, df1_name, df1_column, df2, df2_name, df2_column):\n",
    "    df1_set = set(df1.loc[:,df1_column].to_list())\n",
    "    df2_set = set(df2.loc[:,df2_column].to_list())\n",
    "    diff = df1_set.symmetric_difference(df2_set)\n",
    "    msg = f'unique {df1_name}.{df1_column} & unique {df2_name}.{df2_column} are different'\n",
    "    assert len(diff) == 0, msg\n",
    "    print(f'unique {df1_name}.{df1_column} & unique {df2_name}.{df2_column} are the same')\n"
   ]
  },
  {
   "attachments": {},
   "cell_type": "markdown",
   "metadata": {},
   "source": [
    "## Use LightFM model dataset"
   ]
  },
  {
   "attachments": {},
   "cell_type": "markdown",
   "metadata": {},
   "source": [
    "### build json file in format(\"user_id\", \"subgroup\")"
   ]
  },
  {
   "cell_type": "code",
   "execution_count": 4,
   "metadata": {},
   "outputs": [],
   "source": [
    "# users_df -> user_id, interest\n",
    "# train_group -> user_id, subgroup"
   ]
  },
  {
   "attachments": {},
   "cell_type": "markdown",
   "metadata": {},
   "source": [
    "##### build {user_id : interest}"
   ]
  },
  {
   "cell_type": "code",
   "execution_count": 5,
   "metadata": {},
   "outputs": [
    {
     "name": "stdout",
     "output_type": "stream",
     "text": [
      "<class 'pandas.core.frame.DataFrame'>\n",
      "RangeIndex: 130566 entries, 0 to 130565\n",
      "Data columns (total 5 columns):\n",
      " #   Column             Non-Null Count   Dtype \n",
      "---  ------             --------------   ----- \n",
      " 0   user_id            130566 non-null  object\n",
      " 1   gender             85371 non-null   object\n",
      " 2   occupation_titles  29056 non-null   object\n",
      " 3   interests          82756 non-null   object\n",
      " 4   recreation_names   31935 non-null   object\n",
      "dtypes: object(5)\n",
      "memory usage: 5.0+ MB\n"
     ]
    }
   ],
   "source": [
    "users_df.info()"
   ]
  },
  {
   "cell_type": "code",
   "execution_count": 6,
   "metadata": {},
   "outputs": [
    {
     "data": {
      "text/plain": [
       "{'更多生活品味': 1,\n",
       " '護膚保養與化妝': 2,\n",
       " '平面設計': 3,\n",
       " '繪畫與插畫': 4,\n",
       " '電腦繪圖': 5,\n",
       " '應用設計': 6,\n",
       " '求職': 7,\n",
       " '英文': 8,\n",
       " '手作小物': 9,\n",
       " 'DJ': 10,\n",
       " '更多音樂': 11,\n",
       " '更多藝術': 12,\n",
       " '烹飪料理與甜點': 13,\n",
       " '壓力舒緩': 14,\n",
       " '運動': 15,\n",
       " '親子教育': 16,\n",
       " '手工印刷': 17,\n",
       " '手工書': 18,\n",
       " '動態攝影': 19,\n",
       " '素描': 20,\n",
       " '樂器': 21,\n",
       " '色彩學': 22,\n",
       " '字體設計': 23,\n",
       " '手寫字': 24,\n",
       " '動態設計': 25,\n",
       " '音樂理論': 26,\n",
       " '刺繡': 27,\n",
       " '日文': 28,\n",
       " '心靈成長與教育': 29,\n",
       " '音樂創作': 30,\n",
       " '氣球': 31,\n",
       " '程式入門': 32,\n",
       " '程式語言': 33,\n",
       " '網頁前端': 34,\n",
       " '文書處理': 35,\n",
       " '角色設計': 36,\n",
       " '資料彙整': 37,\n",
       " '介面設計': 38,\n",
       " '網頁設計': 39,\n",
       " '商業攝影': 40,\n",
       " '網站架設': 41,\n",
       " '更多程式': 42,\n",
       " '程式思維': 43,\n",
       " '手機程式開發': 44,\n",
       " '韓文': 45,\n",
       " '更多手作': 46,\n",
       " '更多語言': 47,\n",
       " '歐洲語言': 48,\n",
       " '人聲': 49,\n",
       " '個人品牌經營': 50,\n",
       " '更多職場技能': 51,\n",
       " '網頁後端': 52,\n",
       " '後製剪輯': 53,\n",
       " '產品設計': 54,\n",
       " '靈性發展': 55,\n",
       " '影視創作': 56,\n",
       " '資料科學': 57,\n",
       " '軟體程式開發與維護': 58,\n",
       " '職場溝通': 59,\n",
       " '表演藝術': 60,\n",
       " '創業': 61,\n",
       " '文學': 62,\n",
       " '區塊鏈': 63,\n",
       " '金融商品': 64,\n",
       " '文案': 65,\n",
       " '數位行銷': 66,\n",
       " '設計理論': 67,\n",
       " 'AI 人工智慧': 68,\n",
       " '投資觀念': 69,\n",
       " '理財': 70,\n",
       " '社會科學': 71,\n",
       " '社群行銷': 72,\n",
       " '影像創作': 73,\n",
       " '遊戲開發': 74,\n",
       " '程式理財': 75,\n",
       " '量化交易': 76,\n",
       " '更多設計': 77,\n",
       " '獨立接案': 78,\n",
       " '寵物': 79,\n",
       " '資訊安全': 80,\n",
       " '量化分析': 81,\n",
       " '數學': 82,\n",
       " '效率提升': 83,\n",
       " '居家': 84,\n",
       " '更多人文': 85,\n",
       " '攝影理論': 86,\n",
       " '數據分析': 87,\n",
       " '翻譯': 88,\n",
       " '模型': 89,\n",
       " '更多攝影': 90,\n",
       " '更多行銷': 91}"
      ]
     },
     "execution_count": 6,
     "metadata": {},
     "output_type": "execute_result"
    }
   ],
   "source": [
    "subgroups2idx = {}\n",
    "for (id, name) in zip(subgroups_df[\"subgroup_id\"], subgroups_df[\"subgroup_name\"]):\n",
    "    subgroups2idx.update({name: id})\n",
    "\n",
    "subgroups2idx"
   ]
  },
  {
   "cell_type": "code",
   "execution_count": 7,
   "metadata": {},
   "outputs": [],
   "source": [
    "df = users_df.fillna(\"None\")\n",
    "interest_df = df[\"interests\"]\n",
    "userid_df = df[\"user_id\"]\n",
    "\n",
    "users_list = []\n",
    "interest_list = []\n",
    "\n",
    "for id, interest in zip(userid_df, interest_df):\n",
    "    users_list.append(id)\n",
    "    interest_list.extend(interest.split(', '))"
   ]
  },
  {
   "cell_type": "code",
   "execution_count": 8,
   "metadata": {},
   "outputs": [
    {
     "data": {
      "text/plain": [
       "(130566, 130566)"
      ]
     },
     "execution_count": 8,
     "metadata": {},
     "output_type": "execute_result"
    }
   ],
   "source": [
    "len(users_list), len(interest_list)"
   ]
  },
  {
   "cell_type": "code",
   "execution_count": 9,
   "metadata": {},
   "outputs": [
    {
     "data": {
      "text/plain": [
       "('54ccaa73a784960a00948687',\n",
       " '職場技能_創業,藝術_電腦繪圖,設計_介面設計,設計_動態設計,設計_平面設計,投資理財_投資觀念,行銷_數位行銷,藝術_角色設計,藝術_繪畫與插畫,職場技能_個人品牌經營')"
      ]
     },
     "execution_count": 9,
     "metadata": {},
     "output_type": "execute_result"
    }
   ],
   "source": [
    "users_list[0], interest_list[0]"
   ]
  },
  {
   "cell_type": "code",
   "execution_count": 10,
   "metadata": {},
   "outputs": [],
   "source": [
    "user_info = dict(zip(users_list, interest_list))"
   ]
  },
  {
   "cell_type": "code",
   "execution_count": 12,
   "metadata": {},
   "outputs": [],
   "source": [
    "investment = [69, 70, 75, 76, 87]\n",
    "crypto_coin = [63, 64, 66]\n",
    "info = []\n",
    "a = {}\n",
    "for key in user_info.keys():\n",
    "    \n",
    "    if user_info[key] == \"None\":\n",
    "        user_info[key] = [0]\n",
    "        continue\n",
    "    \n",
    "    interests = user_info[key].split(\",\")\n",
    "    name_list = []\n",
    "    for interest in interests:\n",
    "        interest_name = interest.split(\"_\")[1]\n",
    "        if interest_name == \"篆刻\":\n",
    "            continue\n",
    "        if interest_name == \"西班牙文\":\n",
    "            name_list.append(47)\n",
    "            name_list.append(48)\n",
    "            continue\n",
    "        if interest_name == \"更多投資理財\":\n",
    "            name_list.append(id for id in investment)\n",
    "            name_list.append(81)\n",
    "            continue\n",
    "        if interest_name == \"比特幣\":\n",
    "            name_list.append(id for id in investment)\n",
    "            name_list.append(id for id in crypto_coin)\n",
    "            continue\n",
    "        name_list.append(subgroups2idx[interest_name])\n",
    "    # a.update({key:name for name in name_list})\n",
    "    # break\n",
    "    # a[\"user_id\"] = key\n",
    "    # a[\"interests\"] = name_list\n",
    "    a[key] = name_list\n",
    "    info.append(a)\n",
    "    # user_info[key] = name_list   "
   ]
  },
  {
   "cell_type": "code",
   "execution_count": 13,
   "metadata": {},
   "outputs": [],
   "source": [
    "df = pd.DataFrame(list(info[0].items()), columns=[\"user_id\", \"interests\"])"
   ]
  },
  {
   "cell_type": "code",
   "execution_count": 14,
   "metadata": {},
   "outputs": [
    {
     "data": {
      "text/html": [
       "<div>\n",
       "<style scoped>\n",
       "    .dataframe tbody tr th:only-of-type {\n",
       "        vertical-align: middle;\n",
       "    }\n",
       "\n",
       "    .dataframe tbody tr th {\n",
       "        vertical-align: top;\n",
       "    }\n",
       "\n",
       "    .dataframe thead th {\n",
       "        text-align: right;\n",
       "    }\n",
       "</style>\n",
       "<table border=\"1\" class=\"dataframe\">\n",
       "  <thead>\n",
       "    <tr style=\"text-align: right;\">\n",
       "      <th></th>\n",
       "      <th>user_id</th>\n",
       "      <th>interests</th>\n",
       "    </tr>\n",
       "  </thead>\n",
       "  <tbody>\n",
       "    <tr>\n",
       "      <th>0</th>\n",
       "      <td>54ccaa73a784960a00948687</td>\n",
       "      <td>61.0</td>\n",
       "    </tr>\n",
       "    <tr>\n",
       "      <th>1</th>\n",
       "      <td>54dca4456d7d350900e86bae</td>\n",
       "      <td>25.0</td>\n",
       "    </tr>\n",
       "    <tr>\n",
       "      <th>2</th>\n",
       "      <td>54e421bac5c9c00900cd8d47</td>\n",
       "      <td>3.0</td>\n",
       "    </tr>\n",
       "    <tr>\n",
       "      <th>3</th>\n",
       "      <td>54e961d4c5c9c00900cd8d84</td>\n",
       "      <td>70.0</td>\n",
       "    </tr>\n",
       "    <tr>\n",
       "      <th>4</th>\n",
       "      <td>54e9b744c5c9c00900cd8d8a</td>\n",
       "      <td>34.0</td>\n",
       "    </tr>\n",
       "  </tbody>\n",
       "</table>\n",
       "</div>"
      ],
      "text/plain": [
       "                    user_id  interests\n",
       "0  54ccaa73a784960a00948687       61.0\n",
       "1  54dca4456d7d350900e86bae       25.0\n",
       "2  54e421bac5c9c00900cd8d47        3.0\n",
       "3  54e961d4c5c9c00900cd8d84       70.0\n",
       "4  54e9b744c5c9c00900cd8d8a       34.0"
      ]
     },
     "execution_count": 14,
     "metadata": {},
     "output_type": "execute_result"
    }
   ],
   "source": [
    "pd.melt(frame=df.head().set_index('user_id')['interests'].apply(pd.Series).reset_index(), id_vars=['user_id'], value_name='interests').dropna().drop(['variable'], axis=1)[:5]"
   ]
  },
  {
   "cell_type": "code",
   "execution_count": 15,
   "metadata": {},
   "outputs": [],
   "source": [
    "train_df = train_group_df.fillna(\"0\")\n",
    "train_id = train_df[\"user_id\"].to_list()\n",
    "train_subgroup = train_df[\"subgroup\"].to_list()\n",
    "train_info = {}\n",
    "for id, subgroup in zip(train_id, train_subgroup):\n",
    "    train_info[id] = subgroup.split(' ')"
   ]
  },
  {
   "cell_type": "code",
   "execution_count": 16,
   "metadata": {},
   "outputs": [],
   "source": [
    "train_df = pd.DataFrame(list(train_info.items()), columns=[\"user_id\", \"subgroup\"])"
   ]
  },
  {
   "cell_type": "code",
   "execution_count": 17,
   "metadata": {},
   "outputs": [],
   "source": [
    "train_data = pd.melt(frame=train_df.set_index('user_id')['subgroup'].apply(pd.Series).reset_index(), id_vars=['user_id'], value_name='subgroup').dropna().drop(['variable'], axis=1)"
   ]
  },
  {
   "cell_type": "code",
   "execution_count": 18,
   "metadata": {},
   "outputs": [
    {
     "name": "stderr",
     "output_type": "stream",
     "text": [
      "c:\\Users\\User\\anaconda3\\envs\\adlfinalproject\\lib\\site-packages\\lightfm\\_lightfm_fast.py:9: UserWarning: LightFM was compiled without OpenMP support. Only a single thread will be used.\n",
      "  warnings.warn(\n"
     ]
    }
   ],
   "source": [
    "import json\n",
    "from lightfm.data import Dataset\n",
    "\n",
    "dataset = Dataset()\n",
    "dataset.fit((x for x in train_data['user_id']),\n",
    "            (x for x in train_data['subgroup']))"
   ]
  },
  {
   "cell_type": "code",
   "execution_count": 19,
   "metadata": {},
   "outputs": [
    {
     "name": "stdout",
     "output_type": "stream",
     "text": [
      "Num users: 59737, num_items 92.\n"
     ]
    }
   ],
   "source": [
    "num_users, num_items = dataset.interactions_shape()\n",
    "print('Num users: {}, num_items {}.'.format(num_users, num_items))"
   ]
  },
  {
   "cell_type": "code",
   "execution_count": 20,
   "metadata": {},
   "outputs": [
    {
     "name": "stdout",
     "output_type": "stream",
     "text": [
      "<59737x92 sparse matrix of type '<class 'numpy.int32'>'\n",
      "\twith 235302 stored elements in COOrdinate format>\n"
     ]
    }
   ],
   "source": [
    "(training_data, weights) = dataset.build_interactions(((x, y) for x, y in zip(train_data['user_id'], train_data['subgroup'])))\n",
    "\n",
    "print(repr(training_data))"
   ]
  },
  {
   "cell_type": "code",
   "execution_count": 21,
   "metadata": {},
   "outputs": [
    {
     "data": {
      "text/plain": [
       "<lightfm.lightfm.LightFM at 0x18da51654f0>"
      ]
     },
     "execution_count": 21,
     "metadata": {},
     "output_type": "execute_result"
    }
   ],
   "source": [
    "from lightfm import LightFM\n",
    "\n",
    "model = LightFM(loss='warp')\n",
    "model.fit(training_data, epochs=100, num_threads=1)"
   ]
  },
  {
   "attachments": {},
   "cell_type": "markdown",
   "metadata": {},
   "source": [
    "### Prediction"
   ]
  },
  {
   "cell_type": "code",
   "execution_count": 22,
   "metadata": {},
   "outputs": [
    {
     "name": "stdout",
     "output_type": "stream",
     "text": [
      "<class 'pandas.core.frame.DataFrame'>\n",
      "RangeIndex: 7205 entries, 0 to 7204\n",
      "Data columns (total 2 columns):\n",
      " #   Column    Non-Null Count  Dtype \n",
      "---  ------    --------------  ----- \n",
      " 0   user_id   7205 non-null   object\n",
      " 1   subgroup  7205 non-null   int64 \n",
      "dtypes: int64(1), object(1)\n",
      "memory usage: 112.7+ KB\n"
     ]
    }
   ],
   "source": [
    "test_seen_group_df.info()"
   ]
  },
  {
   "cell_type": "code",
   "execution_count": 23,
   "metadata": {},
   "outputs": [],
   "source": [
    "test_id = test_seen_group_df[\"user_id\"].to_list()\n",
    "test_subgroup = test_seen_group_df[\"subgroup\"].to_list()\n",
    "test_seen_info = {}\n",
    "for id, subgroup in zip(test_id, test_subgroup):\n",
    "    test_seen_info[id] = subgroup\n"
   ]
  },
  {
   "cell_type": "code",
   "execution_count": 24,
   "metadata": {},
   "outputs": [],
   "source": [
    "test_seen_daf = pd.DataFrame(list(test_seen_info.items()), columns=[\"user_id\", \"subgroup\"])"
   ]
  },
  {
   "cell_type": "code",
   "execution_count": 25,
   "metadata": {},
   "outputs": [
    {
     "data": {
      "text/html": [
       "<div>\n",
       "<style scoped>\n",
       "    .dataframe tbody tr th:only-of-type {\n",
       "        vertical-align: middle;\n",
       "    }\n",
       "\n",
       "    .dataframe tbody tr th {\n",
       "        vertical-align: top;\n",
       "    }\n",
       "\n",
       "    .dataframe thead th {\n",
       "        text-align: right;\n",
       "    }\n",
       "</style>\n",
       "<table border=\"1\" class=\"dataframe\">\n",
       "  <thead>\n",
       "    <tr style=\"text-align: right;\">\n",
       "      <th></th>\n",
       "      <th>user_id</th>\n",
       "      <th>subgroup</th>\n",
       "    </tr>\n",
       "  </thead>\n",
       "  <tbody>\n",
       "    <tr>\n",
       "      <th>0</th>\n",
       "      <td>5c6e7a8d6d180f002084a746</td>\n",
       "      <td>1</td>\n",
       "    </tr>\n",
       "    <tr>\n",
       "      <th>1</th>\n",
       "      <td>5e11926d54511e0d1440d024</td>\n",
       "      <td>1</td>\n",
       "    </tr>\n",
       "    <tr>\n",
       "      <th>2</th>\n",
       "      <td>59a1bbeb3ba5a507005d94bf</td>\n",
       "      <td>1</td>\n",
       "    </tr>\n",
       "    <tr>\n",
       "      <th>3</th>\n",
       "      <td>5a11254d516eb50051f99473</td>\n",
       "      <td>1</td>\n",
       "    </tr>\n",
       "    <tr>\n",
       "      <th>4</th>\n",
       "      <td>56702e0f13ef621200899d90</td>\n",
       "      <td>1</td>\n",
       "    </tr>\n",
       "    <tr>\n",
       "      <th>...</th>\n",
       "      <td>...</td>\n",
       "      <td>...</td>\n",
       "    </tr>\n",
       "    <tr>\n",
       "      <th>7200</th>\n",
       "      <td>5a181ca3152204001e1bf92b</td>\n",
       "      <td>1</td>\n",
       "    </tr>\n",
       "    <tr>\n",
       "      <th>7201</th>\n",
       "      <td>59c4b97840fc9f001e640b09</td>\n",
       "      <td>1</td>\n",
       "    </tr>\n",
       "    <tr>\n",
       "      <th>7202</th>\n",
       "      <td>5f998423f92f815dbbeb9130</td>\n",
       "      <td>1</td>\n",
       "    </tr>\n",
       "    <tr>\n",
       "      <th>7203</th>\n",
       "      <td>5a115497516eb50051f99539</td>\n",
       "      <td>1</td>\n",
       "    </tr>\n",
       "    <tr>\n",
       "      <th>7204</th>\n",
       "      <td>586e277fa8aae907000cd7c0</td>\n",
       "      <td>1</td>\n",
       "    </tr>\n",
       "  </tbody>\n",
       "</table>\n",
       "<p>7205 rows × 2 columns</p>\n",
       "</div>"
      ],
      "text/plain": [
       "                       user_id  subgroup\n",
       "0     5c6e7a8d6d180f002084a746         1\n",
       "1     5e11926d54511e0d1440d024         1\n",
       "2     59a1bbeb3ba5a507005d94bf         1\n",
       "3     5a11254d516eb50051f99473         1\n",
       "4     56702e0f13ef621200899d90         1\n",
       "...                        ...       ...\n",
       "7200  5a181ca3152204001e1bf92b         1\n",
       "7201  59c4b97840fc9f001e640b09         1\n",
       "7202  5f998423f92f815dbbeb9130         1\n",
       "7203  5a115497516eb50051f99539         1\n",
       "7204  586e277fa8aae907000cd7c0         1\n",
       "\n",
       "[7205 rows x 2 columns]"
      ]
     },
     "execution_count": 25,
     "metadata": {},
     "output_type": "execute_result"
    }
   ],
   "source": [
    "test_seen_daf"
   ]
  },
  {
   "attachments": {},
   "cell_type": "markdown",
   "metadata": {},
   "source": [
    "#### test_seen dataset bulid"
   ]
  },
  {
   "cell_type": "code",
   "execution_count": 26,
   "metadata": {},
   "outputs": [],
   "source": [
    "testseen_dataset = Dataset()\n",
    "testseen_dataset.fit((x for x in test_seen_daf['user_id']),\n",
    "            (x for x in test_seen_daf['subgroup']))"
   ]
  },
  {
   "cell_type": "code",
   "execution_count": 27,
   "metadata": {},
   "outputs": [
    {
     "name": "stdout",
     "output_type": "stream",
     "text": [
      "<7205x1 sparse matrix of type '<class 'numpy.int32'>'\n",
      "\twith 7205 stored elements in COOrdinate format>\n"
     ]
    }
   ],
   "source": [
    "(test_data, weights) = testseen_dataset.build_interactions(((x, y) for x, y in zip(test_seen_daf['user_id'], test_seen_daf['subgroup'])))\n",
    "\n",
    "print(repr(test_data))"
   ]
  },
  {
   "cell_type": "code",
   "execution_count": 28,
   "metadata": {},
   "outputs": [],
   "source": [
    "def sample_recommendation(model, data, user_ids, user_id):\n",
    "     \n",
    "    recommend_list = []\n",
    "    for user_id in user_ids:\n",
    "        # known_positives = data['item_labels'][data['train'].tocsr()[user_id].indices]\n",
    "        \n",
    "        scores = model.predict(user_id, np.arange(91))   # 91個subgroup\n",
    "        # print(scores)\n",
    "        top_items = subgroups_df[\"subgroup_id\"][np.argsort(-scores)]\n",
    "        \n",
    "        # print(\"User %s\" % user_id)\n",
    "\n",
    "        # print(\"     Recommended:\")\n",
    "            \n",
    "        recommend_list.append([str(x) for x in top_items[:4]])\n",
    "        \n",
    "    return recommend_list"
   ]
  },
  {
   "cell_type": "code",
   "execution_count": 29,
   "metadata": {},
   "outputs": [],
   "source": [
    "user_id = test_seen_group_df[\"user_id\"].to_dict()\n",
    "\n",
    "users_list =[]\n",
    "for i in range(len(user_id)):\n",
    "    users_list.append(i)"
   ]
  },
  {
   "cell_type": "code",
   "execution_count": null,
   "metadata": {},
   "outputs": [],
   "source": [
    "recommend_list = sample_recommendation(model, test_data, users_list, user_id)  # test_seen_daf['user_id'].tolist()"
   ]
  },
  {
   "cell_type": "code",
   "execution_count": 31,
   "metadata": {},
   "outputs": [],
   "source": [
    "import csv\n",
    "with open(\"predict.csv\", \"w\") as f:\n",
    "    writer = csv.writer(f)\n",
    "    writer.writerow([\"user_id\", \"subgroup\"])\n",
    "    for i in range(len(recommend_list)):\n",
    "        recommend = \" \".join(recommend_list[i])\n",
    "        writer.writerow([user_id[i], recommend])"
   ]
  }
 ],
 "metadata": {
  "kernelspec": {
   "display_name": "Python 3.9.15 ('adlfinalproject')",
   "language": "python",
   "name": "python3"
  },
  "language_info": {
   "codemirror_mode": {
    "name": "ipython",
    "version": 3
   },
   "file_extension": ".py",
   "mimetype": "text/x-python",
   "name": "python",
   "nbconvert_exporter": "python",
   "pygments_lexer": "ipython3",
   "version": "3.9.15"
  },
  "orig_nbformat": 4,
  "vscode": {
   "interpreter": {
    "hash": "29952326f5a794bc1ec1f983959a9f979957f665910de234dba1deaf4eac87f2"
   }
  }
 },
 "nbformat": 4,
 "nbformat_minor": 2
}
